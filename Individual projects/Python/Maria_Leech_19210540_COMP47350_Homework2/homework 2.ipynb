{
 "cells": [
  {
   "cell_type": "code",
   "execution_count": 1,
   "id": "laden-geometry",
   "metadata": {},
   "outputs": [],
   "source": [
    "import pandas as pd\n",
    "import numpy as np\n",
    "import seaborn as sns\n",
    "import matplotlib.pyplot as plt\n",
    "import matplotlib.patches as mpatches\n",
    "\n",
    "from patsy import dmatrices\n",
    "\n",
    "from sklearn.linear_model import LinearRegression\n",
    "from sklearn.linear_model import LogisticRegression\n",
    "from sklearn.tree import DecisionTreeClassifier\n",
    "from sklearn.ensemble import RandomForestClassifier\n",
    "from sklearn.model_selection import train_test_split\n",
    "from sklearn import metrics\n",
    "from sklearn.model_selection import cross_validate\n",
    "from sklearn.model_selection import cross_val_score\n",
    "from sklearn.tree import export_graphviz\n",
    "from sklearn import tree\n",
    "\n",
    "import graphviz\n",
    "from graphviz import Source\n",
    "\n",
    "# ignore warnings\n",
    "import warnings\n",
    "warnings.filterwarnings('ignore')"
   ]
  },
  {
   "cell_type": "code",
   "execution_count": 2,
   "id": "whole-brighton",
   "metadata": {},
   "outputs": [
    {
     "data": {
      "text/html": [
       "<div>\n",
       "<style scoped>\n",
       "    .dataframe tbody tr th:only-of-type {\n",
       "        vertical-align: middle;\n",
       "    }\n",
       "\n",
       "    .dataframe tbody tr th {\n",
       "        vertical-align: top;\n",
       "    }\n",
       "\n",
       "    .dataframe thead th {\n",
       "        text-align: right;\n",
       "    }\n",
       "</style>\n",
       "<table border=\"1\" class=\"dataframe\">\n",
       "  <thead>\n",
       "    <tr style=\"text-align: right;\">\n",
       "      <th></th>\n",
       "      <th>current_status</th>\n",
       "      <th>sex</th>\n",
       "      <th>age_group</th>\n",
       "      <th>race_ethnicity_combined</th>\n",
       "      <th>hosp_yn</th>\n",
       "      <th>icu_yn</th>\n",
       "      <th>death_yn</th>\n",
       "      <th>medcond_yn</th>\n",
       "    </tr>\n",
       "  </thead>\n",
       "  <tbody>\n",
       "    <tr>\n",
       "      <th>0</th>\n",
       "      <td>Laboratory-confirmed case</td>\n",
       "      <td>Female</td>\n",
       "      <td>60 - 69 Years</td>\n",
       "      <td>White, Non-Hispanic</td>\n",
       "      <td>No</td>\n",
       "      <td>No</td>\n",
       "      <td>No</td>\n",
       "      <td>Unknown</td>\n",
       "    </tr>\n",
       "    <tr>\n",
       "      <th>1</th>\n",
       "      <td>Laboratory-confirmed case</td>\n",
       "      <td>Female</td>\n",
       "      <td>0 - 9 Years</td>\n",
       "      <td>Hispanic/Latino</td>\n",
       "      <td>No</td>\n",
       "      <td>No</td>\n",
       "      <td>No</td>\n",
       "      <td>Yes</td>\n",
       "    </tr>\n",
       "    <tr>\n",
       "      <th>2</th>\n",
       "      <td>Laboratory-confirmed case</td>\n",
       "      <td>Female</td>\n",
       "      <td>20 - 29 Years</td>\n",
       "      <td>Unknown</td>\n",
       "      <td>No</td>\n",
       "      <td>No</td>\n",
       "      <td>No</td>\n",
       "      <td>Unknown</td>\n",
       "    </tr>\n",
       "    <tr>\n",
       "      <th>3</th>\n",
       "      <td>Laboratory-confirmed case</td>\n",
       "      <td>Male</td>\n",
       "      <td>20 - 29 Years</td>\n",
       "      <td>White, Non-Hispanic</td>\n",
       "      <td>No</td>\n",
       "      <td>No</td>\n",
       "      <td>No</td>\n",
       "      <td>Unknown</td>\n",
       "    </tr>\n",
       "    <tr>\n",
       "      <th>4</th>\n",
       "      <td>Laboratory-confirmed case</td>\n",
       "      <td>Female</td>\n",
       "      <td>70 - 79 Years</td>\n",
       "      <td>Unknown</td>\n",
       "      <td>Yes</td>\n",
       "      <td>Yes</td>\n",
       "      <td>No</td>\n",
       "      <td>Unknown</td>\n",
       "    </tr>\n",
       "  </tbody>\n",
       "</table>\n",
       "</div>"
      ],
      "text/plain": [
       "              current_status     sex      age_group race_ethnicity_combined  \\\n",
       "0  Laboratory-confirmed case  Female  60 - 69 Years     White, Non-Hispanic   \n",
       "1  Laboratory-confirmed case  Female    0 - 9 Years         Hispanic/Latino   \n",
       "2  Laboratory-confirmed case  Female  20 - 29 Years                 Unknown   \n",
       "3  Laboratory-confirmed case    Male  20 - 29 Years     White, Non-Hispanic   \n",
       "4  Laboratory-confirmed case  Female  70 - 79 Years                 Unknown   \n",
       "\n",
       "  hosp_yn icu_yn death_yn medcond_yn  \n",
       "0      No     No       No    Unknown  \n",
       "1      No     No       No        Yes  \n",
       "2      No     No       No    Unknown  \n",
       "3      No     No       No    Unknown  \n",
       "4     Yes    Yes       No    Unknown  "
      ]
     },
     "execution_count": 2,
     "metadata": {},
     "output_type": "execute_result"
    }
   ],
   "source": [
    "# Reading in the csv file\n",
    "df = pd.read_csv('19210540_05052021.csv', keep_default_na=True, sep=',\\s+', delimiter=',', skipinitialspace=True)\n",
    "# Show data frame first few rows\n",
    "df.head()"
   ]
  },
  {
   "cell_type": "markdown",
   "id": "impaired-village",
   "metadata": {},
   "source": [
    "# 1.1 Randomly shuffle and split data for training and testing"
   ]
  },
  {
   "cell_type": "markdown",
   "id": "artistic-aluminum",
   "metadata": {},
   "source": [
    "<li>Below I am setting the target feature death_yn to the y variable.</li>\n",
    "<li>the X variable is being set to every other column.</li>"
   ]
  },
  {
   "cell_type": "code",
   "execution_count": 3,
   "id": "accepted-karma",
   "metadata": {},
   "outputs": [],
   "source": [
    "y = pd.DataFrame(df[\"death_yn\"])\n",
    "X = df.drop([\"death_yn\"],1)"
   ]
  },
  {
   "cell_type": "markdown",
   "id": "static-going",
   "metadata": {},
   "source": [
    "This code is splitting the data into a 70% training dataset and a 30% test set. The random_state parameter is set to one so that the datasets are randomly shuffled.<br>\n",
    "This shows the number of data rows in each of the data frames we are using.\n",
    "<li>The original data frame</li>\n",
    "<li>The new training data frame</li>\n",
    "<li>The new test data frame</li>\n"
   ]
  },
  {
   "cell_type": "code",
   "execution_count": 4,
   "id": "suspected-buying",
   "metadata": {},
   "outputs": [
    {
     "name": "stdout",
     "output_type": "stream",
     "text": [
      "original range is:  9907\n",
      "training range (70%):\t rows 0 to 6934\n",
      "test range (30%): \t rows 6934 to 9907\n"
     ]
    }
   ],
   "source": [
    "#Split the data into trainig data and test data 70:30\n",
    "X_train, X_test, y_train, y_test = train_test_split(X, y, test_size=0.3, random_state=1,shuffle=True)\n",
    "print(\"original range is: \",df.shape[0])\n",
    "print(\"training range (70%):\\t rows 0 to\", round(X_train.shape[0]))\n",
    "print(\"test range (30%): \\t rows\", round(X_train.shape[0]), \"to\", round(X_train.shape[0]) + X_test.shape[0])"
   ]
  },
  {
   "cell_type": "markdown",
   "id": "resident-musician",
   "metadata": {},
   "source": [
    "# 1.2  Plot categorical pairwise interaction with target feature"
   ]
  },
  {
   "cell_type": "markdown",
   "id": "mechanical-cooperative",
   "metadata": {},
   "source": [
    "Next, I will plot each of the independent variables against the target feature. Each plot will be based on the training data set."
   ]
  },
  {
   "cell_type": "code",
   "execution_count": 5,
   "id": "dental-diana",
   "metadata": {},
   "outputs": [
    {
     "data": {
      "text/html": [
       "<div>\n",
       "<style scoped>\n",
       "    .dataframe tbody tr th:only-of-type {\n",
       "        vertical-align: middle;\n",
       "    }\n",
       "\n",
       "    .dataframe tbody tr th {\n",
       "        vertical-align: top;\n",
       "    }\n",
       "\n",
       "    .dataframe thead th {\n",
       "        text-align: right;\n",
       "    }\n",
       "</style>\n",
       "<table border=\"1\" class=\"dataframe\">\n",
       "  <thead>\n",
       "    <tr style=\"text-align: right;\">\n",
       "      <th></th>\n",
       "      <th>current_status</th>\n",
       "      <th>sex</th>\n",
       "      <th>age_group</th>\n",
       "      <th>race_ethnicity_combined</th>\n",
       "      <th>hosp_yn</th>\n",
       "      <th>icu_yn</th>\n",
       "      <th>medcond_yn</th>\n",
       "      <th>death_yn</th>\n",
       "    </tr>\n",
       "  </thead>\n",
       "  <tbody>\n",
       "    <tr>\n",
       "      <th>5444</th>\n",
       "      <td>Laboratory-confirmed case</td>\n",
       "      <td>Female</td>\n",
       "      <td>60 - 69 Years</td>\n",
       "      <td>White, Non-Hispanic</td>\n",
       "      <td>No</td>\n",
       "      <td>No</td>\n",
       "      <td>Unknown</td>\n",
       "      <td>No</td>\n",
       "    </tr>\n",
       "    <tr>\n",
       "      <th>6202</th>\n",
       "      <td>Laboratory-confirmed case</td>\n",
       "      <td>Male</td>\n",
       "      <td>80+ Years</td>\n",
       "      <td>White, Non-Hispanic</td>\n",
       "      <td>No</td>\n",
       "      <td>No</td>\n",
       "      <td>Yes</td>\n",
       "      <td>No</td>\n",
       "    </tr>\n",
       "    <tr>\n",
       "      <th>3261</th>\n",
       "      <td>Laboratory-confirmed case</td>\n",
       "      <td>Female</td>\n",
       "      <td>60 - 69 Years</td>\n",
       "      <td>Unknown</td>\n",
       "      <td>Unknown</td>\n",
       "      <td>Unknown</td>\n",
       "      <td>Unknown</td>\n",
       "      <td>No</td>\n",
       "    </tr>\n",
       "    <tr>\n",
       "      <th>8605</th>\n",
       "      <td>Laboratory-confirmed case</td>\n",
       "      <td>Female</td>\n",
       "      <td>20 - 29 Years</td>\n",
       "      <td>Unknown</td>\n",
       "      <td>Unknown</td>\n",
       "      <td>Unknown</td>\n",
       "      <td>Unknown</td>\n",
       "      <td>No</td>\n",
       "    </tr>\n",
       "    <tr>\n",
       "      <th>8720</th>\n",
       "      <td>Probable Case</td>\n",
       "      <td>Female</td>\n",
       "      <td>20 - 29 Years</td>\n",
       "      <td>Unknown</td>\n",
       "      <td>Unknown</td>\n",
       "      <td>Unknown</td>\n",
       "      <td>Unknown</td>\n",
       "      <td>No</td>\n",
       "    </tr>\n",
       "  </tbody>\n",
       "</table>\n",
       "</div>"
      ],
      "text/plain": [
       "                 current_status     sex      age_group  \\\n",
       "5444  Laboratory-confirmed case  Female  60 - 69 Years   \n",
       "6202  Laboratory-confirmed case    Male      80+ Years   \n",
       "3261  Laboratory-confirmed case  Female  60 - 69 Years   \n",
       "8605  Laboratory-confirmed case  Female  20 - 29 Years   \n",
       "8720              Probable Case  Female  20 - 29 Years   \n",
       "\n",
       "     race_ethnicity_combined  hosp_yn   icu_yn medcond_yn death_yn  \n",
       "5444     White, Non-Hispanic       No       No    Unknown       No  \n",
       "6202     White, Non-Hispanic       No       No        Yes       No  \n",
       "3261                 Unknown  Unknown  Unknown    Unknown       No  \n",
       "8605                 Unknown  Unknown  Unknown    Unknown       No  \n",
       "8720                 Unknown  Unknown  Unknown    Unknown       No  "
      ]
     },
     "execution_count": 5,
     "metadata": {},
     "output_type": "execute_result"
    }
   ],
   "source": [
    "test_df=pd.concat([X_test, y_test],axis=1)\n",
    "test_df.head()"
   ]
  },
  {
   "cell_type": "code",
   "execution_count": 6,
   "id": "neither-dream",
   "metadata": {},
   "outputs": [
    {
     "data": {
      "text/html": [
       "<div>\n",
       "<style scoped>\n",
       "    .dataframe tbody tr th:only-of-type {\n",
       "        vertical-align: middle;\n",
       "    }\n",
       "\n",
       "    .dataframe tbody tr th {\n",
       "        vertical-align: top;\n",
       "    }\n",
       "\n",
       "    .dataframe thead th {\n",
       "        text-align: right;\n",
       "    }\n",
       "</style>\n",
       "<table border=\"1\" class=\"dataframe\">\n",
       "  <thead>\n",
       "    <tr style=\"text-align: right;\">\n",
       "      <th></th>\n",
       "      <th>current_status</th>\n",
       "      <th>sex</th>\n",
       "      <th>age_group</th>\n",
       "      <th>race_ethnicity_combined</th>\n",
       "      <th>hosp_yn</th>\n",
       "      <th>icu_yn</th>\n",
       "      <th>medcond_yn</th>\n",
       "      <th>death_yn</th>\n",
       "    </tr>\n",
       "  </thead>\n",
       "  <tbody>\n",
       "    <tr>\n",
       "      <th>8952</th>\n",
       "      <td>Laboratory-confirmed case</td>\n",
       "      <td>Male</td>\n",
       "      <td>70 - 79 Years</td>\n",
       "      <td>Unknown</td>\n",
       "      <td>Unknown</td>\n",
       "      <td>Unknown</td>\n",
       "      <td>No</td>\n",
       "      <td>No</td>\n",
       "    </tr>\n",
       "    <tr>\n",
       "      <th>5483</th>\n",
       "      <td>Laboratory-confirmed case</td>\n",
       "      <td>Male</td>\n",
       "      <td>30 - 39 Years</td>\n",
       "      <td>Unknown</td>\n",
       "      <td>Unknown</td>\n",
       "      <td>Unknown</td>\n",
       "      <td>Unknown</td>\n",
       "      <td>No</td>\n",
       "    </tr>\n",
       "    <tr>\n",
       "      <th>2408</th>\n",
       "      <td>Laboratory-confirmed case</td>\n",
       "      <td>Male</td>\n",
       "      <td>40 - 49 Years</td>\n",
       "      <td>Multiple/Other, Non-Hispanic</td>\n",
       "      <td>Unknown</td>\n",
       "      <td>Unknown</td>\n",
       "      <td>Unknown</td>\n",
       "      <td>No</td>\n",
       "    </tr>\n",
       "    <tr>\n",
       "      <th>5704</th>\n",
       "      <td>Laboratory-confirmed case</td>\n",
       "      <td>Female</td>\n",
       "      <td>50 - 59 Years</td>\n",
       "      <td>Unknown</td>\n",
       "      <td>Unknown</td>\n",
       "      <td>Unknown</td>\n",
       "      <td>Unknown</td>\n",
       "      <td>No</td>\n",
       "    </tr>\n",
       "    <tr>\n",
       "      <th>9011</th>\n",
       "      <td>Laboratory-confirmed case</td>\n",
       "      <td>Male</td>\n",
       "      <td>80+ Years</td>\n",
       "      <td>White, Non-Hispanic</td>\n",
       "      <td>Yes</td>\n",
       "      <td>No</td>\n",
       "      <td>Yes</td>\n",
       "      <td>No</td>\n",
       "    </tr>\n",
       "  </tbody>\n",
       "</table>\n",
       "</div>"
      ],
      "text/plain": [
       "                 current_status     sex      age_group  \\\n",
       "8952  Laboratory-confirmed case    Male  70 - 79 Years   \n",
       "5483  Laboratory-confirmed case    Male  30 - 39 Years   \n",
       "2408  Laboratory-confirmed case    Male  40 - 49 Years   \n",
       "5704  Laboratory-confirmed case  Female  50 - 59 Years   \n",
       "9011  Laboratory-confirmed case    Male      80+ Years   \n",
       "\n",
       "           race_ethnicity_combined  hosp_yn   icu_yn medcond_yn death_yn  \n",
       "8952                       Unknown  Unknown  Unknown         No       No  \n",
       "5483                       Unknown  Unknown  Unknown    Unknown       No  \n",
       "2408  Multiple/Other, Non-Hispanic  Unknown  Unknown    Unknown       No  \n",
       "5704                       Unknown  Unknown  Unknown    Unknown       No  \n",
       "9011           White, Non-Hispanic      Yes       No        Yes       No  "
      ]
     },
     "execution_count": 6,
     "metadata": {},
     "output_type": "execute_result"
    }
   ],
   "source": [
    "train_df=pd.concat([X_train,y_train],axis=1)\n",
    "train_df.head()"
   ]
  },
  {
   "cell_type": "markdown",
   "id": "altered-marine",
   "metadata": {},
   "source": [
    "## Current status vs death_yn"
   ]
  },
  {
   "cell_type": "code",
   "execution_count": 7,
   "id": "stone-silicon",
   "metadata": {},
   "outputs": [
    {
     "data": {
      "image/png": "[encoded data removed]",
      "text/plain": [
       "<Figure size 432x288 with 1 Axes>"
      ]
     },
     "metadata": {
      "needs_background": "light"
     },
     "output_type": "display_data"
    }
   ],
   "source": [
    "#bar chart to see correlation between death and age group\n",
    "current_status_vs_death_yn=sns.countplot(x='death_yn',hue=\"current_status\",data=train_df)\n",
    "sns.set(rc={'figure.figsize':(15,8.27)})\n",
    "  \n",
    "# for legend text \n",
    "plt.setp(current_status_vs_death_yn.get_legend().get_texts(), fontsize='10')   \n",
    "  \n",
    "# for legend title \n",
    "plt.setp(current_status_vs_death_yn.get_legend().get_title(), fontsize='20')\n",
    "current_status_vs_death_yn.set_title(\"Current Status vs death_yn\", fontsize=20)\n",
    "plt.show() "
   ]
  },
  {
   "cell_type": "markdown",
   "id": "noble-zoning",
   "metadata": {},
   "source": [
    "This graph compares the number of deaths in this dataset that had confirmed cases of covid-19 and it shows that all deaths had a laboratory confirmed diagnosis. "
   ]
  },
  {
   "cell_type": "markdown",
   "id": "above-production",
   "metadata": {},
   "source": [
    "## Age_group vs  death_yn"
   ]
  },
  {
   "cell_type": "code",
   "execution_count": 8,
   "id": "sound-awareness",
   "metadata": {},
   "outputs": [
    {
     "data": {
      "image/png": "[encoded data removed]",
      "text/plain": [
       "<Figure size 1080x595.44 with 1 Axes>"
      ]
     },
     "metadata": {},
     "output_type": "display_data"
    }
   ],
   "source": [
    "#bar chart to see correlation between death and age group\n",
    "age_group_vs_death_yn=sns.countplot(x='death_yn',hue=\"age_group\",data=train_df)\n",
    "sns.set(rc={'figure.figsize':(15,8.27)})\n",
    "  \n",
    "# for legend text \n",
    "plt.setp(age_group_vs_death_yn.get_legend().get_texts(), fontsize='10')   \n",
    "  \n",
    "# for legend title \n",
    "plt.setp((age_group_vs_death_yn).get_legend().get_title(), fontsize='20')\n",
    "age_group_vs_death_yn.set_title(\"Age group vs Death_yn\", fontsize=20)\n",
    "plt.show() \n",
    "\n",
    "     "
   ]
  },
  {
   "cell_type": "markdown",
   "id": "invalid-impact",
   "metadata": {},
   "source": [
    "This graph compares the death rate with age group. The highest mortality rate is in those patients age 80+. If we look at the trend in age in the yes column we can see an upward trend of death as age increases. "
   ]
  },
  {
   "cell_type": "markdown",
   "id": "natural-theater",
   "metadata": {},
   "source": [
    "## sex vs death_yn"
   ]
  },
  {
   "cell_type": "code",
   "execution_count": 9,
   "id": "juvenile-wichita",
   "metadata": {},
   "outputs": [
    {
     "data": {
      "image/png": "[encoded data removed]",
      "text/plain": [
       "<Figure size 1080x595.44 with 1 Axes>"
      ]
     },
     "metadata": {},
     "output_type": "display_data"
    }
   ],
   "source": [
    "#bar chart to see correlation between death and age group\n",
    "sex_vs_death_yn=sns.countplot(x='death_yn',hue=\"sex\",data=train_df)\n",
    "  \n",
    "# for legend text \n",
    "plt.setp(sex_vs_death_yn.get_legend().get_texts(), fontsize='10')   \n",
    "  \n",
    "# for legend title \n",
    "plt.setp(sex_vs_death_yn.get_legend().get_title(), fontsize='20')\n",
    "sex_vs_death_yn.set_title(\"Sex vs death_yn\", fontsize=20)\n",
    "plt.show() "
   ]
  },
  {
   "cell_type": "code",
   "execution_count": 10,
   "id": "systematic-freight",
   "metadata": {},
   "outputs": [
    {
     "name": "stdout",
     "output_type": "stream",
     "text": [
      "Female    3630\n",
      "Male      3304\n",
      "Name: sex, dtype: int64\n"
     ]
    }
   ],
   "source": [
    "#Displays the individual count for each unique value for sex\n",
    "sex_counts = train_df[\"sex\"].value_counts()\n",
    "print(sex_counts)"
   ]
  },
  {
   "cell_type": "code",
   "execution_count": 11,
   "id": "warming-circular",
   "metadata": {},
   "outputs": [
    {
     "data": {
      "text/plain": [
       "sex     death_yn\n",
       "Female  No          3519\n",
       "        Yes          111\n",
       "Male    No          3174\n",
       "        Yes          130\n",
       "dtype: int64"
      ]
     },
     "execution_count": 11,
     "metadata": {},
     "output_type": "execute_result"
    }
   ],
   "source": [
    "death_count = train_df.groupby(['sex', 'death_yn']).size()\n",
    "death_count"
   ]
  },
  {
   "cell_type": "raw",
   "id": "previous-storage",
   "metadata": {},
   "source": [
    "This graph compares the death outcome based on gender and shows that males have a very slightly higher death rate than women. This would warrant further investigation as men are also less represented than women are in this dataset. "
   ]
  },
  {
   "cell_type": "markdown",
   "id": "moral-capability",
   "metadata": {},
   "source": [
    "## Race/ethnicity vs death_yn"
   ]
  },
  {
   "cell_type": "code",
   "execution_count": 12,
   "id": "coastal-hardwood",
   "metadata": {},
   "outputs": [
    {
     "data": {
      "image/png": "[encoded data removed]",
      "text/plain": [
       "<Figure size 1080x595.44 with 1 Axes>"
      ]
     },
     "metadata": {},
     "output_type": "display_data"
    }
   ],
   "source": [
    "#bar chart to see correlation between death and age group\n",
    "race_ethnicity_vs_death_yn=sns.countplot(x='death_yn',hue=\"race_ethnicity_combined\",data=train_df)\n",
    "sns.set(rc={'figure.figsize':(11.7,8.27)})\n",
    "  \n",
    "# for legend text \n",
    "plt.setp(race_ethnicity_vs_death_yn.get_legend().get_texts(), fontsize='10')   \n",
    "  \n",
    "# for legend title \n",
    "plt.legend(bbox_to_anchor=(1.05, 1), loc=2, borderaxespad=0.)\n",
    "plt.setp(race_ethnicity_vs_death_yn.get_legend().get_title(), fontsize='20')\n",
    "race_ethnicity_vs_death_yn.set_title(\"Comparing Death based on Race\", fontsize=20)\n",
    "plt.show() "
   ]
  },
  {
   "cell_type": "markdown",
   "id": "cognitive-sample",
   "metadata": {},
   "source": [
    "This graph compares the death rate with the race of the patient. It shows that there is a large portion of data where the race is unknown. White non-Hispanic patients have the highest death rate but also have the highest representation in the dataset of known race.<br>"
   ]
  },
  {
   "cell_type": "code",
   "execution_count": 13,
   "id": "first-organization",
   "metadata": {},
   "outputs": [
    {
     "name": "stdout",
     "output_type": "stream",
     "text": [
      "Unknown                                                 2850\n",
      "White, Non-Hispanic                                     2367\n",
      "Hispanic/Latino                                          650\n",
      "Black, Non-Hispanic                                      484\n",
      "Multiple/Other, Non-Hispanic                             346\n",
      "Asian, Non-Hispanic                                      178\n",
      "American Indian/Alaska Native, Non-Hispanic               41\n",
      "Native Hawaiian/Other Pacific Islander, Non-Hispanic      18\n",
      "Name: race_ethnicity_combined, dtype: int64\n"
     ]
    }
   ],
   "source": [
    "#Displays the individual count for each unique value for race\n",
    "race_counts = train_df[\"race_ethnicity_combined\"].value_counts()\n",
    "print(race_counts)"
   ]
  },
  {
   "cell_type": "code",
   "execution_count": 14,
   "id": "cloudy-column",
   "metadata": {},
   "outputs": [
    {
     "data": {
      "text/plain": [
       "race_ethnicity_combined                               death_yn\n",
       "American Indian/Alaska Native, Non-Hispanic           No            41\n",
       "Asian, Non-Hispanic                                   No           172\n",
       "                                                      Yes            6\n",
       "Black, Non-Hispanic                                   No           464\n",
       "                                                      Yes           20\n",
       "Hispanic/Latino                                       No           624\n",
       "                                                      Yes           26\n",
       "Multiple/Other, Non-Hispanic                          No           333\n",
       "                                                      Yes           13\n",
       "Native Hawaiian/Other Pacific Islander, Non-Hispanic  No            17\n",
       "                                                      Yes            1\n",
       "Unknown                                               No          2799\n",
       "                                                      Yes           51\n",
       "White, Non-Hispanic                                   No          2243\n",
       "                                                      Yes          124\n",
       "dtype: int64"
      ]
     },
     "execution_count": 14,
     "metadata": {},
     "output_type": "execute_result"
    }
   ],
   "source": [
    "race_count = train_df.groupby(['race_ethnicity_combined', 'death_yn']).size()\n",
    "race_count"
   ]
  },
  {
   "cell_type": "markdown",
   "id": "vulnerable-trainer",
   "metadata": {},
   "source": [
    "## Hospital admissions vs death_yn"
   ]
  },
  {
   "cell_type": "code",
   "execution_count": 15,
   "id": "incident-blond",
   "metadata": {},
   "outputs": [
    {
     "data": {
      "image/png": "[encoded data removed]",
      "text/plain": [
       "<Figure size 842.4x595.44 with 1 Axes>"
      ]
     },
     "metadata": {},
     "output_type": "display_data"
    }
   ],
   "source": [
    "#bar chart to see correlation between death and age group\n",
    "hospital_yn_vs_death_yn=sns.countplot(x='death_yn',hue=\"hosp_yn\",data=train_df)\n",
    "sns.set(rc={'figure.figsize':(11.7,8.27)})\n",
    "  \n",
    "# for legend text \n",
    "plt.setp(hospital_yn_vs_death_yn.get_legend().get_texts(), fontsize='10')   \n",
    "  \n",
    "# for legend title \n",
    "plt.setp(hospital_yn_vs_death_yn.get_legend().get_title(), fontsize='20')\n",
    "hospital_yn_vs_death_yn.set_title(\"Hospital Admissions vs Death_yn\", fontsize=20)\n",
    "plt.show() "
   ]
  },
  {
   "cell_type": "code",
   "execution_count": 16,
   "id": "blind-technician",
   "metadata": {},
   "outputs": [
    {
     "data": {
      "text/plain": [
       "No         5143\n",
       "Unknown    4089\n",
       "Yes         675\n",
       "Name: hosp_yn, dtype: int64"
      ]
     },
     "execution_count": 16,
     "metadata": {},
     "output_type": "execute_result"
    }
   ],
   "source": [
    "df['hosp_yn'].value_counts()"
   ]
  },
  {
   "cell_type": "markdown",
   "id": "editorial-aquatic",
   "metadata": {},
   "source": [
    "This graph compares the death rate between people who were in hospital and those who were not admitted. It shows that a large portion of the dataset were not admitted into hospital.<br>\n",
    "Less people that were admitted to hospital died than were admitted and survived."
   ]
  },
  {
   "cell_type": "markdown",
   "id": "infinite-accent",
   "metadata": {},
   "source": [
    "## ICU admissions vs death_yn"
   ]
  },
  {
   "cell_type": "code",
   "execution_count": 17,
   "id": "academic-inside",
   "metadata": {},
   "outputs": [
    {
     "data": {
      "image/png": "[encoded data removed]",
      "text/plain": [
       "<Figure size 842.4x595.44 with 1 Axes>"
      ]
     },
     "metadata": {},
     "output_type": "display_data"
    }
   ],
   "source": [
    "#bar chart to see correlation between death and age group\n",
    "icu_yn_vs_death_yn=sns.countplot(x='death_yn',hue=\"icu_yn\",data=train_df)\n",
    "sns.set(rc={'figure.figsize':(11.7,8.27)})\n",
    "  \n",
    "# for legend text \n",
    "plt.setp(icu_yn_vs_death_yn.get_legend().get_texts(), fontsize='10')   \n",
    "  \n",
    "# for legend title \n",
    "plt.setp(icu_yn_vs_death_yn.get_legend().get_title(), fontsize='20')\n",
    "icu_yn_vs_death_yn.set_title(\"ICU Admissions vs death_yn\", fontsize=20)\n",
    "plt.show() "
   ]
  },
  {
   "cell_type": "code",
   "execution_count": 18,
   "id": "interesting-indonesia",
   "metadata": {},
   "outputs": [
    {
     "data": {
      "text/plain": [
       "No         5315\n",
       "Unknown    4070\n",
       "Yes         522\n",
       "Name: icu_yn, dtype: int64"
      ]
     },
     "execution_count": 18,
     "metadata": {},
     "output_type": "execute_result"
    }
   ],
   "source": [
    "df['icu_yn'].value_counts()"
   ]
  },
  {
   "cell_type": "markdown",
   "id": "ordered-concern",
   "metadata": {},
   "source": [
    "This is very similar to the hospital admissions as the data has been mapped from Hosp_yn to ICU_yn I will only examine one should I choose to add to my modelling dataset."
   ]
  },
  {
   "cell_type": "markdown",
   "id": "ethical-athens",
   "metadata": {},
   "source": [
    "## Medical condition vs death_yn "
   ]
  },
  {
   "cell_type": "code",
   "execution_count": 19,
   "id": "historic-energy",
   "metadata": {},
   "outputs": [
    {
     "data": {
      "image/png": "[encoded data removed]",
      "text/plain": [
       "<Figure size 842.4x595.44 with 1 Axes>"
      ]
     },
     "metadata": {},
     "output_type": "display_data"
    }
   ],
   "source": [
    "#bar chart to see correlation between death and age group\n",
    "med_cond_vs_death_yn=sns.countplot(x='death_yn',hue=\"medcond_yn\",data=train_df)\n",
    "  \n",
    "# for legend text \n",
    "plt.setp(med_cond_vs_death_yn.get_legend().get_texts(), fontsize='10')   \n",
    "  \n",
    "# for legend title \n",
    "plt.setp(med_cond_vs_death_yn.get_legend().get_title(), fontsize='20')\n",
    "med_cond_vs_death_yn.set_title(\"Medical condition vs death_yn\", fontsize=20)\n",
    "plt.show() "
   ]
  },
  {
   "cell_type": "markdown",
   "id": "harmful-yacht",
   "metadata": {},
   "source": [
    "This graph is to visualise any relationship between existing medical conditions and the outcome of death. Less people died that had a medical condition than those that died of covid and had a medical condition. Medical conditions do not seem to help predict the outcome of death. We would need to see what is constituted as a medical condition and maybe only use those medical conditions that seem to strongly relate to the patient’s ability to recover from Covid-19. A patient with mental illness may not be as susceptible as a patient with a physical medical condition such as heart disease or diabetes or lung problems. Further medical advice should be sought for clarification on this. "
   ]
  },
  {
   "cell_type": "markdown",
   "id": "guided-disorder",
   "metadata": {},
   "source": [
    "## 1.2.1 Promising features to train the models on."
   ]
  },
  {
   "cell_type": "markdown",
   "id": "abandoned-enhancement",
   "metadata": {},
   "source": [
    "1. age_group\n",
    "2. race/ethnicity_combined\n",
    "3. hosp_yn"
   ]
  },
  {
   "cell_type": "markdown",
   "id": "molecular-ready",
   "metadata": {},
   "source": [
    "## 1.2.2 Justify choices"
   ]
  },
  {
   "cell_type": "markdown",
   "id": "raised-economics",
   "metadata": {},
   "source": [
    "- The age group data displays a strong correlation between age and death in the over 80's more so than other age groups.<br>\n",
    "- The race data shows that more white, non-Hispanic people died than other races but needs further investigation are other groups just underrepresented perhaps showing percentage of death vs race would give a clearer indication and balance the data more.<br>\n",
    "- Hospital admissions will also help to train the model I believe as it has one of the largest counts of deaths 675 deaths to the icu's 522 and as the hospital data is mapped to fill in missing data in the icu_yn column I do not think I need to use both. \n"
   ]
  },
  {
   "cell_type": "markdown",
   "id": "organic-pencil",
   "metadata": {},
   "source": [
    "# 2. Linear Regression"
   ]
  },
  {
   "cell_type": "markdown",
   "id": "worthy-lightweight",
   "metadata": {},
   "source": [
    "Linear regression is a supervised learning algorithm that assumes a linear relationship between the features or X and the target y. (X and y defined just above).<br>\n",
    "To use the linear regression model all features must be numeric and I have transformed the features above, converting categorical data into numeric representations for both test and train data frames.<br>\n",
    "We will review the three stages of this algorithm.\n",
    "<li>The Training stage</li>\n",
    "This is the stage where the algorithm earns the parameters.\n",
    "<li>The prediction stage</li>\n",
    "The algorithm applies the learned weights to the descriptive features or (X) for each example in the dataset to predict the target(y)\n",
    "<li>Evaluation</li>\n",
    "This measures how well the model works for this dataset. It measures the error between the actual target outcome vs the predicted target outcome. In other words, how well can the model predict the target outcome based on what it has learned from the dataset. \n"
   ]
  },
  {
   "cell_type": "markdown",
   "id": "explicit-cotton",
   "metadata": {},
   "source": [
    "### Preparing the data for modelling"
   ]
  },
  {
   "cell_type": "code",
   "execution_count": 20,
   "id": "defensive-industry",
   "metadata": {},
   "outputs": [
    {
     "data": {
      "text/html": [
       "<div>\n",
       "<style scoped>\n",
       "    .dataframe tbody tr th:only-of-type {\n",
       "        vertical-align: middle;\n",
       "    }\n",
       "\n",
       "    .dataframe tbody tr th {\n",
       "        vertical-align: top;\n",
       "    }\n",
       "\n",
       "    .dataframe thead th {\n",
       "        text-align: right;\n",
       "    }\n",
       "</style>\n",
       "<table border=\"1\" class=\"dataframe\">\n",
       "  <thead>\n",
       "    <tr style=\"text-align: right;\">\n",
       "      <th></th>\n",
       "      <th>current_status</th>\n",
       "      <th>sex</th>\n",
       "      <th>age_group</th>\n",
       "      <th>race_ethnicity_combined</th>\n",
       "      <th>hosp_yn</th>\n",
       "      <th>icu_yn</th>\n",
       "      <th>medcond_yn</th>\n",
       "      <th>death_yn</th>\n",
       "    </tr>\n",
       "  </thead>\n",
       "  <tbody>\n",
       "    <tr>\n",
       "      <th>8952</th>\n",
       "      <td>Laboratory-confirmed case</td>\n",
       "      <td>Male</td>\n",
       "      <td>70 - 79 Years</td>\n",
       "      <td>Unknown</td>\n",
       "      <td>Unknown</td>\n",
       "      <td>Unknown</td>\n",
       "      <td>No</td>\n",
       "      <td>No</td>\n",
       "    </tr>\n",
       "    <tr>\n",
       "      <th>5483</th>\n",
       "      <td>Laboratory-confirmed case</td>\n",
       "      <td>Male</td>\n",
       "      <td>30 - 39 Years</td>\n",
       "      <td>Unknown</td>\n",
       "      <td>Unknown</td>\n",
       "      <td>Unknown</td>\n",
       "      <td>Unknown</td>\n",
       "      <td>No</td>\n",
       "    </tr>\n",
       "    <tr>\n",
       "      <th>2408</th>\n",
       "      <td>Laboratory-confirmed case</td>\n",
       "      <td>Male</td>\n",
       "      <td>40 - 49 Years</td>\n",
       "      <td>Multiple/Other, Non-Hispanic</td>\n",
       "      <td>Unknown</td>\n",
       "      <td>Unknown</td>\n",
       "      <td>Unknown</td>\n",
       "      <td>No</td>\n",
       "    </tr>\n",
       "    <tr>\n",
       "      <th>5704</th>\n",
       "      <td>Laboratory-confirmed case</td>\n",
       "      <td>Female</td>\n",
       "      <td>50 - 59 Years</td>\n",
       "      <td>Unknown</td>\n",
       "      <td>Unknown</td>\n",
       "      <td>Unknown</td>\n",
       "      <td>Unknown</td>\n",
       "      <td>No</td>\n",
       "    </tr>\n",
       "    <tr>\n",
       "      <th>9011</th>\n",
       "      <td>Laboratory-confirmed case</td>\n",
       "      <td>Male</td>\n",
       "      <td>80+ Years</td>\n",
       "      <td>White, Non-Hispanic</td>\n",
       "      <td>Yes</td>\n",
       "      <td>No</td>\n",
       "      <td>Yes</td>\n",
       "      <td>No</td>\n",
       "    </tr>\n",
       "  </tbody>\n",
       "</table>\n",
       "</div>"
      ],
      "text/plain": [
       "                 current_status     sex      age_group  \\\n",
       "8952  Laboratory-confirmed case    Male  70 - 79 Years   \n",
       "5483  Laboratory-confirmed case    Male  30 - 39 Years   \n",
       "2408  Laboratory-confirmed case    Male  40 - 49 Years   \n",
       "5704  Laboratory-confirmed case  Female  50 - 59 Years   \n",
       "9011  Laboratory-confirmed case    Male      80+ Years   \n",
       "\n",
       "           race_ethnicity_combined  hosp_yn   icu_yn medcond_yn death_yn  \n",
       "8952                       Unknown  Unknown  Unknown         No       No  \n",
       "5483                       Unknown  Unknown  Unknown    Unknown       No  \n",
       "2408  Multiple/Other, Non-Hispanic  Unknown  Unknown    Unknown       No  \n",
       "5704                       Unknown  Unknown  Unknown    Unknown       No  \n",
       "9011           White, Non-Hispanic      Yes       No        Yes       No  "
      ]
     },
     "execution_count": 20,
     "metadata": {},
     "output_type": "execute_result"
    }
   ],
   "source": [
    "train_df.head()"
   ]
  },
  {
   "cell_type": "code",
   "execution_count": 21,
   "id": "divine-colon",
   "metadata": {},
   "outputs": [],
   "source": [
    "#dropping columns I don't find informative for the predictive modelling.\n",
    "df=df.drop(['current_status','sex','icu_yn','medcond_yn'],1)"
   ]
  },
  {
   "cell_type": "markdown",
   "id": "boolean-socket",
   "metadata": {},
   "source": [
    "The next 5 cells are to make the categorical data numerical so we can use it in the predictive models. \n",
    "<li>death_yn I will code yes as 1 and 0 as no</li>\n",
    "<li>current_status Laboratory confirmed case=1 probable case 0</li>\n",
    "<li>sex male =1 female=0</li>\n",
    "<br>\n",
    "<li>age group</li>\n",
    "50 - 59 Years=50<br>\n",
    "20 - 29 Years=20<br>\n",
    "40 - 49 Years=40<br>\n",
    "Missing=0<br>\n",
    "60 - 69 Years=60<br>\n",
    "0 - 9 Years=10<br>\n",
    "70 - 79 Years=70<br>\n",
    "10 - 19 Years=11<br>\n",
    "80+ Years=80<br>\n",
    "30 - 39 Years=30<br>\n",
    "<br>\n",
    "<li>race_ethnicity_combined</li>\n",
    "Unknown=0<br>\n",
    "White, Non-Hispanic=1<br>\n",
    "Hispanic/Latino=2<br>\n",
    "Black, Non-Hispanic=3<br>\n",
    "Multiple/Other Non-Hispanic=4<br>\n",
    "Asian, Non-Hispanic=5<br>\n",
    "American Indian/Alaska Native, Non-Hispanic=6<br>\n",
    "Native Hawaiian/Other Pacific Islander, Non-Hispanic=7<br>\n"
   ]
  },
  {
   "cell_type": "code",
   "execution_count": 22,
   "id": "olympic-rapid",
   "metadata": {},
   "outputs": [],
   "source": [
    "df['death_yn'] = df['death_yn'].replace(['Yes','No'],[1,0])"
   ]
  },
  {
   "cell_type": "code",
   "execution_count": 23,
   "id": "about-popularity",
   "metadata": {},
   "outputs": [],
   "source": [
    "df['age_group'] = df['age_group'].replace(['50 - 59 Years', '20 - 29 Years', '40 - 49 Years', 'Missing',\n",
    "       '60 - 69 Years', '0 - 9 Years', '70 - 79 Years', '10 - 19 Years',\n",
    "       '80+ Years', '30 - 39 Years'],[50,20,40,0,60,10,70,11,80,30])"
   ]
  },
  {
   "cell_type": "code",
   "execution_count": 24,
   "id": "equivalent-privilege",
   "metadata": {},
   "outputs": [],
   "source": [
    "df[\"race_ethnicity_combined\"]= df['race_ethnicity_combined'].replace(['Unknown','White, Non-Hispanic','Hispanic/Latino','Black, Non-Hispanic','Multiple/Other, Non-Hispanic','Asian, Non-Hispanic','American Indian/Alaska Native, Non-Hispanic','Native Hawaiian/Other Pacific Islander, Non-Hispanic'],[0,1,2,3,4,5,6,7])"
   ]
  },
  {
   "cell_type": "code",
   "execution_count": 25,
   "id": "adverse-pocket",
   "metadata": {},
   "outputs": [],
   "source": [
    "df['hosp_yn']=df['hosp_yn'].replace(['Yes','No','Unknown'],[1,0,2])"
   ]
  },
  {
   "cell_type": "code",
   "execution_count": 26,
   "id": "fuzzy-indianapolis",
   "metadata": {},
   "outputs": [
    {
     "data": {
      "text/html": [
       "<div>\n",
       "<style scoped>\n",
       "    .dataframe tbody tr th:only-of-type {\n",
       "        vertical-align: middle;\n",
       "    }\n",
       "\n",
       "    .dataframe tbody tr th {\n",
       "        vertical-align: top;\n",
       "    }\n",
       "\n",
       "    .dataframe thead th {\n",
       "        text-align: right;\n",
       "    }\n",
       "</style>\n",
       "<table border=\"1\" class=\"dataframe\">\n",
       "  <thead>\n",
       "    <tr style=\"text-align: right;\">\n",
       "      <th></th>\n",
       "      <th>age_group</th>\n",
       "      <th>race_ethnicity_combined</th>\n",
       "      <th>hosp_yn</th>\n",
       "      <th>death_yn</th>\n",
       "    </tr>\n",
       "  </thead>\n",
       "  <tbody>\n",
       "    <tr>\n",
       "      <th>0</th>\n",
       "      <td>60</td>\n",
       "      <td>1</td>\n",
       "      <td>0</td>\n",
       "      <td>0</td>\n",
       "    </tr>\n",
       "    <tr>\n",
       "      <th>1</th>\n",
       "      <td>10</td>\n",
       "      <td>2</td>\n",
       "      <td>0</td>\n",
       "      <td>0</td>\n",
       "    </tr>\n",
       "    <tr>\n",
       "      <th>2</th>\n",
       "      <td>20</td>\n",
       "      <td>0</td>\n",
       "      <td>0</td>\n",
       "      <td>0</td>\n",
       "    </tr>\n",
       "    <tr>\n",
       "      <th>3</th>\n",
       "      <td>20</td>\n",
       "      <td>1</td>\n",
       "      <td>0</td>\n",
       "      <td>0</td>\n",
       "    </tr>\n",
       "    <tr>\n",
       "      <th>4</th>\n",
       "      <td>70</td>\n",
       "      <td>0</td>\n",
       "      <td>1</td>\n",
       "      <td>0</td>\n",
       "    </tr>\n",
       "    <tr>\n",
       "      <th>5</th>\n",
       "      <td>80</td>\n",
       "      <td>1</td>\n",
       "      <td>1</td>\n",
       "      <td>1</td>\n",
       "    </tr>\n",
       "    <tr>\n",
       "      <th>6</th>\n",
       "      <td>50</td>\n",
       "      <td>1</td>\n",
       "      <td>0</td>\n",
       "      <td>0</td>\n",
       "    </tr>\n",
       "    <tr>\n",
       "      <th>7</th>\n",
       "      <td>50</td>\n",
       "      <td>2</td>\n",
       "      <td>0</td>\n",
       "      <td>0</td>\n",
       "    </tr>\n",
       "    <tr>\n",
       "      <th>8</th>\n",
       "      <td>50</td>\n",
       "      <td>0</td>\n",
       "      <td>0</td>\n",
       "      <td>0</td>\n",
       "    </tr>\n",
       "    <tr>\n",
       "      <th>9</th>\n",
       "      <td>11</td>\n",
       "      <td>4</td>\n",
       "      <td>0</td>\n",
       "      <td>0</td>\n",
       "    </tr>\n",
       "  </tbody>\n",
       "</table>\n",
       "</div>"
      ],
      "text/plain": [
       "   age_group  race_ethnicity_combined  hosp_yn  death_yn\n",
       "0         60                        1        0         0\n",
       "1         10                        2        0         0\n",
       "2         20                        0        0         0\n",
       "3         20                        1        0         0\n",
       "4         70                        0        1         0\n",
       "5         80                        1        1         1\n",
       "6         50                        1        0         0\n",
       "7         50                        2        0         0\n",
       "8         50                        0        0         0\n",
       "9         11                        4        0         0"
      ]
     },
     "execution_count": 26,
     "metadata": {},
     "output_type": "execute_result"
    }
   ],
   "source": [
    "#the training data I will be using to train the various predictive models. \n",
    "df.head(10)"
   ]
  },
  {
   "cell_type": "code",
   "execution_count": 27,
   "id": "nearby-separation",
   "metadata": {},
   "outputs": [],
   "source": [
    "X = df.drop([\"death_yn\"],1)\n",
    "y = df[\"death_yn\"]"
   ]
  },
  {
   "cell_type": "code",
   "execution_count": 28,
   "id": "cordless-greeting",
   "metadata": {},
   "outputs": [],
   "source": [
    "X_train, X_test, y_train, y_test = train_test_split(X, y, test_size=0.3, random_state=1,shuffle=True)"
   ]
  },
  {
   "cell_type": "code",
   "execution_count": 29,
   "id": "patient-album",
   "metadata": {},
   "outputs": [
    {
     "name": "stdout",
     "output_type": "stream",
     "text": [
      "original range is:  9907\n",
      "training range (70%):\t rows 0 to 6934\n",
      "test range (30%): \t rows 6934 to 9907\n"
     ]
    }
   ],
   "source": [
    "print(\"original range is: \",df.shape[0])\n",
    "print(\"training range (70%):\\t rows 0 to\", round(X_train.shape[0]))\n",
    "print(\"test range (30%): \\t rows\", round(X_train.shape[0]), \"to\", round(X_train.shape[0]) + X_test.shape[0])"
   ]
  },
  {
   "cell_type": "markdown",
   "id": "otherwise-indiana",
   "metadata": {},
   "source": [
    "### 2.1 Training the Linear regression model"
   ]
  },
  {
   "cell_type": "code",
   "execution_count": 30,
   "id": "least-backing",
   "metadata": {},
   "outputs": [
    {
     "data": {
      "text/plain": [
       "0.10197179649803245"
      ]
     },
     "execution_count": 30,
     "metadata": {},
     "output_type": "execute_result"
    }
   ],
   "source": [
    "reg = LinearRegression().fit(X_train, y_train)\n",
    "reg.score(X_train, y_train)"
   ]
  },
  {
   "cell_type": "markdown",
   "id": "impressed-frost",
   "metadata": {},
   "source": [
    "### 2.2 Coefficients"
   ]
  },
  {
   "cell_type": "code",
   "execution_count": 31,
   "id": "formal-intervention",
   "metadata": {},
   "outputs": [
    {
     "name": "stdout",
     "output_type": "stream",
     "text": [
      "\n",
      "Features are: \n",
      " Index(['age_group', 'race_ethnicity_combined', 'hosp_yn'], dtype='object')\n",
      "\n",
      "Coeficients are: \n",
      " [0.00290369 0.00568828 0.00755095]\n",
      "\n",
      "Intercept is: \n",
      " -0.0860117927396804\n",
      "\n",
      "Features and coeficients: \n",
      " [('age_group', 0.002903686286456338), ('race_ethnicity_combined', 0.005688283998740665), ('hosp_yn', 0.007550952367473612)]\n"
     ]
    }
   ],
   "source": [
    "# Print the weights learned for each feature.\n",
    "print(\"\\nFeatures are: \\n\", X_train.columns)\n",
    "print(\"\\nCoeficients are: \\n\", reg.coef_)\n",
    "print(\"\\nIntercept is: \\n\", reg.intercept_)\n",
    "print(\"\\nFeatures and coeficients: \\n\", list(zip(X_train.columns, reg.coef_)))"
   ]
  },
  {
   "cell_type": "markdown",
   "id": "demanding-strengthening",
   "metadata": {},
   "source": [
    "Hosp_yn, age group and race have positive coefficients which suggests a positive correlation with death_yn.<br>\n",
    "This seems to be in line with what we saw in the graphs in part one with age and race being two of the most important factors in determining if a person was more likely to die because of covid-19.<br>\n",
    "But we need to be mindful that this data set is heavily biased towards the white non-Hispanic race/ethnicity. More data would be beneficial from other races to ensure its applicable across all races, as this is based on American data may imply a social imbalance as opposed to a medical imbalance with white non-Hispanic ethnicities having greater access to medical care and thus it being more widely recorded as being more predominant in that race.<br>\n",
    "The intercept is calculated at -0.086 which is the starting point if all the other coefficients were 0. \n"
   ]
  },
  {
   "cell_type": "code",
   "execution_count": 32,
   "id": "classical-skirt",
   "metadata": {},
   "outputs": [
    {
     "data": {
      "text/html": [
       "<div>\n",
       "<style scoped>\n",
       "    .dataframe tbody tr th:only-of-type {\n",
       "        vertical-align: middle;\n",
       "    }\n",
       "\n",
       "    .dataframe tbody tr th {\n",
       "        vertical-align: top;\n",
       "    }\n",
       "\n",
       "    .dataframe thead th {\n",
       "        text-align: right;\n",
       "    }\n",
       "</style>\n",
       "<table border=\"1\" class=\"dataframe\">\n",
       "  <thead>\n",
       "    <tr style=\"text-align: right;\">\n",
       "      <th></th>\n",
       "      <th>age_group</th>\n",
       "      <th>race_ethnicity_combined</th>\n",
       "      <th>hosp_yn</th>\n",
       "    </tr>\n",
       "  </thead>\n",
       "  <tbody>\n",
       "    <tr>\n",
       "      <th>0</th>\n",
       "      <td>70</td>\n",
       "      <td>0</td>\n",
       "      <td>2</td>\n",
       "    </tr>\n",
       "    <tr>\n",
       "      <th>1</th>\n",
       "      <td>30</td>\n",
       "      <td>0</td>\n",
       "      <td>2</td>\n",
       "    </tr>\n",
       "    <tr>\n",
       "      <th>2</th>\n",
       "      <td>40</td>\n",
       "      <td>4</td>\n",
       "      <td>2</td>\n",
       "    </tr>\n",
       "    <tr>\n",
       "      <th>3</th>\n",
       "      <td>50</td>\n",
       "      <td>0</td>\n",
       "      <td>2</td>\n",
       "    </tr>\n",
       "    <tr>\n",
       "      <th>4</th>\n",
       "      <td>80</td>\n",
       "      <td>1</td>\n",
       "      <td>1</td>\n",
       "    </tr>\n",
       "  </tbody>\n",
       "</table>\n",
       "</div>"
      ],
      "text/plain": [
       "   age_group  race_ethnicity_combined  hosp_yn\n",
       "0         70                        0        2\n",
       "1         30                        0        2\n",
       "2         40                        4        2\n",
       "3         50                        0        2\n",
       "4         80                        1        1"
      ]
     },
     "execution_count": 32,
     "metadata": {},
     "output_type": "execute_result"
    }
   ],
   "source": [
    "# need to reset the index to allow contatenation with predicted values otherwise not joining on same index...\n",
    "X_train.reset_index(drop=True, inplace=True)\n",
    "y_train.reset_index(drop=True, inplace=True)\n",
    "X_test.reset_index(drop=True, inplace=True)\n",
    "y_test.reset_index(drop=True, inplace=True)\n",
    "X_train.head(5)"
   ]
  },
  {
   "cell_type": "markdown",
   "id": "alike-techno",
   "metadata": {},
   "source": [
    "### 2.3 The predicted target feature value for the first 10 training examples"
   ]
  },
  {
   "cell_type": "code",
   "execution_count": 33,
   "id": "optional-times",
   "metadata": {},
   "outputs": [
    {
     "name": "stdout",
     "output_type": "stream",
     "text": [
      "\n",
      "Predictions with multiple linear regression: \n",
      "\n",
      "   death_yn  Predictions\n",
      "0         0     0.132348\n",
      "1         0     0.016201\n",
      "2         0     0.067991\n",
      "3         0     0.074274\n",
      "4         0     0.159522\n",
      "5         0     0.045238\n",
      "6         0    -0.048383\n",
      "7         0    -0.027938\n",
      "8         0     0.103311\n",
      "9         0     0.110963\n"
     ]
    }
   ],
   "source": [
    "#Print the predicted target feature value for the first 10 training examples.\n",
    "reg_predictions_train = reg.predict(X_train) \n",
    "print(\"\\nPredictions with multiple linear regression: \\n\")\n",
    "actual_vs_predicted_linreg = pd.concat([y_train, pd.DataFrame(reg_predictions_train, columns=['Predictions'])], axis=1)\n",
    "print(actual_vs_predicted_linreg.head(10))"
   ]
  },
  {
   "cell_type": "markdown",
   "id": "social-planning",
   "metadata": {},
   "source": [
    "### 2.3.1 Threshold the predicted target feature @0.5 for each example"
   ]
  },
  {
   "cell_type": "code",
   "execution_count": 34,
   "id": "unlikely-cycle",
   "metadata": {},
   "outputs": [],
   "source": [
    "# calculate the prediction and threshold the value. If >= 0.5 its true\n",
    "threshold_reg_predictions_train = (reg.predict(X_train) >= 0.5) * 1.0"
   ]
  },
  {
   "cell_type": "markdown",
   "id": "strong-opposition",
   "metadata": {},
   "source": [
    "### 2.3.2 Print the predicted class for the first 10 examples. "
   ]
  },
  {
   "cell_type": "code",
   "execution_count": 35,
   "id": "expensive-builder",
   "metadata": {},
   "outputs": [
    {
     "name": "stdout",
     "output_type": "stream",
     "text": [
      "\n",
      "Predictions with linear regression: \n",
      "\n",
      "   death_yn  Prediction\n",
      "0         0         0.0\n",
      "1         0         0.0\n",
      "2         0         0.0\n",
      "3         0         0.0\n",
      "4         0         0.0\n",
      "5         0         0.0\n",
      "6         0         0.0\n",
      "7         0         0.0\n",
      "8         0         0.0\n",
      "9         0         0.0\n"
     ]
    }
   ],
   "source": [
    "print(\"\\nPredictions with linear regression: \\n\")\n",
    "threshold_actual_vs_predicted_linreg = pd.concat([y_train, pd.DataFrame(threshold_reg_predictions_train, columns=['Prediction'])], axis=1)\n",
    "print(threshold_actual_vs_predicted_linreg.head(10))"
   ]
  },
  {
   "cell_type": "code",
   "execution_count": 36,
   "id": "structural-newman",
   "metadata": {},
   "outputs": [
    {
     "data": {
      "text/plain": [
       "array([0.])"
      ]
     },
     "execution_count": 36,
     "metadata": {},
     "output_type": "execute_result"
    }
   ],
   "source": [
    "threshold_actual_vs_predicted_linreg['Prediction'].unique()"
   ]
  },
  {
   "cell_type": "markdown",
   "id": "capable-reynolds",
   "metadata": {},
   "source": [
    "Already we can see that Linear regression is possible not a good fit for this data set as the prediction set doesn't contain any predictions of death which is the positive class it only contains 0 which is the negative class."
   ]
  },
  {
   "cell_type": "markdown",
   "id": "forward-sensitivity",
   "metadata": {},
   "source": [
    "### 2.3.3 Print a few classifications evaluation mesures and discuss findings."
   ]
  },
  {
   "cell_type": "code",
   "execution_count": 37,
   "id": "worth-coalition",
   "metadata": {},
   "outputs": [
    {
     "name": "stdout",
     "output_type": "stream",
     "text": [
      "==================== Train Data =======================\n",
      "Accuracy :  0.9652437265647534\n",
      "Confusion matrix: \n",
      " [[6693    0]\n",
      " [ 241    0]]\n",
      "Classification report:\n",
      "                precision    recall  f1-score   support\n",
      "\n",
      "           0       0.97      1.00      0.98      6693\n",
      "           1       0.00      0.00      0.00       241\n",
      "\n",
      "    accuracy                           0.97      6934\n",
      "   macro avg       0.48      0.50      0.49      6934\n",
      "weighted avg       0.93      0.97      0.95      6934\n",
      "\n",
      "======================================================\n"
     ]
    }
   ],
   "source": [
    "# Some more evaluation metrics.\n",
    "print(\"==================== Train Data =======================\")\n",
    "print(\"Accuracy : \", metrics.accuracy_score(y_train, threshold_reg_predictions_train))\n",
    "print(\"Confusion matrix: \\n\", metrics.confusion_matrix(y_train, threshold_reg_predictions_train))\n",
    "print(\"Classification report:\\n \", metrics.classification_report(y_train, threshold_reg_predictions_train))\n",
    "print(\"======================================================\")"
   ]
  },
  {
   "cell_type": "markdown",
   "id": "least-trust",
   "metadata": {},
   "source": [
    "-<b>Accuracy</b><br>\n",
    "Provides information on how often the model is correct.<br>\n",
    "Accuracy is 97%. \n",
    "<br>\n",
    "-<b>Confusion Matrix</b>\n",
    "- [0][0] TRUE NEGATIVE - The number that is predicted 0 that was 0=6693\n",
    "- [0][1] FALSE POSITIVE - The number that is predicted 1 that is 0=0\n",
    "- [1][0] FALSE NEGATIVE - The number that is predicted 0 that is 1=241\n",
    "- [1][1] TRUE POSITIVE - The number that is predicted 1 that is 1=0\n",
    "This model did not correctly predict any of the positive class.\n",
    "    <br>\n",
    "-<b>Precision</b>\n",
    "Precision positive is 0.\n",
    "precision negative is 0.97.\n",
    "<br>\n",
    "-<b>Recall</b>\n",
    "Recall positive is 0.\n",
    "Recall Negative is 1\n",
    "<br>\n",
    "-<b>F1 Score</b>\n",
    "F1 positive is 0.\n",
    "F1 negative is 0.98.\n",
    "<br>\n",
    "<b>Summary</b>\n",
    "- The model is unable to predict where death is likely due to the small data size. The negative class is the dominant class.\n",
    "- I believe the accuracy is so high for the negative class because the data for death=yes is much less than death=no.   \n",
    "- The model is good at predicting the negative class. It can predict where death is unlikely with great accuracy, but this is due to the data being heavily weighted with death_yn = No.\n",
    "- The positive class has failed to predict.\n"
   ]
  },
  {
   "cell_type": "markdown",
   "id": "comparable-technical",
   "metadata": {},
   "source": [
    "# 2.4 Evaluating the test data"
   ]
  },
  {
   "cell_type": "markdown",
   "id": "normal-princess",
   "metadata": {},
   "source": [
    "This is where we can test to see how well the model can predict the target outcome based on its learning. Here we will present data that the algorithm has not seen before the test_df data frame, to see if it can accurately predict whether a person is more likely to die or not."
   ]
  },
  {
   "cell_type": "code",
   "execution_count": 38,
   "id": "danish-graduation",
   "metadata": {},
   "outputs": [
    {
     "name": "stdout",
     "output_type": "stream",
     "text": [
      "\n",
      "Predictions with multiple linear regression: \n",
      "\n",
      "   death_yn  Predicted\n",
      "0         0        0.0\n",
      "1         0        0.0\n",
      "2         0        0.0\n",
      "3         0        0.0\n",
      "4         0        0.0\n",
      "5         0        0.0\n",
      "6         0        0.0\n",
      "7         1        0.0\n",
      "8         0        0.0\n",
      "9         0        0.0\n"
     ]
    }
   ],
   "source": [
    "# calculate the prediction and threshold the value. If >= 0.5 its true\n",
    "reg_predictions_test = (reg.predict(X_test) >= 0.5) * 1.0\n",
    "\n",
    "print(\"\\nPredictions with multiple linear regression: \\n\")\n",
    "actual_vs_predicted_multiplelinreg = pd.concat([y_test, pd.DataFrame(reg_predictions_test, columns=['Predicted'])], axis=1)\n",
    "print(actual_vs_predicted_multiplelinreg.head(10))"
   ]
  },
  {
   "cell_type": "code",
   "execution_count": 39,
   "id": "finnish-massage",
   "metadata": {},
   "outputs": [
    {
     "name": "stdout",
     "output_type": "stream",
     "text": [
      "==================== Test Data =======================\n",
      "Accuracy:  0.9667003027245207\n",
      "Confusion matrix: \n",
      " [[2874    0]\n",
      " [  99    0]]\n",
      "Classification report:\n",
      "                precision    recall  f1-score   support\n",
      "\n",
      "           0       0.97      1.00      0.98      2874\n",
      "           1       0.00      0.00      0.00        99\n",
      "\n",
      "    accuracy                           0.97      2973\n",
      "   macro avg       0.48      0.50      0.49      2973\n",
      "weighted avg       0.93      0.97      0.95      2973\n",
      "\n",
      "======================================================\n"
     ]
    }
   ],
   "source": [
    "# Some more evaluation metrics.\n",
    "print(\"==================== Test Data =======================\")\n",
    "print(\"Accuracy: \", metrics.accuracy_score(y_test, reg_predictions_test))\n",
    "print(\"Confusion matrix: \\n\", metrics.confusion_matrix(y_test, reg_predictions_test))\n",
    "print(\"Classification report:\\n \", metrics.classification_report(y_test, reg_predictions_test))\n",
    "print(\"======================================================\")"
   ]
  },
  {
   "cell_type": "markdown",
   "id": "actual-bottle",
   "metadata": {},
   "source": [
    "The data is very much the same when used with the test data frame as with the train data frame. It continues to favour the negative class over the positive class as there is just not enough data to train the model with regarding the positive class.<br>\n",
    "The positive class has completely failed and is not able to predict anything.<br>\n",
    "\n",
    "    Training data\n",
    "    Confusion matrix: \n",
    "     [[6693    0]\n",
    "     [ 241    0]]\n",
    "     \n",
    "     Test data\n",
    "     Confusion Matrix\n",
    "     [[2874    0]\n",
    "     [  99    0]]\n",
    "\n",
    "Both have 0 False positives.\n",
    "traing data has 241 false negative.\n",
    "test data has 99 false negatives.\n"
   ]
  },
  {
   "cell_type": "markdown",
   "id": "opposite-afghanistan",
   "metadata": {},
   "source": [
    "### 2.4.1 Cross validation"
   ]
  },
  {
   "cell_type": "code",
   "execution_count": 40,
   "id": "finite-madonna",
   "metadata": {},
   "outputs": [],
   "source": [
    "def cross_val_LinReg(X, y, cv=3, scoring='accuracy'):\n",
    "    \"\"\"Functions to carry out cross validation on the linear regression model\n",
    "    Default number of validations is 3. The random state will be updated \n",
    "    at each iteration to allow our results to be repeated\"\"\"\n",
    "    \n",
    "    # store results\n",
    "    results = []\n",
    "    # evaluate cv times and append to results\n",
    "    for i in range(cv):\n",
    "        # set up train test split\n",
    "        X_train, X_test, y_train, y_test = train_test_split(X, y, random_state=i , test_size=0.3)\n",
    "        # generate model\n",
    "        multiple_linreg = LinearRegression().fit(X_train, y_train)\n",
    "        # threshold\n",
    "        multiple_linreg_predictions = (multiple_linreg.predict(X_test) >= 0.5) * 1.0\n",
    "        # calc score\n",
    "        if scoring=='accuracy':\n",
    "            score = metrics.accuracy_score(y_test, multiple_linreg_predictions)\n",
    "        elif scoring=='precision':\n",
    "            score = metrics.precision_score(y_test, multiple_linreg_predictions)\n",
    "        elif scoring=='f1':\n",
    "            score = metrics.f1_score(y_test, multiple_linreg_predictions)\n",
    "        elif scoring=='recall':\n",
    "            score = metrics.recall_score(y_test, multiple_linreg_predictions)\n",
    "        # append to results\n",
    "        results.append(score)\n",
    "    return results"
   ]
  },
  {
   "cell_type": "code",
   "execution_count": 41,
   "id": "listed-alcohol",
   "metadata": {},
   "outputs": [],
   "source": [
    "def cross_val_LinReg_DF(X,y):\n",
    "    \"\"\"Function to perform cross validation and store results \n",
    "    in dataframe. Cross validation looks at accuracy, precision, \n",
    "    recall, f1. Returns a dataframe with results\"\"\"\n",
    "\n",
    "    linRegResults = {}\n",
    "    # metrics to test against\n",
    "    test_metrics = ['accuracy','precision','recall', 'f1']\n",
    "    \n",
    "    for metric in test_metrics:\n",
    "        # generate test results\n",
    "        result = cross_val_LinReg(X, y, cv=10, scoring=metric)\n",
    "        length = len(result)\n",
    "        # store result in dict\n",
    "        linRegResults[metric] = sum(result)/length\n",
    "\n",
    "    # create dataframe with results\n",
    "    LinRegDF = pd.DataFrame.from_dict(linRegResults, orient='index', columns=['Linear_Regression'])\n",
    "    \n",
    "    return LinRegDF"
   ]
  },
  {
   "cell_type": "code",
   "execution_count": 42,
   "id": "secure-floating",
   "metadata": {},
   "outputs": [
    {
     "name": "stdout",
     "output_type": "stream",
     "text": [
      "Mean results from 10 fold cross validation are:\n"
     ]
    },
    {
     "data": {
      "text/html": [
       "<div>\n",
       "<style scoped>\n",
       "    .dataframe tbody tr th:only-of-type {\n",
       "        vertical-align: middle;\n",
       "    }\n",
       "\n",
       "    .dataframe tbody tr th {\n",
       "        vertical-align: top;\n",
       "    }\n",
       "\n",
       "    .dataframe thead th {\n",
       "        text-align: right;\n",
       "    }\n",
       "</style>\n",
       "<table border=\"1\" class=\"dataframe\">\n",
       "  <thead>\n",
       "    <tr style=\"text-align: right;\">\n",
       "      <th></th>\n",
       "      <th>Linear_Regression</th>\n",
       "    </tr>\n",
       "  </thead>\n",
       "  <tbody>\n",
       "    <tr>\n",
       "      <th>accuracy</th>\n",
       "      <td>0.964649</td>\n",
       "    </tr>\n",
       "    <tr>\n",
       "      <th>precision</th>\n",
       "      <td>0.000000</td>\n",
       "    </tr>\n",
       "    <tr>\n",
       "      <th>recall</th>\n",
       "      <td>0.000000</td>\n",
       "    </tr>\n",
       "    <tr>\n",
       "      <th>f1</th>\n",
       "      <td>0.000000</td>\n",
       "    </tr>\n",
       "  </tbody>\n",
       "</table>\n",
       "</div>"
      ],
      "text/plain": [
       "           Linear_Regression\n",
       "accuracy            0.964649\n",
       "precision           0.000000\n",
       "recall              0.000000\n",
       "f1                  0.000000"
      ]
     },
     "execution_count": 42,
     "metadata": {},
     "output_type": "execute_result"
    }
   ],
   "source": [
    "linRegDF = cross_val_LinReg_DF(X,y)\n",
    "print(f\"Mean results from 10 fold cross validation are:\")\n",
    "linRegDF"
   ]
  },
  {
   "cell_type": "markdown",
   "id": "narrow-request",
   "metadata": {},
   "source": [
    "The cross validation shows a similar picture to the other two dataframes. It has an accuracy of 96.46% but the precision recall and f1 are all 0. This is due to the poor performace of the model on the positive class and really the only way to train a better model would be to provide more data.  "
   ]
  },
  {
   "cell_type": "markdown",
   "id": "premier-problem",
   "metadata": {},
   "source": [
    "### 2.4.2 Compare cross validation with single training."
   ]
  },
  {
   "cell_type": "markdown",
   "id": "eight-oregon",
   "metadata": {},
   "source": [
    "Single training Accuracy = 97%\n",
    "\n",
    "                    Classification report:\n",
    "                precision    recall  f1-score   \n",
    "\n",
    "           0       0.97      1.00      0.98     \n",
    "           1       0.00      0.00      0.00   \n",
    "           \n",
    "Even though we have a good recall, precision and f1-score for the negative class in the single training model. When they are returned from the  cross validation function they are all 0. This is due to the fact that they are all zero in the positive class and when combined for both classes it returns a zero result. The linear model had failed with its predictions."
   ]
  },
  {
   "cell_type": "markdown",
   "id": "interesting-immune",
   "metadata": {},
   "source": [
    "# 3. Logistic Regression"
   ]
  },
  {
   "cell_type": "markdown",
   "id": "trying-prescription",
   "metadata": {},
   "source": [
    "Logistical Regression is an algorithm to train a model for predicting categorical features. A linear relationship is assumed between the Target feature and the descriptive feature. It is used for classification task even though it has regression in the name.<br>\n",
    "We assume only 2 classes binary classification could be (1, 0) or (1,-1)"
   ]
  },
  {
   "cell_type": "markdown",
   "id": "sophisticated-cooperative",
   "metadata": {},
   "source": [
    "## 3.1 Train the Logistic model"
   ]
  },
  {
   "cell_type": "code",
   "execution_count": 43,
   "id": "inclusive-tender",
   "metadata": {},
   "outputs": [],
   "source": [
    "# Train or fit, a model using all categorical features.\n",
    "logisticreg = LogisticRegression().fit(X_train, y_train)"
   ]
  },
  {
   "cell_type": "markdown",
   "id": "defensive-course",
   "metadata": {},
   "source": [
    "## 3.2 Print Coefficients"
   ]
  },
  {
   "cell_type": "code",
   "execution_count": 44,
   "id": "imposed-lancaster",
   "metadata": {},
   "outputs": [
    {
     "name": "stdout",
     "output_type": "stream",
     "text": [
      "\n",
      "Features are: \n",
      " Index(['age_group', 'race_ethnicity_combined', 'hosp_yn'], dtype='object')\n",
      "\n",
      "Coeficients are: \n",
      " [[0.11342629 0.17925648 0.25993607]]\n",
      "\n",
      "Intercept is: \n",
      " [-10.1095262]\n",
      "\n",
      "Features and coeficients: \n",
      " [('age_group', array([0.11342629, 0.17925648, 0.25993607]))]\n"
     ]
    }
   ],
   "source": [
    "# Print the weights learned for each feature.\n",
    "print(\"\\nFeatures are: \\n\", X_train.columns)\n",
    "print(\"\\nCoeficients are: \\n\", logisticreg.coef_)\n",
    "print(\"\\nIntercept is: \\n\", logisticreg.intercept_)\n",
    "print(\"\\nFeatures and coeficients: \\n\", list(zip(X_train.columns, logisticreg.coef_)))"
   ]
  },
  {
   "cell_type": "markdown",
   "id": "czech-aquatic",
   "metadata": {},
   "source": [
    "### 3.2.1 Discuss Coefficient results\n",
    "The three descriptive features age race and hospital admission have positive coefficients which, likely means a positive relationship between these descriptive features and the target feature.<br>\n",
    "The intercept is calculated at -10.188 which is the starting point if all the other coeffiecents were 0.\n"
   ]
  },
  {
   "cell_type": "markdown",
   "id": "ethical-coral",
   "metadata": {},
   "source": [
    "## 3.3 Print 10 predicted target features and evaluate prediction"
   ]
  },
  {
   "cell_type": "code",
   "execution_count": 45,
   "id": "bronze-motivation",
   "metadata": {},
   "outputs": [
    {
     "data": {
      "text/plain": [
       "0    0\n",
       "1    0\n",
       "2    0\n",
       "3    0\n",
       "4    0\n",
       "5    0\n",
       "6    0\n",
       "7    0\n",
       "8    0\n",
       "9    0\n",
       "Name: death_yn, dtype: int64"
      ]
     },
     "execution_count": 45,
     "metadata": {},
     "output_type": "execute_result"
    }
   ],
   "source": [
    "#Print the predicted target feature value for the first 10 training examples\n",
    "y_train.head(10)"
   ]
  },
  {
   "cell_type": "markdown",
   "id": "challenging-bubble",
   "metadata": {},
   "source": [
    "### 3.3.1 Print the first 10 examples of the predicted class"
   ]
  },
  {
   "cell_type": "code",
   "execution_count": 46,
   "id": "opposite-foundation",
   "metadata": {
    "scrolled": true
   },
   "outputs": [
    {
     "name": "stdout",
     "output_type": "stream",
     "text": [
      "\n",
      "Predictions with logistic regression: \n",
      "\n",
      "   death_yn  Predictions\n",
      "0         0            0\n",
      "1         0            0\n",
      "2         0            0\n",
      "3         0            0\n",
      "4         0            0\n",
      "5         0            0\n",
      "6         0            0\n",
      "7         0            0\n",
      "8         0            0\n",
      "9         0            0\n"
     ]
    }
   ],
   "source": [
    "# calculate the prediction\n",
    "logisticreg_predictions_train = logisticreg.predict(X_train)\n",
    "\n",
    "print(\"\\nPredictions with logistic regression: \\n\")\n",
    "actual_vs_predicted_logisticreg = pd.concat([y_train, pd.DataFrame(logisticreg_predictions_train, columns=['Predictions'])], axis=1)\n",
    "print(actual_vs_predicted_logisticreg.head(10))"
   ]
  },
  {
   "cell_type": "code",
   "execution_count": 47,
   "id": "linear-mainland",
   "metadata": {},
   "outputs": [
    {
     "data": {
      "text/plain": [
       "array([0, 1], dtype=int64)"
      ]
     },
     "execution_count": 47,
     "metadata": {},
     "output_type": "execute_result"
    }
   ],
   "source": [
    "actual_vs_predicted_logisticreg['Predictions'].unique()"
   ]
  },
  {
   "cell_type": "code",
   "execution_count": 48,
   "id": "approximate-shareware",
   "metadata": {},
   "outputs": [
    {
     "data": {
      "text/plain": [
       "array([0, 1], dtype=int64)"
      ]
     },
     "execution_count": 48,
     "metadata": {},
     "output_type": "execute_result"
    }
   ],
   "source": [
    "actual_vs_predicted_logisticreg['death_yn'].unique()"
   ]
  },
  {
   "cell_type": "markdown",
   "id": "appropriate-replication",
   "metadata": {},
   "source": [
    "It seems that the logistic regression is fairing better than linear regression as it has managed to predict some of the positive class. We will know look at more evaluation measures to see how much better it has performed."
   ]
  },
  {
   "cell_type": "markdown",
   "id": "fiscal-manufacturer",
   "metadata": {},
   "source": [
    "### 3.3.2 Classification evaluation measures"
   ]
  },
  {
   "cell_type": "code",
   "execution_count": 49,
   "id": "floral-suicide",
   "metadata": {
    "scrolled": true
   },
   "outputs": [
    {
     "name": "stdout",
     "output_type": "stream",
     "text": [
      "==================== Train Data =======================\n",
      "Accuracy:  0.9652437265647534\n",
      "Confusion matrix: \n",
      " [[6686    7]\n",
      " [ 234    7]]\n",
      "Classification report:\n",
      "                precision    recall  f1-score   support\n",
      "\n",
      "           0       0.97      1.00      0.98      6693\n",
      "           1       0.50      0.03      0.05       241\n",
      "\n",
      "    accuracy                           0.97      6934\n",
      "   macro avg       0.73      0.51      0.52      6934\n",
      "weighted avg       0.95      0.97      0.95      6934\n",
      "\n",
      "======================================================\n"
     ]
    }
   ],
   "source": [
    "# Some more evaluation metrics.\n",
    "print(\"==================== Train Data =======================\")\n",
    "print(\"Accuracy: \", metrics.accuracy_score(y_train, logisticreg_predictions_train))\n",
    "print(\"Confusion matrix: \\n\", metrics.confusion_matrix(y_train, logisticreg_predictions_train))\n",
    "print(\"Classification report:\\n \", metrics.classification_report(y_train, logisticreg_predictions_train))\n",
    "print(\"======================================================\")"
   ]
  },
  {
   "cell_type": "markdown",
   "id": "loving-lesbian",
   "metadata": {},
   "source": [
    "### 3.3.3 Interpretation of results\n",
    "\n",
    "-<b>Accuracy</b>\n",
    "We have an accuracy of 97%\n",
    "<br>\n",
    "-<b>Precision</b> \n",
    "Precision Positive is 0.50\n",
    "Precision Negative is 0.97\n",
    "<br>\n",
    "<b>-Recall</b> - What % of the positive values did we predict.\n",
    "Recall Positive is 0.03\n",
    "Recall Negative is 1.00\n",
    "<br>\n",
    "<b>-F1 Score</b> - Is a weighted average of Precision and recall.\n",
    "F1 Score Positive is 0.05\n",
    "F1 Score Negative is 0.98\n",
    "<br>\n",
    "<b>-Summary</b>\n",
    "\n",
    "Accuracy is in line with the linear regression model.\n",
    "The logistic model is also a little better at predicting the positive class but, it could only predict the positive class 50% of the time.<br>\n",
    "For the negative class precision is 97%. It could predict the negative class 97% of the time.<br>\n",
    "Recall is 100% as all 0 values were predicted 100% of the time. \n",
    "F1 is the weighted average of precision and recall.\n"
   ]
  },
  {
   "cell_type": "markdown",
   "id": "statistical-quest",
   "metadata": {},
   "source": [
    "## 3.4 Evaluate model on test set"
   ]
  },
  {
   "cell_type": "code",
   "execution_count": 50,
   "id": "active-mystery",
   "metadata": {},
   "outputs": [
    {
     "name": "stdout",
     "output_type": "stream",
     "text": [
      "\n",
      "Predictions with linear regression: \n",
      "\n",
      "   death_yn  Predicted\n",
      "0         0          0\n",
      "1         0          0\n",
      "2         0          0\n",
      "3         0          0\n",
      "4         0          0\n",
      "5         0          0\n",
      "6         0          0\n",
      "7         1          0\n",
      "8         0          0\n",
      "9         0          0\n"
     ]
    }
   ],
   "source": [
    "# calculate the prediction and threshold the value. If >= 0.5 its true\n",
    "logisticreg_predictions_test = logisticreg.predict(X_test)\n",
    "\n",
    "print(\"\\nPredictions with linear regression: \\n\")\n",
    "actual_vs_predicted_logisticreg = pd.concat([y_test, pd.DataFrame(logisticreg_predictions_test, columns=['Predicted'])], axis=1)\n",
    "print(actual_vs_predicted_logisticreg.head(10))"
   ]
  },
  {
   "cell_type": "code",
   "execution_count": 51,
   "id": "diagnostic-softball",
   "metadata": {},
   "outputs": [
    {
     "name": "stdout",
     "output_type": "stream",
     "text": [
      "==================== Test Data =======================\n",
      "Accuracy:  0.9660275815674403\n",
      "Confusion matrix: \n",
      " [[2870    4]\n",
      " [  97    2]]\n",
      "Classification report:\n",
      "                precision    recall  f1-score   support\n",
      "\n",
      "           0       0.97      1.00      0.98      2874\n",
      "           1       0.33      0.02      0.04        99\n",
      "\n",
      "    accuracy                           0.97      2973\n",
      "   macro avg       0.65      0.51      0.51      2973\n",
      "weighted avg       0.95      0.97      0.95      2973\n",
      "\n"
     ]
    }
   ],
   "source": [
    "# Some more evaluation metrics.\n",
    "print(\"==================== Test Data =======================\")\n",
    "print(\"Accuracy: \", metrics.accuracy_score(y_test, logisticreg_predictions_test))\n",
    "print(\"Confusion matrix: \\n\", metrics.confusion_matrix(y_test, logisticreg_predictions_test))\n",
    "print(\"Classification report:\\n \", metrics.classification_report(y_test, logisticreg_predictions_test))"
   ]
  },
  {
   "cell_type": "markdown",
   "id": "closed-sierra",
   "metadata": {},
   "source": [
    "### 3.4.1 Compare results of the test dataframe with the train dataframe.\n",
    "The data has remained unchanged for the negative class.\n",
    "-<b>Accuracy</b>\n",
    "Accuracy remains unchanged at 97%\n",
    "<br>\n",
    "-<b>Precision</b> \n",
    "Precision Positive has fallen from 0.33 to 0.50.\n",
    "<br>\n",
    "<b>-Recall</b> - What % of the positive values did we predict\n",
    "Recall Positive is 0.02 fallen from 0.03\n",
    "<br>\n",
    "<b>-F1 Score</b> - Is an a weighted average of Precision and recall\n",
    "F1 Score Positive is 0.04 fallen from 0.05\n",
    "<br>\n",
    "<b>-Summary</b>\n",
    "\n",
    "Logistic regression is able to preditc the negative class very well on new data. It has fallen slighlty on predicting the positive class but that is to be expected on a new dataset.\n",
    "\n",
    "    Test data\n",
    "    Confusion Matrix\n",
    "     [[2870    4]\n",
    "     [  97    2]]\n",
    "     \n",
    "The test data has:\n",
    "4 False positives\n",
    "2 True positives\n",
    "97 False Negatives\n",
    "2870 True Negatives\n",
    "\n",
    "     \n",
    "     Training data\n",
    "     Confusion matrix: \n",
    "     [[6686    7]\n",
    "     [ 234    7]]\n",
    "     \n",
    "The training data has:\n",
    "7 False positives\n",
    "7 True positives\n",
    "234 False Negatives\n",
    "6686 True Negatives   \n",
    "\n",
    "So even though each of the models are telling us that it has a good accuracy the are still making mistakes on the predictions.\n",
    "     "
   ]
  },
  {
   "cell_type": "markdown",
   "id": "interracial-albert",
   "metadata": {},
   "source": [
    "### 3.4.2 Cross validation"
   ]
  },
  {
   "cell_type": "code",
   "execution_count": 52,
   "id": "greenhouse-waterproof",
   "metadata": {},
   "outputs": [],
   "source": [
    "def cross_val_LogReg_DF(X,y):\n",
    "    \"\"\"Function to perform cross validation and store results \n",
    "    in dataframe. Cross validation looks at accuracy, precision, \n",
    "    recall, f1. Returns a dataframe with results\"\"\"\n",
    "\n",
    "    logRegResults = {}\n",
    "    # metrics to test against\n",
    "    test_metrics = ['accuracy','precision','recall', 'f1']\n",
    "\n",
    "    for metric in test_metrics:\n",
    "        # generate test results\n",
    "        result = cross_val_score(LogisticRegression(), X, y, scoring=metric, cv=10)\n",
    "        # store result in dict\n",
    "        logRegResults[metric] = result.mean()\n",
    "        \n",
    "    # create dataframe with results\n",
    "    LogRegDF = pd.DataFrame.from_dict(logRegResults, orient='index', columns=['Logistic_Regression'])\n",
    "    \n",
    "    return LogRegDF"
   ]
  },
  {
   "cell_type": "code",
   "execution_count": 53,
   "id": "mathematical-superintendent",
   "metadata": {},
   "outputs": [
    {
     "name": "stdout",
     "output_type": "stream",
     "text": [
      "Mean results from 10 fold cross validation are:\n"
     ]
    },
    {
     "data": {
      "text/html": [
       "<div>\n",
       "<style scoped>\n",
       "    .dataframe tbody tr th:only-of-type {\n",
       "        vertical-align: middle;\n",
       "    }\n",
       "\n",
       "    .dataframe tbody tr th {\n",
       "        vertical-align: top;\n",
       "    }\n",
       "\n",
       "    .dataframe thead th {\n",
       "        text-align: right;\n",
       "    }\n",
       "</style>\n",
       "<table border=\"1\" class=\"dataframe\">\n",
       "  <thead>\n",
       "    <tr style=\"text-align: right;\">\n",
       "      <th></th>\n",
       "      <th>Logistic_Regression</th>\n",
       "    </tr>\n",
       "  </thead>\n",
       "  <tbody>\n",
       "    <tr>\n",
       "      <th>accuracy</th>\n",
       "      <td>0.965277</td>\n",
       "    </tr>\n",
       "    <tr>\n",
       "      <th>precision</th>\n",
       "      <td>0.221429</td>\n",
       "    </tr>\n",
       "    <tr>\n",
       "      <th>recall</th>\n",
       "      <td>0.029412</td>\n",
       "    </tr>\n",
       "    <tr>\n",
       "      <th>f1</th>\n",
       "      <td>0.050998</td>\n",
       "    </tr>\n",
       "  </tbody>\n",
       "</table>\n",
       "</div>"
      ],
      "text/plain": [
       "           Logistic_Regression\n",
       "accuracy              0.965277\n",
       "precision             0.221429\n",
       "recall                0.029412\n",
       "f1                    0.050998"
      ]
     },
     "execution_count": 53,
     "metadata": {},
     "output_type": "execute_result"
    }
   ],
   "source": [
    "logRegDF = cross_val_LogReg_DF(X,y)\n",
    "print(f\"Mean results from 10 fold cross validation are:\")\n",
    "logRegDF"
   ]
  },
  {
   "cell_type": "markdown",
   "id": "numeric-morning",
   "metadata": {},
   "source": [
    "### 3.4.3 Compare cross validation metrics to the single training\n",
    "The mean result of 10 sets of results.<br>\n",
    "Accuracy has fallen by 1% in comparison to the train and test data<br>\n",
    "Precision has fallen in comparison to the train and test data. I imagine it’s the mean results of the positive class that is causing this to be low. \n",
    "Recall and f1 are within 1% of the other results from the train and test datasets.\n"
   ]
  },
  {
   "cell_type": "markdown",
   "id": "sound-mortality",
   "metadata": {},
   "source": [
    "# 4. Random Forest Model"
   ]
  },
  {
   "cell_type": "markdown",
   "id": "sharp-martin",
   "metadata": {},
   "source": [
    "## 4.1 Train a random forest model"
   ]
  },
  {
   "cell_type": "code",
   "execution_count": 54,
   "id": "driving-rabbit",
   "metadata": {},
   "outputs": [
    {
     "data": {
      "text/plain": [
       "RandomForestClassifier(oob_score=True, random_state=1)"
      ]
     },
     "execution_count": 54,
     "metadata": {},
     "output_type": "execute_result"
    }
   ],
   "source": [
    "# Train RF with 100 trees\n",
    "rfc = RandomForestClassifier(n_estimators=100, max_features='auto', oob_score=True, random_state=1)\n",
    "rfc.fit(X_train, y_train)"
   ]
  },
  {
   "cell_type": "markdown",
   "id": "vietnamese-science",
   "metadata": {},
   "source": [
    "## 4.2 Interpret the Random Forest Model"
   ]
  },
  {
   "cell_type": "markdown",
   "id": "indie-calvin",
   "metadata": {},
   "source": [
    "A random forest tree model builds a committee of decision tree models and returns a final prediction calculated by aggregating the predictions of all the decision trees.<br>\n",
    "<b>Decision tree</b><br>\n",
    "A decision tree model is a set of if-then-else rules that we train using our training data.\n",
    "A decision tree is made up of a subset of the original data.<br>\n",
    "The max depth of a decision tree is the maximum number of times the data can be split. Below are examples of a decision tree that is 4 level deep and one that is 10 levels deep.<br>\n",
    "<b>Random Forest</b><br>\n",
    "A random Forest model is made up of multiple Decision Tree models the one we will use has a default of 100.\n"
   ]
  },
  {
   "cell_type": "code",
   "execution_count": 55,
   "id": "limiting-projection",
   "metadata": {},
   "outputs": [
    {
     "name": "stdout",
     "output_type": "stream",
     "text": [
      "Max depth 4: \n",
      " DecisionTreeClassifier(max_depth=4, random_state=1)\n",
      "Max depth 10: \n",
      " DecisionTreeClassifier(max_depth=10, random_state=1)\n"
     ]
    }
   ],
   "source": [
    "#Train a decision tree\n",
    "dtc4 = DecisionTreeClassifier(max_depth=4, random_state=1)\n",
    "dtc10 = DecisionTreeClassifier(max_depth=10, random_state=1)\n",
    "dtc4.fit(X_train, y_train)\n",
    "dtc10.fit(X_train, y_train)\n",
    "print(\"Max depth 4: \\n\",dtc4)\n",
    "print(\"Max depth 10: \\n\",dtc10)"
   ]
  },
  {
   "cell_type": "code",
   "execution_count": 56,
   "id": "received-knitting",
   "metadata": {},
   "outputs": [],
   "source": [
    "# create a Graphviz png\n",
    "with open(\"DecisionTree4.dot\", 'w') as f1:\n",
    "    f1 = export_graphviz(dtc4, out_file=f1, feature_names=X_train.columns)\n",
    "with open(\"DecisionTree10.dot\", 'w') as f2:\n",
    "    f2 = export_graphviz(dtc10, out_file=f2, feature_names=X_train.columns)\n",
    "!dot -Tpng DecisionTree4.dot -o DecisionTree4.png\n",
    "!dot -Tpng DecisionTree10.dot -o DecisionTree10.png"
   ]
  },
  {
   "cell_type": "markdown",
   "id": "undefined-chocolate",
   "metadata": {},
   "source": [
    "Below is a decision tree with max_depth=4<br>\n",
    "\n",
    "The root is age_group at value 75.0 - This splits the data with the highest information gain.<br>\n",
    "For each split the model selects the next best feature.\n",
    "This continues until it reaches a leaf node where the data cannot be split anymore.<br>\n",
    "The output of this is the prediction.<br>\n",
    "We can see one path below is resolved in 3 branches<br>\n",
    "age_group <= 75.0 -> age_group <= 55.0 -> age_group <= 25.0 -> Resolved to TRUE<br>\n",
    "Note: only 1 entry meets this requirement. All other entries need additional branches to be resolved"
   ]
  },
  {
   "cell_type": "markdown",
   "id": "classified-azerbaijan",
   "metadata": {},
   "source": [
    "<img src=\"DecisionTree4.png\">"
   ]
  },
  {
   "cell_type": "markdown",
   "id": "automatic-michigan",
   "metadata": {},
   "source": [
    "<img src=\"DecisionTree10.png\">"
   ]
  },
  {
   "cell_type": "markdown",
   "id": "controlling-smooth",
   "metadata": {},
   "source": [
    "Below we are evaluating our descriptive features and examining which features have the highest importance according to the Random Forest model. \n",
    "1. Age_group\n",
    "2. Race_ethnicity_combined\n",
    "3. Hosp_yn\n",
    "\n",
    "This seems to agree with earlier interpretation that age is the largest factor in predicting the target outcome.  "
   ]
  },
  {
   "cell_type": "code",
   "execution_count": 57,
   "id": "liquid-stanley",
   "metadata": {},
   "outputs": [
    {
     "data": {
      "text/html": [
       "<div>\n",
       "<style scoped>\n",
       "    .dataframe tbody tr th:only-of-type {\n",
       "        vertical-align: middle;\n",
       "    }\n",
       "\n",
       "    .dataframe tbody tr th {\n",
       "        vertical-align: top;\n",
       "    }\n",
       "\n",
       "    .dataframe thead th {\n",
       "        text-align: right;\n",
       "    }\n",
       "</style>\n",
       "<table border=\"1\" class=\"dataframe\">\n",
       "  <thead>\n",
       "    <tr style=\"text-align: right;\">\n",
       "      <th></th>\n",
       "      <th>feature</th>\n",
       "      <th>importance</th>\n",
       "    </tr>\n",
       "  </thead>\n",
       "  <tbody>\n",
       "    <tr>\n",
       "      <th>0</th>\n",
       "      <td>age_group</td>\n",
       "      <td>0.540155</td>\n",
       "    </tr>\n",
       "    <tr>\n",
       "      <th>2</th>\n",
       "      <td>hosp_yn</td>\n",
       "      <td>0.334452</td>\n",
       "    </tr>\n",
       "    <tr>\n",
       "      <th>1</th>\n",
       "      <td>race_ethnicity_combined</td>\n",
       "      <td>0.125394</td>\n",
       "    </tr>\n",
       "  </tbody>\n",
       "</table>\n",
       "</div>"
      ],
      "text/plain": [
       "                   feature  importance\n",
       "0                age_group    0.540155\n",
       "2                  hosp_yn    0.334452\n",
       "1  race_ethnicity_combined    0.125394"
      ]
     },
     "execution_count": 57,
     "metadata": {},
     "output_type": "execute_result"
    }
   ],
   "source": [
    "importance = pd.DataFrame({'feature': X_train.columns, 'importance':rfc.feature_importances_})\n",
    "importance.sort_values('importance', ascending=False)"
   ]
  },
  {
   "cell_type": "markdown",
   "id": "jewish-anthony",
   "metadata": {},
   "source": [
    "## 4.3 Print the first 10 example of the predicted class and the target feature."
   ]
  },
  {
   "cell_type": "code",
   "execution_count": 58,
   "id": "comparable-piano",
   "metadata": {},
   "outputs": [
    {
     "data": {
      "text/html": [
       "<div>\n",
       "<style scoped>\n",
       "    .dataframe tbody tr th:only-of-type {\n",
       "        vertical-align: middle;\n",
       "    }\n",
       "\n",
       "    .dataframe tbody tr th {\n",
       "        vertical-align: top;\n",
       "    }\n",
       "\n",
       "    .dataframe thead th {\n",
       "        text-align: right;\n",
       "    }\n",
       "</style>\n",
       "<table border=\"1\" class=\"dataframe\">\n",
       "  <thead>\n",
       "    <tr style=\"text-align: right;\">\n",
       "      <th></th>\n",
       "      <th>Actual</th>\n",
       "      <th>Predictions</th>\n",
       "    </tr>\n",
       "  </thead>\n",
       "  <tbody>\n",
       "    <tr>\n",
       "      <th>0</th>\n",
       "      <td>0</td>\n",
       "      <td>0</td>\n",
       "    </tr>\n",
       "    <tr>\n",
       "      <th>1</th>\n",
       "      <td>0</td>\n",
       "      <td>0</td>\n",
       "    </tr>\n",
       "    <tr>\n",
       "      <th>2</th>\n",
       "      <td>0</td>\n",
       "      <td>0</td>\n",
       "    </tr>\n",
       "    <tr>\n",
       "      <th>3</th>\n",
       "      <td>0</td>\n",
       "      <td>0</td>\n",
       "    </tr>\n",
       "    <tr>\n",
       "      <th>4</th>\n",
       "      <td>0</td>\n",
       "      <td>1</td>\n",
       "    </tr>\n",
       "    <tr>\n",
       "      <th>5</th>\n",
       "      <td>0</td>\n",
       "      <td>0</td>\n",
       "    </tr>\n",
       "    <tr>\n",
       "      <th>6</th>\n",
       "      <td>0</td>\n",
       "      <td>0</td>\n",
       "    </tr>\n",
       "    <tr>\n",
       "      <th>7</th>\n",
       "      <td>0</td>\n",
       "      <td>0</td>\n",
       "    </tr>\n",
       "    <tr>\n",
       "      <th>8</th>\n",
       "      <td>0</td>\n",
       "      <td>0</td>\n",
       "    </tr>\n",
       "    <tr>\n",
       "      <th>9</th>\n",
       "      <td>0</td>\n",
       "      <td>0</td>\n",
       "    </tr>\n",
       "  </tbody>\n",
       "</table>\n",
       "</div>"
      ],
      "text/plain": [
       "   Actual  Predictions\n",
       "0       0            0\n",
       "1       0            0\n",
       "2       0            0\n",
       "3       0            0\n",
       "4       0            1\n",
       "5       0            0\n",
       "6       0            0\n",
       "7       0            0\n",
       "8       0            0\n",
       "9       0            0"
      ]
     },
     "execution_count": 58,
     "metadata": {},
     "output_type": "execute_result"
    }
   ],
   "source": [
    "#Print the predicted target feature value for the first 10 training examples\n",
    "# using the trained model, on in-sample data (same sample used for training and test)\n",
    "rfc_predictions_train = rfc.predict(X_train)\n",
    "df_true_vs_rfc_predicted = pd.DataFrame({'Actual': y_train, 'Predictions': rfc_predictions_train})\n",
    "df_true_vs_rfc_predicted.head(10)"
   ]
  },
  {
   "cell_type": "code",
   "execution_count": 59,
   "id": "upset-nepal",
   "metadata": {},
   "outputs": [
    {
     "data": {
      "text/plain": [
       "array([0, 1], dtype=int64)"
      ]
     },
     "execution_count": 59,
     "metadata": {},
     "output_type": "execute_result"
    }
   ],
   "source": [
    "df_true_vs_rfc_predicted ['Predictions'].unique()"
   ]
  },
  {
   "cell_type": "code",
   "execution_count": 60,
   "id": "tropical-moment",
   "metadata": {},
   "outputs": [
    {
     "data": {
      "text/plain": [
       "array([0, 1], dtype=int64)"
      ]
     },
     "execution_count": 60,
     "metadata": {},
     "output_type": "execute_result"
    }
   ],
   "source": [
    "df_true_vs_rfc_predicted ['Actual'].unique()"
   ]
  },
  {
   "cell_type": "markdown",
   "id": "conscious-aerospace",
   "metadata": {},
   "source": [
    "This is a promising start as we have some predictions for both classes we will now look at further evaluation metrics and see how good this model is at predicting both the negative and positive classes."
   ]
  },
  {
   "cell_type": "markdown",
   "id": "nuclear-canadian",
   "metadata": {},
   "source": [
    "### 4.3.1 Classification Evaluation Measures"
   ]
  },
  {
   "cell_type": "code",
   "execution_count": 61,
   "id": "possible-straight",
   "metadata": {},
   "outputs": [
    {
     "name": "stdout",
     "output_type": "stream",
     "text": [
      "==================== Train Data =======================\n",
      "Accuracy:  0.9678396308047303\n",
      "Confusion matrix: \n",
      " [[6641   52]\n",
      " [ 171   70]]\n",
      "Classification report:\n",
      "                precision    recall  f1-score   support\n",
      "\n",
      "           0       0.97      0.99      0.98      6693\n",
      "           1       0.57      0.29      0.39       241\n",
      "\n",
      "    accuracy                           0.97      6934\n",
      "   macro avg       0.77      0.64      0.68      6934\n",
      "weighted avg       0.96      0.97      0.96      6934\n",
      "\n"
     ]
    }
   ],
   "source": [
    "#Print a few classification evaluation measures computed on the full training set\n",
    "print(\"==================== Train Data =======================\")\n",
    "print(\"Accuracy: \", metrics.accuracy_score(y_train, rfc_predictions_train))\n",
    "print(\"Confusion matrix: \\n\", metrics.confusion_matrix(y_train, rfc_predictions_train))\n",
    "print(\"Classification report:\\n \", metrics.classification_report(y_train, rfc_predictions_train))"
   ]
  },
  {
   "cell_type": "markdown",
   "id": "brazilian-spending",
   "metadata": {},
   "source": [
    "### 4.3.2 Interpretation of results\n",
    "\n",
    "-<b>Accuracy</b>\n",
    "We have an accuracy of 97%\n",
    "<br>\n",
    "-<b>Precision</b> \n",
    "Precision Positive is 0.57\n",
    "Precision Negative is 0.97\n",
    "<br>\n",
    "<b>-Recall</b> - What % of the positive values did we predict\n",
    "Recall Positive is 0.29\n",
    "Recall Negative is 0.99\n",
    "<br>\n",
    "<b>-F1 Score</b> - Is an a weighted average of Precision and recall\n",
    "F1 Score Positive is 0.39\n",
    "F1 Score Negative is 0.98\n",
    "<br>\n",
    "<b>-Summary</b>\n",
    "\n",
    "Accuracy is in line with the linear regression model\n",
    "The Random Forest model is better at predicting the positive class than both the linear regression model and the logistic regression model.\n"
   ]
  },
  {
   "cell_type": "markdown",
   "id": "metropolitan-capital",
   "metadata": {},
   "source": [
    "## 4.4 Evaluate model on test set"
   ]
  },
  {
   "cell_type": "code",
   "execution_count": 62,
   "id": "rubber-cream",
   "metadata": {},
   "outputs": [
    {
     "data": {
      "text/html": [
       "<div>\n",
       "<style scoped>\n",
       "    .dataframe tbody tr th:only-of-type {\n",
       "        vertical-align: middle;\n",
       "    }\n",
       "\n",
       "    .dataframe tbody tr th {\n",
       "        vertical-align: top;\n",
       "    }\n",
       "\n",
       "    .dataframe thead th {\n",
       "        text-align: right;\n",
       "    }\n",
       "</style>\n",
       "<table border=\"1\" class=\"dataframe\">\n",
       "  <thead>\n",
       "    <tr style=\"text-align: right;\">\n",
       "      <th></th>\n",
       "      <th>ActualClass</th>\n",
       "      <th>PredictedClass</th>\n",
       "    </tr>\n",
       "  </thead>\n",
       "  <tbody>\n",
       "    <tr>\n",
       "      <th>0</th>\n",
       "      <td>0</td>\n",
       "      <td>0</td>\n",
       "    </tr>\n",
       "    <tr>\n",
       "      <th>1</th>\n",
       "      <td>0</td>\n",
       "      <td>0</td>\n",
       "    </tr>\n",
       "    <tr>\n",
       "      <th>2</th>\n",
       "      <td>0</td>\n",
       "      <td>0</td>\n",
       "    </tr>\n",
       "    <tr>\n",
       "      <th>3</th>\n",
       "      <td>0</td>\n",
       "      <td>0</td>\n",
       "    </tr>\n",
       "    <tr>\n",
       "      <th>4</th>\n",
       "      <td>0</td>\n",
       "      <td>0</td>\n",
       "    </tr>\n",
       "    <tr>\n",
       "      <th>5</th>\n",
       "      <td>0</td>\n",
       "      <td>0</td>\n",
       "    </tr>\n",
       "    <tr>\n",
       "      <th>6</th>\n",
       "      <td>0</td>\n",
       "      <td>0</td>\n",
       "    </tr>\n",
       "    <tr>\n",
       "      <th>7</th>\n",
       "      <td>1</td>\n",
       "      <td>1</td>\n",
       "    </tr>\n",
       "    <tr>\n",
       "      <th>8</th>\n",
       "      <td>0</td>\n",
       "      <td>0</td>\n",
       "    </tr>\n",
       "    <tr>\n",
       "      <th>9</th>\n",
       "      <td>0</td>\n",
       "      <td>0</td>\n",
       "    </tr>\n",
       "  </tbody>\n",
       "</table>\n",
       "</div>"
      ],
      "text/plain": [
       "   ActualClass  PredictedClass\n",
       "0            0               0\n",
       "1            0               0\n",
       "2            0               0\n",
       "3            0               0\n",
       "4            0               0\n",
       "5            0               0\n",
       "6            0               0\n",
       "7            1               1\n",
       "8            0               0\n",
       "9            0               0"
      ]
     },
     "execution_count": 62,
     "metadata": {},
     "output_type": "execute_result"
    }
   ],
   "source": [
    "# Predicted class labels for all examples, \n",
    "# using the trained model, on in-sample data (same sample used for training and test)\n",
    "rfc_predictions_test = rfc.predict(X_test)\n",
    "df_true_vs_rfc_predicted_test = pd.DataFrame({'ActualClass': y_test, 'PredictedClass': rfc_predictions_test})\n",
    "df_true_vs_rfc_predicted_test.head(10)"
   ]
  },
  {
   "cell_type": "code",
   "execution_count": 63,
   "id": "lonely-obligation",
   "metadata": {},
   "outputs": [
    {
     "name": "stdout",
     "output_type": "stream",
     "text": [
      "==================== Test Data =======================\n",
      "Accuracy:  0.9653548604103599\n",
      "Confusion matrix: \n",
      " [[2845   29]\n",
      " [  74   25]]\n",
      "Classification report:\n",
      "                precision    recall  f1-score   support\n",
      "\n",
      "           0       0.97      0.99      0.98      2874\n",
      "           1       0.46      0.25      0.33        99\n",
      "\n",
      "    accuracy                           0.97      2973\n",
      "   macro avg       0.72      0.62      0.65      2973\n",
      "weighted avg       0.96      0.97      0.96      2973\n",
      "\n"
     ]
    }
   ],
   "source": [
    "print(\"==================== Test Data =======================\")\n",
    "print(\"Accuracy: \", metrics.accuracy_score(y_test, rfc_predictions_test))\n",
    "print(\"Confusion matrix: \\n\", metrics.confusion_matrix(y_test, rfc_predictions_test))\n",
    "print(\"Classification report:\\n \", metrics.classification_report(y_test, rfc_predictions_test))\n"
   ]
  },
  {
   "cell_type": "markdown",
   "id": "breeding-colony",
   "metadata": {},
   "source": [
    "### 4.4.1 Compare training and test data"
   ]
  },
  {
   "cell_type": "markdown",
   "id": "inappropriate-phoenix",
   "metadata": {},
   "source": [
    " Interpretation of results\n",
    "THe negative class remains unchanged.\n",
    "-<b>Accuracy</b>\n",
    "We have an accuracy of 97%\n",
    "<br>\n",
    "-<b>Precision</b> \n",
    "Precision Positive is 0.46\n",
    "Precision Negative is 0.97\n",
    "<br>\n",
    "<b>-Recall</b> - What % of the positive values did we predict\n",
    "Recall Positive is 0.25\n",
    "Recall Negative is 1.00\n",
    "<br>\n",
    "<b>-F1 Score</b> - Is an a weighted average of Precision and recall\n",
    "F1 Score Positive is 0.33\n",
    "F1 Score Negative is 0.98\n",
    "<br>\n",
    "<b>-Summary</b>\n",
    "The positive class has dropped a bit but this is to be expected as the model is seeing new data.\n",
    "\n",
    "    \n",
    "    Training data\n",
    "    Confusion matrix: \n",
    "     [[6641   52]\n",
    "     [ 171   70]]\n",
    "     \n",
    "Logistic regression          \n",
    "The training data has:\n",
    "7 False positives\n",
    "7 True positives\n",
    "234 False Negatives\n",
    "6686 True Negatives   \n",
    "     \n",
    "The training data has:\n",
    "52 False positives\n",
    "70 True positives\n",
    "171 False Negatives\n",
    "6641 True Negatives  \n",
    "     \n",
    "     Test data\n",
    "     Confusion matrix: \n",
    "     [[2845   29]\n",
    "     [  74   25]]\n",
    "     \n",
    "The test data has:\n",
    "29 False positives\n",
    "25 True positives\n",
    "74 False Negatives\n",
    "2845 True Negatives  \n",
    "\n",
    "\n",
    "Logistic regression     \n",
    "The test data has:\n",
    "4 False positives\n",
    "2 True positives\n",
    "97 False Negatives\n",
    "2870 True Negatives\n",
    "\n",
    " "
   ]
  },
  {
   "cell_type": "markdown",
   "id": "aquatic-spine",
   "metadata": {},
   "source": [
    "### 4.4.2 Cross evaluation"
   ]
  },
  {
   "cell_type": "code",
   "execution_count": 64,
   "id": "smaller-canadian",
   "metadata": {},
   "outputs": [],
   "source": [
    "def cross_val_RandomForest_DF(X,y, depth=None, estimators=100):\n",
    "    \"\"\"Function to perform cross validation and store results \n",
    "    in dataframe. Cross validation looks at accuracy, precision, \n",
    "    recall, f1. Returns a dataframe with results\"\"\"\n",
    "\n",
    "    # store results in dict\n",
    "    RandomForestResults = {}\n",
    "    # metrics to test against\n",
    "    test_metrics = ['accuracy','precision','recall', 'f1']\n",
    "\n",
    "    for metric in test_metrics:\n",
    "        # generate test results\n",
    "        result = cross_val_score(RandomForestClassifier(n_estimators=estimators, max_features='auto', oob_score=True, random_state=1, max_depth=depth), X, y, scoring=metric, cv=10)\n",
    "        # store result in dict\n",
    "        RandomForestResults[metric] = result.mean()\n",
    "    \n",
    "    # create dataframe with results\n",
    "    RandomForestDF = pd.DataFrame.from_dict(RandomForestResults, orient='index', columns=['Random_Forests'])\n",
    "\n",
    "    return RandomForestDF"
   ]
  },
  {
   "cell_type": "code",
   "execution_count": 65,
   "id": "desirable-timeline",
   "metadata": {},
   "outputs": [
    {
     "name": "stdout",
     "output_type": "stream",
     "text": [
      "Mean results from 10 fold cross validation are:\n"
     ]
    },
    {
     "data": {
      "text/html": [
       "<div>\n",
       "<style scoped>\n",
       "    .dataframe tbody tr th:only-of-type {\n",
       "        vertical-align: middle;\n",
       "    }\n",
       "\n",
       "    .dataframe tbody tr th {\n",
       "        vertical-align: top;\n",
       "    }\n",
       "\n",
       "    .dataframe thead th {\n",
       "        text-align: right;\n",
       "    }\n",
       "</style>\n",
       "<table border=\"1\" class=\"dataframe\">\n",
       "  <thead>\n",
       "    <tr style=\"text-align: right;\">\n",
       "      <th></th>\n",
       "      <th>Random_Forests</th>\n",
       "    </tr>\n",
       "  </thead>\n",
       "  <tbody>\n",
       "    <tr>\n",
       "      <th>accuracy</th>\n",
       "      <td>0.964671</td>\n",
       "    </tr>\n",
       "    <tr>\n",
       "      <th>precision</th>\n",
       "      <td>0.459501</td>\n",
       "    </tr>\n",
       "    <tr>\n",
       "      <th>recall</th>\n",
       "      <td>0.197059</td>\n",
       "    </tr>\n",
       "    <tr>\n",
       "      <th>f1</th>\n",
       "      <td>0.273247</td>\n",
       "    </tr>\n",
       "  </tbody>\n",
       "</table>\n",
       "</div>"
      ],
      "text/plain": [
       "           Random_Forests\n",
       "accuracy         0.964671\n",
       "precision        0.459501\n",
       "recall           0.197059\n",
       "f1               0.273247"
      ]
     },
     "execution_count": 65,
     "metadata": {},
     "output_type": "execute_result"
    }
   ],
   "source": [
    "RandomForestDF = cross_val_RandomForest_DF(X,y)\n",
    "print(f\"Mean results from 10 fold cross validation are:\")\n",
    "RandomForestDF"
   ]
  },
  {
   "cell_type": "code",
   "execution_count": 66,
   "id": "relevant-edmonton",
   "metadata": {},
   "outputs": [
    {
     "data": {
      "text/plain": [
       "0.963801557542544"
      ]
     },
     "execution_count": 66,
     "metadata": {},
     "output_type": "execute_result"
    }
   ],
   "source": [
    "# compute the out-of-bag classification accuracy\n",
    "rfc.oob_score_"
   ]
  },
  {
   "cell_type": "markdown",
   "id": "experimental-cruise",
   "metadata": {},
   "source": [
    "### 4.4.3 Compare the cross-validation metrics to those obtained on the single train/test split and to the out-of-sample error"
   ]
  },
  {
   "cell_type": "markdown",
   "id": "about-canada",
   "metadata": {},
   "source": [
    "The results above are inline with expectation\n",
    "- The accuracy is approximately the same between all three models.\n",
    "- The precision, is over twice as high as logistic regression.\n",
    "- Recall and f1 are also significantly higher than logistic regression.\n",
    "- This model is much better able to predict the terget feature than the other two models.\n"
   ]
  },
  {
   "cell_type": "markdown",
   "id": "joint-chamber",
   "metadata": {},
   "source": [
    "This is a further test for the random forest accuracy and it shold be roughly inline with the above accuracy to confirm the model trained well."
   ]
  },
  {
   "cell_type": "markdown",
   "id": "operating-wagon",
   "metadata": {},
   "source": [
    "# 5. Improving predictive models"
   ]
  },
  {
   "cell_type": "markdown",
   "id": "black-boston",
   "metadata": {},
   "source": [
    "Linear regression may have an issue if the descriptive features and the target feature do not have a linear relationship. We can overcome this by creating new features to that show the nonlinear relationship and will allow the Linear regression model to be used for nonlinear problems."
   ]
  },
  {
   "cell_type": "markdown",
   "id": "rational-correlation",
   "metadata": {},
   "source": [
    "## 5.1 Which model performs best?"
   ]
  },
  {
   "cell_type": "code",
   "execution_count": 67,
   "id": "atmospheric-trinidad",
   "metadata": {},
   "outputs": [
    {
     "data": {
      "text/html": [
       "<div>\n",
       "<style scoped>\n",
       "    .dataframe tbody tr th:only-of-type {\n",
       "        vertical-align: middle;\n",
       "    }\n",
       "\n",
       "    .dataframe tbody tr th {\n",
       "        vertical-align: top;\n",
       "    }\n",
       "\n",
       "    .dataframe thead th {\n",
       "        text-align: right;\n",
       "    }\n",
       "</style>\n",
       "<table border=\"1\" class=\"dataframe\">\n",
       "  <thead>\n",
       "    <tr style=\"text-align: right;\">\n",
       "      <th></th>\n",
       "      <th>Linear_Regression</th>\n",
       "      <th>Logistic_Regression</th>\n",
       "      <th>Random_Forests</th>\n",
       "    </tr>\n",
       "  </thead>\n",
       "  <tbody>\n",
       "    <tr>\n",
       "      <th>accuracy</th>\n",
       "      <td>0.964649</td>\n",
       "      <td>0.965277</td>\n",
       "      <td>0.964671</td>\n",
       "    </tr>\n",
       "    <tr>\n",
       "      <th>precision</th>\n",
       "      <td>0.000000</td>\n",
       "      <td>0.221429</td>\n",
       "      <td>0.459501</td>\n",
       "    </tr>\n",
       "    <tr>\n",
       "      <th>recall</th>\n",
       "      <td>0.000000</td>\n",
       "      <td>0.029412</td>\n",
       "      <td>0.197059</td>\n",
       "    </tr>\n",
       "    <tr>\n",
       "      <th>f1</th>\n",
       "      <td>0.000000</td>\n",
       "      <td>0.050998</td>\n",
       "      <td>0.273247</td>\n",
       "    </tr>\n",
       "  </tbody>\n",
       "</table>\n",
       "</div>"
      ],
      "text/plain": [
       "           Linear_Regression  Logistic_Regression  Random_Forests\n",
       "accuracy            0.964649             0.965277        0.964671\n",
       "precision           0.000000             0.221429        0.459501\n",
       "recall              0.000000             0.029412        0.197059\n",
       "f1                  0.000000             0.050998        0.273247"
      ]
     },
     "execution_count": 67,
     "metadata": {},
     "output_type": "execute_result"
    }
   ],
   "source": [
    "compare_performance = pd.concat([linRegDF, logRegDF, RandomForestDF], axis=1)\n",
    "compare_performance"
   ]
  },
  {
   "cell_type": "markdown",
   "id": "saved-mustang",
   "metadata": {},
   "source": [
    "The Random Forests Model is clearly the best model of the three it far exceeds the other two in precision recall and f1 although the do have the same accuracy. I feel the accuracy may be down to 96.67% of the data set is made up of the negative class while only 3.33% is made up of the positive call as we will see in the next section.\n",
    "\n",
    "Logistic regression          \n",
    "The training data has:\n",
    "7 False positives\n",
    "7 True positives\n",
    "234 False Negatives\n",
    "6686 True Negatives   \n",
    "     \n",
    "\n",
    "Random Forest\n",
    "The training data has:\n",
    "52 False positives\n",
    "70 True positives\n",
    "171 False Negatives\n",
    "6641 True Negatives  \n",
    "\n",
    "Random Forest\n",
    "The test data has:\n",
    "29 False positives\n",
    "25 True positives\n",
    "74 False Negatives\n",
    "2845 True Negatives  \n",
    "\n",
    "\n",
    "Logistic regression     \n",
    "The test data has:\n",
    "4 False positives\n",
    "2 True positives\n",
    "97 False Negatives\n",
    "2870 True Negatives\n",
    "\n",
    "We can also see here with the confusion matrix the random forest model is better able to predict True positives. True negatives do fall slightly but I think the greater accuracy in the positive class is worth the trade-off.\n"
   ]
  },
  {
   "cell_type": "markdown",
   "id": "mediterranean-alexander",
   "metadata": {},
   "source": [
    "## 5.1.1 Does it perform better than a simple model?"
   ]
  },
  {
   "cell_type": "code",
   "execution_count": 68,
   "id": "micro-copyright",
   "metadata": {},
   "outputs": [
    {
     "name": "stdout",
     "output_type": "stream",
     "text": [
      "From original dataset: \t\tCount 6934\n",
      "Total number that died:\t\t 241\t8.11%\n",
      "Total number that survived:\t 6693\t225.13%\n"
     ]
    }
   ],
   "source": [
    "#preparing a simple model getting the counts to see which class is the most dominant but even before this we can see its the death = no\n",
    "yes_death_outcome = y_train[y_train == 1].count()\n",
    "no_death_outcome = y_train[y_train == 0].count()\n",
    "total = yes_death_outcome+no_death_outcome\n",
    "print(f'From original dataset: \\t\\tCount {total}')\n",
    "print(f'Total number that died:\\t\\t {yes_death_outcome}\\t{round(yes_death_outcome/len(y_test)*100,2)}%')\n",
    "print(f'Total number that survived:\\t {no_death_outcome}\\t{round(no_death_outcome/len(y_test)*100,2)}%')"
   ]
  },
  {
   "cell_type": "code",
   "execution_count": 69,
   "id": "immune-brighton",
   "metadata": {},
   "outputs": [
    {
     "name": "stdout",
     "output_type": "stream",
     "text": [
      "From original dataset: \t\tCount 2973\n",
      "Total number that died:\t\t 99\t3.33%\n",
      "Total number that survived:\t 2874\t96.67%\n"
     ]
    }
   ],
   "source": [
    "#preparing a simple model getting the counts to see which class is the most dominant but even before this we can see its the death = no\n",
    "yes_death_outcome = y_test[y_test == 1].count()\n",
    "no_death_outcome = y_test[y_test == 0].count()\n",
    "total = yes_death_outcome+no_death_outcome\n",
    "print(f'From original dataset: \\t\\tCount {total}')\n",
    "print(f'Total number that died:\\t\\t {yes_death_outcome}\\t{round(yes_death_outcome/len(y_test)*100,2)}%')\n",
    "print(f'Total number that survived:\\t {no_death_outcome}\\t{round(no_death_outcome/len(y_test)*100,2)}%')"
   ]
  },
  {
   "cell_type": "code",
   "execution_count": 70,
   "id": "experimental-stuart",
   "metadata": {},
   "outputs": [
    {
     "name": "stdout",
     "output_type": "stream",
     "text": [
      "Accuracy:  0.9667003027245207\n",
      "Confusion matrix: \n",
      " [[2874    0]\n",
      " [  99    0]]\n",
      "Classification report:\n",
      "                precision    recall  f1-score   support\n",
      "\n",
      "           0       0.97      1.00      0.98      2874\n",
      "           1       0.00      0.00      0.00        99\n",
      "\n",
      "    accuracy                           0.97      2973\n",
      "   macro avg       0.48      0.50      0.49      2973\n",
      "weighted avg       0.93      0.97      0.95      2973\n",
      "\n"
     ]
    }
   ],
   "source": [
    "# generate array of 2973 zeros (length of test dataset)\n",
    "majority = np.zeros(2973)\n",
    "# create dataframe \n",
    "df_majorityClass = pd.DataFrame(majority, columns=['prediction'])\n",
    "# calculate scores of simple predictin vs actual\n",
    "print(\"Accuracy: \", metrics.accuracy_score(y_test, df_majorityClass))\n",
    "print(\"Confusion matrix: \\n\", metrics.confusion_matrix(y_test, df_majorityClass))\n",
    "print(\"Classification report:\\n \", metrics.classification_report(y_test, df_majorityClass))"
   ]
  },
  {
   "cell_type": "markdown",
   "id": "soviet-floating",
   "metadata": {},
   "source": [
    "For predicting death because of Covid-19 the simple model fails completely as expected.\n",
    "For predicting the negative class, the simple model does just as well as any of the models but, as mentioned above this coincides with how heavily the dataset is weighted in the negative classes favour.\n",
    "The simple model cannot predict any of the positive class as expected.\n",
    "This model is very like the linear regression results and it does not predict as well as the random forest model."
   ]
  },
  {
   "cell_type": "markdown",
   "id": "floppy-episode",
   "metadata": {},
   "source": [
    "# 5.2  Summarise your understanding of the problem and of your predictive modeling results so far."
   ]
  },
  {
   "cell_type": "markdown",
   "id": "brazilian-receiver",
   "metadata": {},
   "source": [
    "All three models can predict the negative class well. It can do this as there is a lot of data on the negative class than on the positive class. So, I have focused on which of the models are better at predicting the positive class which is clearly the Random Forests model.<br>\n",
    "There is some trade off when picking the best model as the logistic model is better at predicting true negatives while the random forest model is better at predicting true positives we get more false positives with the Random forest model than logistic regression but we get less false negatives.<br>\n",
    "I think the main issue is that there is not enough data that strongly relates to the outcome of death that allow the models to train better. Age has the strongest link to the an outcome of death and you can see that in the graphs in section 1. It has a upward trend as age increases."
   ]
  },
  {
   "cell_type": "markdown",
   "id": "secondary-wright",
   "metadata": {},
   "source": [
    "## 5.2.1 New ideas to improve the best model so far"
   ]
  },
  {
   "cell_type": "markdown",
   "id": "roman-spelling",
   "metadata": {},
   "source": [
    "- Add more data I will combine my original data set with the other data set we've been given to train the model with.\n",
    "- Add more descriptive features."
   ]
  },
  {
   "cell_type": "markdown",
   "id": "accredited-telescope",
   "metadata": {},
   "source": [
    "## 5.2.2 Show how it could work in practice."
   ]
  },
  {
   "cell_type": "code",
   "execution_count": 71,
   "id": "angry-protest",
   "metadata": {},
   "outputs": [
    {
     "data": {
      "text/html": [
       "<div>\n",
       "<style scoped>\n",
       "    .dataframe tbody tr th:only-of-type {\n",
       "        vertical-align: middle;\n",
       "    }\n",
       "\n",
       "    .dataframe tbody tr th {\n",
       "        vertical-align: top;\n",
       "    }\n",
       "\n",
       "    .dataframe thead th {\n",
       "        text-align: right;\n",
       "    }\n",
       "</style>\n",
       "<table border=\"1\" class=\"dataframe\">\n",
       "  <thead>\n",
       "    <tr style=\"text-align: right;\">\n",
       "      <th></th>\n",
       "      <th>current_status</th>\n",
       "      <th>sex</th>\n",
       "      <th>age_group</th>\n",
       "      <th>race_ethnicity_combined</th>\n",
       "      <th>hosp_yn</th>\n",
       "      <th>icu_yn</th>\n",
       "      <th>death_yn</th>\n",
       "      <th>medcond_yn</th>\n",
       "    </tr>\n",
       "  </thead>\n",
       "  <tbody>\n",
       "    <tr>\n",
       "      <th>0</th>\n",
       "      <td>1</td>\n",
       "      <td>0</td>\n",
       "      <td>60</td>\n",
       "      <td>1</td>\n",
       "      <td>0</td>\n",
       "      <td>0</td>\n",
       "      <td>0</td>\n",
       "      <td>2</td>\n",
       "    </tr>\n",
       "    <tr>\n",
       "      <th>1</th>\n",
       "      <td>1</td>\n",
       "      <td>0</td>\n",
       "      <td>10</td>\n",
       "      <td>2</td>\n",
       "      <td>0</td>\n",
       "      <td>0</td>\n",
       "      <td>0</td>\n",
       "      <td>1</td>\n",
       "    </tr>\n",
       "    <tr>\n",
       "      <th>2</th>\n",
       "      <td>1</td>\n",
       "      <td>0</td>\n",
       "      <td>20</td>\n",
       "      <td>0</td>\n",
       "      <td>0</td>\n",
       "      <td>0</td>\n",
       "      <td>0</td>\n",
       "      <td>2</td>\n",
       "    </tr>\n",
       "    <tr>\n",
       "      <th>3</th>\n",
       "      <td>1</td>\n",
       "      <td>1</td>\n",
       "      <td>20</td>\n",
       "      <td>1</td>\n",
       "      <td>0</td>\n",
       "      <td>0</td>\n",
       "      <td>0</td>\n",
       "      <td>2</td>\n",
       "    </tr>\n",
       "    <tr>\n",
       "      <th>4</th>\n",
       "      <td>1</td>\n",
       "      <td>0</td>\n",
       "      <td>70</td>\n",
       "      <td>0</td>\n",
       "      <td>1</td>\n",
       "      <td>1</td>\n",
       "      <td>0</td>\n",
       "      <td>2</td>\n",
       "    </tr>\n",
       "  </tbody>\n",
       "</table>\n",
       "</div>"
      ],
      "text/plain": [
       "   current_status  sex  age_group  race_ethnicity_combined  hosp_yn  icu_yn  \\\n",
       "0               1    0         60                        1        0       0   \n",
       "1               1    0         10                        2        0       0   \n",
       "2               1    0         20                        0        0       0   \n",
       "3               1    1         20                        1        0       0   \n",
       "4               1    0         70                        0        1       1   \n",
       "\n",
       "   death_yn  medcond_yn  \n",
       "0         0           2  \n",
       "1         0           1  \n",
       "2         0           2  \n",
       "3         0           2  \n",
       "4         0           2  "
      ]
     },
     "execution_count": 71,
     "metadata": {},
     "output_type": "execute_result"
    }
   ],
   "source": [
    "# Reading in the csv file\n",
    "combined_df = pd.read_csv('combined7_clean_df05052021.csv', keep_default_na=True, sep=',\\s+', delimiter=',', skipinitialspace=True)\n",
    "# Show data frame first few rows\n",
    "combined_df.head()"
   ]
  },
  {
   "cell_type": "code",
   "execution_count": 72,
   "id": "unnecessary-thompson",
   "metadata": {},
   "outputs": [],
   "source": [
    "combined_df=combined_df.drop(['current_status','sex'],1)"
   ]
  },
  {
   "cell_type": "code",
   "execution_count": 73,
   "id": "responsible-viewer",
   "metadata": {},
   "outputs": [],
   "source": [
    "X = combined_df.drop([\"death_yn\"],1)\n",
    "y = combined_df[\"death_yn\"]"
   ]
  },
  {
   "cell_type": "code",
   "execution_count": 74,
   "id": "lasting-allocation",
   "metadata": {},
   "outputs": [],
   "source": [
    "X_train, X_test, y_train, y_test = train_test_split(X, y, test_size=0.3, random_state=1,shuffle=True)"
   ]
  },
  {
   "cell_type": "code",
   "execution_count": 75,
   "id": "welsh-wages",
   "metadata": {},
   "outputs": [
    {
     "data": {
      "text/plain": [
       "RandomForestClassifier(oob_score=True, random_state=1)"
      ]
     },
     "execution_count": 75,
     "metadata": {},
     "output_type": "execute_result"
    }
   ],
   "source": [
    "# Train RF with 100 trees\n",
    "rfc = RandomForestClassifier(n_estimators=100, max_features='auto', oob_score=True, random_state=1)\n",
    "rfc.fit(X_train, y_train)"
   ]
  },
  {
   "cell_type": "code",
   "execution_count": 76,
   "id": "given-culture",
   "metadata": {},
   "outputs": [
    {
     "data": {
      "text/html": [
       "<div>\n",
       "<style scoped>\n",
       "    .dataframe tbody tr th:only-of-type {\n",
       "        vertical-align: middle;\n",
       "    }\n",
       "\n",
       "    .dataframe tbody tr th {\n",
       "        vertical-align: top;\n",
       "    }\n",
       "\n",
       "    .dataframe thead th {\n",
       "        text-align: right;\n",
       "    }\n",
       "</style>\n",
       "<table border=\"1\" class=\"dataframe\">\n",
       "  <thead>\n",
       "    <tr style=\"text-align: right;\">\n",
       "      <th></th>\n",
       "      <th>feature</th>\n",
       "      <th>importance</th>\n",
       "    </tr>\n",
       "  </thead>\n",
       "  <tbody>\n",
       "    <tr>\n",
       "      <th>0</th>\n",
       "      <td>age_group</td>\n",
       "      <td>0.400818</td>\n",
       "    </tr>\n",
       "    <tr>\n",
       "      <th>1</th>\n",
       "      <td>race_ethnicity_combined</td>\n",
       "      <td>0.186969</td>\n",
       "    </tr>\n",
       "    <tr>\n",
       "      <th>2</th>\n",
       "      <td>hosp_yn</td>\n",
       "      <td>0.175572</td>\n",
       "    </tr>\n",
       "    <tr>\n",
       "      <th>3</th>\n",
       "      <td>icu_yn</td>\n",
       "      <td>0.161194</td>\n",
       "    </tr>\n",
       "    <tr>\n",
       "      <th>4</th>\n",
       "      <td>medcond_yn</td>\n",
       "      <td>0.075446</td>\n",
       "    </tr>\n",
       "  </tbody>\n",
       "</table>\n",
       "</div>"
      ],
      "text/plain": [
       "                   feature  importance\n",
       "0                age_group    0.400818\n",
       "1  race_ethnicity_combined    0.186969\n",
       "2                  hosp_yn    0.175572\n",
       "3                   icu_yn    0.161194\n",
       "4               medcond_yn    0.075446"
      ]
     },
     "execution_count": 76,
     "metadata": {},
     "output_type": "execute_result"
    }
   ],
   "source": [
    "importance = pd.DataFrame({'feature': X_train.columns, 'importance':rfc.feature_importances_})\n",
    "importance.sort_values('importance', ascending=False)"
   ]
  },
  {
   "cell_type": "code",
   "execution_count": 77,
   "id": "extreme-wholesale",
   "metadata": {},
   "outputs": [
    {
     "data": {
      "text/html": [
       "<div>\n",
       "<style scoped>\n",
       "    .dataframe tbody tr th:only-of-type {\n",
       "        vertical-align: middle;\n",
       "    }\n",
       "\n",
       "    .dataframe tbody tr th {\n",
       "        vertical-align: top;\n",
       "    }\n",
       "\n",
       "    .dataframe thead th {\n",
       "        text-align: right;\n",
       "    }\n",
       "</style>\n",
       "<table border=\"1\" class=\"dataframe\">\n",
       "  <thead>\n",
       "    <tr style=\"text-align: right;\">\n",
       "      <th></th>\n",
       "      <th>Actual</th>\n",
       "      <th>Predictions</th>\n",
       "    </tr>\n",
       "  </thead>\n",
       "  <tbody>\n",
       "    <tr>\n",
       "      <th>15856</th>\n",
       "      <td>0</td>\n",
       "      <td>0</td>\n",
       "    </tr>\n",
       "    <tr>\n",
       "      <th>4949</th>\n",
       "      <td>0</td>\n",
       "      <td>0</td>\n",
       "    </tr>\n",
       "    <tr>\n",
       "      <th>3705</th>\n",
       "      <td>0</td>\n",
       "      <td>0</td>\n",
       "    </tr>\n",
       "    <tr>\n",
       "      <th>5483</th>\n",
       "      <td>0</td>\n",
       "      <td>0</td>\n",
       "    </tr>\n",
       "    <tr>\n",
       "      <th>689</th>\n",
       "      <td>0</td>\n",
       "      <td>0</td>\n",
       "    </tr>\n",
       "    <tr>\n",
       "      <th>8747</th>\n",
       "      <td>0</td>\n",
       "      <td>0</td>\n",
       "    </tr>\n",
       "    <tr>\n",
       "      <th>18328</th>\n",
       "      <td>0</td>\n",
       "      <td>0</td>\n",
       "    </tr>\n",
       "    <tr>\n",
       "      <th>7374</th>\n",
       "      <td>0</td>\n",
       "      <td>0</td>\n",
       "    </tr>\n",
       "    <tr>\n",
       "      <th>15910</th>\n",
       "      <td>0</td>\n",
       "      <td>0</td>\n",
       "    </tr>\n",
       "    <tr>\n",
       "      <th>12082</th>\n",
       "      <td>0</td>\n",
       "      <td>0</td>\n",
       "    </tr>\n",
       "  </tbody>\n",
       "</table>\n",
       "</div>"
      ],
      "text/plain": [
       "       Actual  Predictions\n",
       "15856       0            0\n",
       "4949        0            0\n",
       "3705        0            0\n",
       "5483        0            0\n",
       "689         0            0\n",
       "8747        0            0\n",
       "18328       0            0\n",
       "7374        0            0\n",
       "15910       0            0\n",
       "12082       0            0"
      ]
     },
     "execution_count": 77,
     "metadata": {},
     "output_type": "execute_result"
    }
   ],
   "source": [
    "#Print the predicted target feature value for the first 10 training examples\n",
    "# using the trained model, on in-sample data (same sample used for training and test)\n",
    "rfc_predictions_train = rfc.predict(X_train)\n",
    "df_true_vs_rfc_predicted = pd.DataFrame({'Actual': y_train, 'Predictions': rfc_predictions_train})\n",
    "df_true_vs_rfc_predicted.head(10)"
   ]
  },
  {
   "cell_type": "code",
   "execution_count": 78,
   "id": "virtual-entity",
   "metadata": {},
   "outputs": [
    {
     "name": "stdout",
     "output_type": "stream",
     "text": [
      "==================== Train Data =======================\n",
      "Accuracy:  0.9808177688036346\n",
      "Confusion matrix: \n",
      " [[13505    49]\n",
      " [  217    96]]\n",
      "Classification report:\n",
      "                precision    recall  f1-score   support\n",
      "\n",
      "           0       0.98      1.00      0.99     13554\n",
      "           1       0.66      0.31      0.42       313\n",
      "\n",
      "    accuracy                           0.98     13867\n",
      "   macro avg       0.82      0.65      0.70     13867\n",
      "weighted avg       0.98      0.98      0.98     13867\n",
      "\n"
     ]
    }
   ],
   "source": [
    "#Print a few classification evaluation measures computed on the full training set\n",
    "print(\"==================== Train Data =======================\")\n",
    "print(\"Accuracy: \", metrics.accuracy_score(y_train, rfc_predictions_train))\n",
    "print(\"Confusion matrix: \\n\", metrics.confusion_matrix(y_train, rfc_predictions_train))\n",
    "print(\"Classification report:\\n \", metrics.classification_report(y_train, rfc_predictions_train))"
   ]
  },
  {
   "cell_type": "code",
   "execution_count": 79,
   "id": "thermal-superintendent",
   "metadata": {},
   "outputs": [
    {
     "data": {
      "text/html": [
       "<div>\n",
       "<style scoped>\n",
       "    .dataframe tbody tr th:only-of-type {\n",
       "        vertical-align: middle;\n",
       "    }\n",
       "\n",
       "    .dataframe tbody tr th {\n",
       "        vertical-align: top;\n",
       "    }\n",
       "\n",
       "    .dataframe thead th {\n",
       "        text-align: right;\n",
       "    }\n",
       "</style>\n",
       "<table border=\"1\" class=\"dataframe\">\n",
       "  <thead>\n",
       "    <tr style=\"text-align: right;\">\n",
       "      <th></th>\n",
       "      <th>ActualClass</th>\n",
       "      <th>PredictedClass</th>\n",
       "    </tr>\n",
       "  </thead>\n",
       "  <tbody>\n",
       "    <tr>\n",
       "      <th>19459</th>\n",
       "      <td>0</td>\n",
       "      <td>0</td>\n",
       "    </tr>\n",
       "    <tr>\n",
       "      <th>5489</th>\n",
       "      <td>0</td>\n",
       "      <td>0</td>\n",
       "    </tr>\n",
       "    <tr>\n",
       "      <th>4633</th>\n",
       "      <td>0</td>\n",
       "      <td>0</td>\n",
       "    </tr>\n",
       "    <tr>\n",
       "      <th>14126</th>\n",
       "      <td>0</td>\n",
       "      <td>0</td>\n",
       "    </tr>\n",
       "    <tr>\n",
       "      <th>2866</th>\n",
       "      <td>0</td>\n",
       "      <td>0</td>\n",
       "    </tr>\n",
       "    <tr>\n",
       "      <th>19803</th>\n",
       "      <td>0</td>\n",
       "      <td>0</td>\n",
       "    </tr>\n",
       "    <tr>\n",
       "      <th>3007</th>\n",
       "      <td>1</td>\n",
       "      <td>0</td>\n",
       "    </tr>\n",
       "    <tr>\n",
       "      <th>11793</th>\n",
       "      <td>0</td>\n",
       "      <td>0</td>\n",
       "    </tr>\n",
       "    <tr>\n",
       "      <th>8547</th>\n",
       "      <td>0</td>\n",
       "      <td>0</td>\n",
       "    </tr>\n",
       "    <tr>\n",
       "      <th>18620</th>\n",
       "      <td>0</td>\n",
       "      <td>0</td>\n",
       "    </tr>\n",
       "  </tbody>\n",
       "</table>\n",
       "</div>"
      ],
      "text/plain": [
       "       ActualClass  PredictedClass\n",
       "19459            0               0\n",
       "5489             0               0\n",
       "4633             0               0\n",
       "14126            0               0\n",
       "2866             0               0\n",
       "19803            0               0\n",
       "3007             1               0\n",
       "11793            0               0\n",
       "8547             0               0\n",
       "18620            0               0"
      ]
     },
     "execution_count": 79,
     "metadata": {},
     "output_type": "execute_result"
    }
   ],
   "source": [
    "# Predicted class labels for all examples, \n",
    "# using the trained model, on in-sample data (same sample used for training and test)\n",
    "rfc_predictions_test = rfc.predict(X_test)\n",
    "df_true_vs_rfc_predicted_test = pd.DataFrame({'ActualClass': y_test, 'PredictedClass': rfc_predictions_test})\n",
    "df_true_vs_rfc_predicted_test.head(10)"
   ]
  },
  {
   "cell_type": "code",
   "execution_count": 80,
   "id": "documented-liberty",
   "metadata": {},
   "outputs": [
    {
     "name": "stdout",
     "output_type": "stream",
     "text": [
      "From original dataset: \t\tCount 13867\n",
      "Total number that died:\t\t 313\t5.27%\n",
      "Total number that survived:\t 13554\t228.07%\n"
     ]
    }
   ],
   "source": [
    "#preparing a simple model getting the counts to see which class is the most dominant but even before this we can see its the death = no\n",
    "yes_death_outcome = y_train[y_train == 1].count()\n",
    "no_death_outcome = y_train[y_train == 0].count()\n",
    "total = yes_death_outcome+no_death_outcome\n",
    "print(f'From original dataset: \\t\\tCount {total}')\n",
    "print(f'Total number that died:\\t\\t {yes_death_outcome}\\t{round(yes_death_outcome/len(y_test)*100,2)}%')\n",
    "print(f'Total number that survived:\\t {no_death_outcome}\\t{round(no_death_outcome/len(y_test)*100,2)}%')"
   ]
  },
  {
   "cell_type": "code",
   "execution_count": 81,
   "id": "treated-garbage",
   "metadata": {},
   "outputs": [
    {
     "name": "stdout",
     "output_type": "stream",
     "text": [
      "From original dataset: \t\tCount 5943\n",
      "Total number that died:\t\t 147\t2.47%\n",
      "Total number that survived:\t 5796\t97.53%\n"
     ]
    }
   ],
   "source": [
    "#preparing a simple model getting the counts to see which class is the most dominant but even before this we can see its the death = no\n",
    "yes_death_outcome = y_test[y_test == 1].count()\n",
    "no_death_outcome = y_test[y_test == 0].count()\n",
    "total = yes_death_outcome+no_death_outcome\n",
    "print(f'From original dataset: \\t\\tCount {total}')\n",
    "print(f'Total number that died:\\t\\t {yes_death_outcome}\\t{round(yes_death_outcome/len(y_test)*100,2)}%')\n",
    "print(f'Total number that survived:\\t {no_death_outcome}\\t{round(no_death_outcome/len(y_test)*100,2)}%')"
   ]
  },
  {
   "cell_type": "code",
   "execution_count": 82,
   "id": "first-collins",
   "metadata": {},
   "outputs": [
    {
     "name": "stdout",
     "output_type": "stream",
     "text": [
      "==================== Test Data =======================\n",
      "Accuracy:  0.9742554265522464\n",
      "Confusion matrix: \n",
      " [[5760   36]\n",
      " [ 117   30]]\n",
      "Classification report:\n",
      "                precision    recall  f1-score   support\n",
      "\n",
      "           0       0.98      0.99      0.99      5796\n",
      "           1       0.45      0.20      0.28       147\n",
      "\n",
      "    accuracy                           0.97      5943\n",
      "   macro avg       0.72      0.60      0.63      5943\n",
      "weighted avg       0.97      0.97      0.97      5943\n",
      "\n"
     ]
    }
   ],
   "source": [
    "print(\"==================== Test Data =======================\")\n",
    "print(\"Accuracy: \", metrics.accuracy_score(y_test, rfc_predictions_test))\n",
    "print(\"Confusion matrix: \\n\", metrics.confusion_matrix(y_test, rfc_predictions_test))\n",
    "print(\"Classification report:\\n \", metrics.classification_report(y_test, rfc_predictions_test))\n"
   ]
  },
  {
   "cell_type": "code",
   "execution_count": 83,
   "id": "alpha-brief",
   "metadata": {},
   "outputs": [],
   "source": [
    "def cross_val_RandomForest_DF(X,y, depth=None, estimators=100):\n",
    "    \"\"\"Function to perform cross validation and store results \n",
    "    in dataframe. Cross validation looks at accuracy, precision, \n",
    "    recall, f1. Returns a dataframe with results\"\"\"\n",
    "\n",
    "    # store results in dict\n",
    "    RandomForestResults = {}\n",
    "    # metrics to test against\n",
    "    test_metrics = ['accuracy','precision','recall', 'f1']\n",
    "\n",
    "    for metric in test_metrics:\n",
    "        # generate test results\n",
    "        result = cross_val_score(RandomForestClassifier(n_estimators=estimators, max_features='auto', oob_score=True, random_state=1, max_depth=depth), X, y, scoring=metric, cv=10)\n",
    "        # store result in dict\n",
    "        RandomForestResults[metric] = result.mean()\n",
    "    \n",
    "    # create dataframe with results\n",
    "    RandomForestDF = pd.DataFrame.from_dict(RandomForestResults, orient='index', columns=['Random_Forests'])\n",
    "\n",
    "    return RandomForestDF\n"
   ]
  },
  {
   "cell_type": "code",
   "execution_count": 84,
   "id": "incorporate-kinase",
   "metadata": {},
   "outputs": [
    {
     "name": "stdout",
     "output_type": "stream",
     "text": [
      "Mean results from 10 fold cross validation are:\n"
     ]
    },
    {
     "data": {
      "text/html": [
       "<div>\n",
       "<style scoped>\n",
       "    .dataframe tbody tr th:only-of-type {\n",
       "        vertical-align: middle;\n",
       "    }\n",
       "\n",
       "    .dataframe tbody tr th {\n",
       "        vertical-align: top;\n",
       "    }\n",
       "\n",
       "    .dataframe thead th {\n",
       "        text-align: right;\n",
       "    }\n",
       "</style>\n",
       "<table border=\"1\" class=\"dataframe\">\n",
       "  <thead>\n",
       "    <tr style=\"text-align: right;\">\n",
       "      <th></th>\n",
       "      <th>Random_Forests</th>\n",
       "    </tr>\n",
       "  </thead>\n",
       "  <tbody>\n",
       "    <tr>\n",
       "      <th>accuracy</th>\n",
       "      <td>0.976830</td>\n",
       "    </tr>\n",
       "    <tr>\n",
       "      <th>precision</th>\n",
       "      <td>0.506752</td>\n",
       "    </tr>\n",
       "    <tr>\n",
       "      <th>recall</th>\n",
       "      <td>0.236957</td>\n",
       "    </tr>\n",
       "    <tr>\n",
       "      <th>f1</th>\n",
       "      <td>0.317732</td>\n",
       "    </tr>\n",
       "  </tbody>\n",
       "</table>\n",
       "</div>"
      ],
      "text/plain": [
       "           Random_Forests\n",
       "accuracy         0.976830\n",
       "precision        0.506752\n",
       "recall           0.236957\n",
       "f1               0.317732"
      ]
     },
     "execution_count": 84,
     "metadata": {},
     "output_type": "execute_result"
    }
   ],
   "source": [
    "RandomForestDF = cross_val_RandomForest_DF(X,y)\n",
    "print(f\"Mean results from 10 fold cross validation are:\")\n",
    "RandomForestDF"
   ]
  },
  {
   "cell_type": "markdown",
   "id": "laughing-spelling",
   "metadata": {},
   "source": [
    "## 5.2.3 Summarise Findings"
   ]
  },
  {
   "cell_type": "markdown",
   "id": "changed-simon",
   "metadata": {},
   "source": [
    "My first thought was to increase the data amount so I added the 24032021-covid19-cdc-deathyn-recent-10k.csv to a new csv file to have 19894 rows of data to train the random forest model but it made the predictions worse not better. I think this is due to the negative class falling in weight against the positive class in the new larger data set than in the original data as outlined below:<br>\n",
    "<b>Original data</b><br>\n",
    "----------- training data ------------\n",
    "<br>\n",
    "From original dataset: \t\tCount   6934<br>\n",
    "Total number that died:\t\t 241\t8.11%<br>\n",
    "Total number that survived:\t 6693\t225.13%<br>\n",
    "<br>\n",
    "----------- test data ----------------\n",
    "<br>\n",
    "From original dataset: \t\tCount   2973<br>\n",
    "Total number that died:\t\t 99\t    3.33%<br>\n",
    "Total number that survived:\t 2874\t96.67%<br>\n",
    "<br>\n",
    "<b>Combined larger data set</b>\n",
    "<br>\n",
    "----------- training data ------------\n",
    "<br>\n",
    "From original dataset: \t\tCount    13925<br>\n",
    "Total number that died:\t\t 322\t 5.39%<br>\n",
    "Total number that survived:\t 13603\t 227.89%<br>\n",
    "<br>\n",
    "----------- test data ----------------\n",
    "<br>\n",
    "From original dataset: \t\tCount   5969<br>\n",
    "Total number that died:\t\t 139\t2.33%<br>\n",
    "Total number that survived:\t 5830\t97.67%<br>\n",
    "\n",
    "\n",
    "==================== Train Data =======================\n",
    "Accuracy:  0.9783123877917415\n",
    "Confusion matrix: \n",
    " [[13552    51]\n",
    " [  251    71]]\n",
    "Classification report:\n",
    "                precision    recall  f1-score   support\n",
    "\n",
    "           0       0.98      1.00      0.99     13603\n",
    "           1       0.58      0.22      0.32       322\n",
    "\n",
    "    accuracy                           0.98     13925\n",
    "   macro avg       0.78      0.61      0.65     13925\n",
    "weighted avg       0.97      0.98      0.97     13925\n",
    "\n",
    "\n",
    "\n",
    "==================== Test Data =======================\n",
    "Accuracy:  0.975707823756073\n",
    "Confusion matrix: \n",
    " [[5804   26]\n",
    " [ 119   20]]\n",
    "Classification report:\n",
    "                precision    recall  f1-score   support\n",
    "\n",
    "           0       0.98      1.00      0.99      5830\n",
    "           1       0.43      0.14      0.22       139\n",
    "\n",
    "    accuracy                           0.98      5969\n",
    "   macro avg       0.71      0.57      0.60      5969\n",
    "weighted avg       0.97      0.98      0.97      5969\n",
    "\n"
   ]
  },
  {
   "cell_type": "markdown",
   "id": "closed-gravity",
   "metadata": {},
   "source": [
    "## Mean results of random forest model across orignal data and larger data set."
   ]
  },
  {
   "cell_type": "markdown",
   "id": "accurate-tourist",
   "metadata": {},
   "source": [
    "My next idea was to add more features to see if this could improve the data. The best results came from the original data set with 5 features as outlined below with the green header. There is a +-1% difference in accuracy and percision between the two datasets trained with 5 features but there is +-4% difference in recall and f1 so that why i chose the original dataset results over the expanded data. I choose to compare them based on the mean folds as it is a better representation of how the model would perform. "
   ]
  },
  {
   "cell_type": "markdown",
   "id": "serial-automation",
   "metadata": {},
   "source": [
    "#### Mean results from 10 fold cross validation are on orignal data: 3 features(sex, race, hosp_yn)\n",
    "Random_Forests<br>\n",
    "accuracy\t0.964671<br>\n",
    "precision\t0.459501<br>\n",
    "recall\t0.197059<br>\n",
    "f1\t0.273247\n",
    "\n",
    "#### <font color=#5AC76D>Mean results from 10 fold cross validation are on orignal data: 5 features(sex, race, hosp_yn, icu_yn, medcond)\n",
    "\n",
    "Random_Forests<br>\n",
    "accuracy\t0.965782<br>\n",
    "precision\t0.492441<br>\n",
    "recall\t0.279412<br>\n",
    "f1\t0.352362<br>\n",
    "\n",
    "new combined data 3 features(age_group,hosp_yn,race)<br>\n",
    "Mean results from 10 fold cross validation are:<br>\n",
    "Random_Forests<br>\n",
    "accuracy\t0.976727<br>\n",
    "precision\t0.501496<br>\n",
    "recall\t0.171462<br>\n",
    "f1\t0.247744<br>\n",
    "<br>\n",
    "\n",
    "new combined 5 features(age_group,\trace_ethnicity_combined,hosp_yn,icu_yn,\tmedcond_yn)<br>\n",
    "Random_Forests<br>\n",
    "accuracy\t0.976830<br>\n",
    "precision\t0.506752<br>\n",
    "recall\t0.236957<br>\n",
    "f1\t0.317732<br>\n",
    "<br>\n",
    "new combined 7 features (current_status, sex, age_group,race_ethnicity_combined,hosp_yn,icu_yn,\tmedcond_yn)<br>\n",
    "\n",
    "Random_Forests<br>\n",
    "accuracy\t0.975517<br>\n",
    "precision\t0.459134<br>\n",
    "recall\t0.223913<br>\n",
    "f1\t0.297963<br>"
   ]
  },
  {
   "cell_type": "markdown",
   "id": "voluntary-adventure",
   "metadata": {},
   "source": [
    "### 5.2.4 Summarise findings \n",
    "So overall the best model that I found was trained with five features age,race,hosp_yn,icu_yn,medcond_yn. I have proven that increasing the dataset does not automatically improve the model if it is not the right type of data I saw a far greater improvements in the data by adding features and increasing what the model could learn from these."
   ]
  },
  {
   "cell_type": "markdown",
   "id": "removable-xerox",
   "metadata": {},
   "source": [
    "# 5.3 Evaluate 24032021-covid19-cdc-deathyn-recent-10k.csv"
   ]
  },
  {
   "cell_type": "code",
   "execution_count": 85,
   "id": "forced-transaction",
   "metadata": {},
   "outputs": [
    {
     "data": {
      "text/html": [
       "<div>\n",
       "<style scoped>\n",
       "    .dataframe tbody tr th:only-of-type {\n",
       "        vertical-align: middle;\n",
       "    }\n",
       "\n",
       "    .dataframe tbody tr th {\n",
       "        vertical-align: top;\n",
       "    }\n",
       "\n",
       "    .dataframe thead th {\n",
       "        text-align: right;\n",
       "    }\n",
       "</style>\n",
       "<table border=\"1\" class=\"dataframe\">\n",
       "  <thead>\n",
       "    <tr style=\"text-align: right;\">\n",
       "      <th></th>\n",
       "      <th>cdc_case_earliest_dt</th>\n",
       "      <th>cdc_report_dt</th>\n",
       "      <th>pos_spec_dt</th>\n",
       "      <th>onset_dt</th>\n",
       "      <th>current_status</th>\n",
       "      <th>sex</th>\n",
       "      <th>age_group</th>\n",
       "      <th>race_ethnicity_combined</th>\n",
       "      <th>hosp_yn</th>\n",
       "      <th>icu_yn</th>\n",
       "      <th>death_yn</th>\n",
       "      <th>medcond_yn</th>\n",
       "    </tr>\n",
       "  </thead>\n",
       "  <tbody>\n",
       "    <tr>\n",
       "      <th>0</th>\n",
       "      <td>2021/01/22</td>\n",
       "      <td>2021/01/22</td>\n",
       "      <td>NaN</td>\n",
       "      <td>NaN</td>\n",
       "      <td>Probable Case</td>\n",
       "      <td>Female</td>\n",
       "      <td>0 - 9 Years</td>\n",
       "      <td>Asian, Non-Hispanic</td>\n",
       "      <td>No</td>\n",
       "      <td>Missing</td>\n",
       "      <td>No</td>\n",
       "      <td>Missing</td>\n",
       "    </tr>\n",
       "    <tr>\n",
       "      <th>1</th>\n",
       "      <td>2021/01/26</td>\n",
       "      <td>NaN</td>\n",
       "      <td>NaN</td>\n",
       "      <td>NaN</td>\n",
       "      <td>Laboratory-confirmed case</td>\n",
       "      <td>Female</td>\n",
       "      <td>30 - 39 Years</td>\n",
       "      <td>Unknown</td>\n",
       "      <td>Unknown</td>\n",
       "      <td>Missing</td>\n",
       "      <td>No</td>\n",
       "      <td>Missing</td>\n",
       "    </tr>\n",
       "    <tr>\n",
       "      <th>2</th>\n",
       "      <td>2021/02/03</td>\n",
       "      <td>2021/02/05</td>\n",
       "      <td>NaN</td>\n",
       "      <td>2021/02/03</td>\n",
       "      <td>Laboratory-confirmed case</td>\n",
       "      <td>Female</td>\n",
       "      <td>40 - 49 Years</td>\n",
       "      <td>Asian, Non-Hispanic</td>\n",
       "      <td>Missing</td>\n",
       "      <td>Missing</td>\n",
       "      <td>No</td>\n",
       "      <td>Missing</td>\n",
       "    </tr>\n",
       "    <tr>\n",
       "      <th>3</th>\n",
       "      <td>2021/02/05</td>\n",
       "      <td>2021/02/05</td>\n",
       "      <td>2021/02/07</td>\n",
       "      <td>2021/02/05</td>\n",
       "      <td>Laboratory-confirmed case</td>\n",
       "      <td>Male</td>\n",
       "      <td>40 - 49 Years</td>\n",
       "      <td>Hispanic/Latino</td>\n",
       "      <td>No</td>\n",
       "      <td>Unknown</td>\n",
       "      <td>No</td>\n",
       "      <td>No</td>\n",
       "    </tr>\n",
       "    <tr>\n",
       "      <th>4</th>\n",
       "      <td>2021/01/27</td>\n",
       "      <td>2021/01/27</td>\n",
       "      <td>NaN</td>\n",
       "      <td>NaN</td>\n",
       "      <td>Laboratory-confirmed case</td>\n",
       "      <td>Female</td>\n",
       "      <td>40 - 49 Years</td>\n",
       "      <td>White, Non-Hispanic</td>\n",
       "      <td>No</td>\n",
       "      <td>Missing</td>\n",
       "      <td>No</td>\n",
       "      <td>Missing</td>\n",
       "    </tr>\n",
       "  </tbody>\n",
       "</table>\n",
       "</div>"
      ],
      "text/plain": [
       "  cdc_case_earliest_dt cdc_report_dt pos_spec_dt    onset_dt  \\\n",
       "0           2021/01/22    2021/01/22         NaN         NaN   \n",
       "1           2021/01/26           NaN         NaN         NaN   \n",
       "2           2021/02/03    2021/02/05         NaN  2021/02/03   \n",
       "3           2021/02/05    2021/02/05  2021/02/07  2021/02/05   \n",
       "4           2021/01/27    2021/01/27         NaN         NaN   \n",
       "\n",
       "              current_status     sex      age_group race_ethnicity_combined  \\\n",
       "0              Probable Case  Female    0 - 9 Years     Asian, Non-Hispanic   \n",
       "1  Laboratory-confirmed case  Female  30 - 39 Years                 Unknown   \n",
       "2  Laboratory-confirmed case  Female  40 - 49 Years     Asian, Non-Hispanic   \n",
       "3  Laboratory-confirmed case    Male  40 - 49 Years         Hispanic/Latino   \n",
       "4  Laboratory-confirmed case  Female  40 - 49 Years     White, Non-Hispanic   \n",
       "\n",
       "   hosp_yn   icu_yn death_yn medcond_yn  \n",
       "0       No  Missing       No    Missing  \n",
       "1  Unknown  Missing       No    Missing  \n",
       "2  Missing  Missing       No    Missing  \n",
       "3       No  Unknown       No         No  \n",
       "4       No  Missing       No    Missing  "
      ]
     },
     "execution_count": 85,
     "metadata": {},
     "output_type": "execute_result"
    }
   ],
   "source": [
    "# Reading in the csv file\n",
    "new_df = pd.read_csv('24032021-covid19-cdc-deathyn-recent-10k.csv', keep_default_na=True, sep=',\\s+', delimiter=',', skipinitialspace=True)\n",
    "# Show data frame first few rows\n",
    "new_df.head()"
   ]
  },
  {
   "cell_type": "code",
   "execution_count": 86,
   "id": "worthy-morrison",
   "metadata": {},
   "outputs": [
    {
     "data": {
      "text/plain": [
       "(10000, 12)"
      ]
     },
     "execution_count": 86,
     "metadata": {},
     "output_type": "execute_result"
    }
   ],
   "source": [
    "new_df.shape"
   ]
  },
  {
   "cell_type": "code",
   "execution_count": 87,
   "id": "insured-going",
   "metadata": {},
   "outputs": [],
   "source": [
    "#dropping columns\n",
    "new_df=new_df.drop(columns=['cdc_case_earliest_dt','pos_spec_dt','onset_dt','cdc_report_dt','current_status','sex','icu_yn','medcond_yn'])"
   ]
  },
  {
   "cell_type": "code",
   "execution_count": 88,
   "id": "fitting-anger",
   "metadata": {},
   "outputs": [
    {
     "data": {
      "text/html": [
       "<div>\n",
       "<style scoped>\n",
       "    .dataframe tbody tr th:only-of-type {\n",
       "        vertical-align: middle;\n",
       "    }\n",
       "\n",
       "    .dataframe tbody tr th {\n",
       "        vertical-align: top;\n",
       "    }\n",
       "\n",
       "    .dataframe thead th {\n",
       "        text-align: right;\n",
       "    }\n",
       "</style>\n",
       "<table border=\"1\" class=\"dataframe\">\n",
       "  <thead>\n",
       "    <tr style=\"text-align: right;\">\n",
       "      <th></th>\n",
       "      <th>age_group</th>\n",
       "      <th>race_ethnicity_combined</th>\n",
       "      <th>hosp_yn</th>\n",
       "      <th>death_yn</th>\n",
       "    </tr>\n",
       "  </thead>\n",
       "  <tbody>\n",
       "    <tr>\n",
       "      <th>0</th>\n",
       "      <td>0 - 9 Years</td>\n",
       "      <td>Asian, Non-Hispanic</td>\n",
       "      <td>No</td>\n",
       "      <td>No</td>\n",
       "    </tr>\n",
       "    <tr>\n",
       "      <th>1</th>\n",
       "      <td>30 - 39 Years</td>\n",
       "      <td>Unknown</td>\n",
       "      <td>Unknown</td>\n",
       "      <td>No</td>\n",
       "    </tr>\n",
       "    <tr>\n",
       "      <th>2</th>\n",
       "      <td>40 - 49 Years</td>\n",
       "      <td>Asian, Non-Hispanic</td>\n",
       "      <td>Missing</td>\n",
       "      <td>No</td>\n",
       "    </tr>\n",
       "    <tr>\n",
       "      <th>3</th>\n",
       "      <td>40 - 49 Years</td>\n",
       "      <td>Hispanic/Latino</td>\n",
       "      <td>No</td>\n",
       "      <td>No</td>\n",
       "    </tr>\n",
       "    <tr>\n",
       "      <th>4</th>\n",
       "      <td>40 - 49 Years</td>\n",
       "      <td>White, Non-Hispanic</td>\n",
       "      <td>No</td>\n",
       "      <td>No</td>\n",
       "    </tr>\n",
       "    <tr>\n",
       "      <th>...</th>\n",
       "      <td>...</td>\n",
       "      <td>...</td>\n",
       "      <td>...</td>\n",
       "      <td>...</td>\n",
       "    </tr>\n",
       "    <tr>\n",
       "      <th>9995</th>\n",
       "      <td>30 - 39 Years</td>\n",
       "      <td>Unknown</td>\n",
       "      <td>Missing</td>\n",
       "      <td>No</td>\n",
       "    </tr>\n",
       "    <tr>\n",
       "      <th>9996</th>\n",
       "      <td>50 - 59 Years</td>\n",
       "      <td>Unknown</td>\n",
       "      <td>No</td>\n",
       "      <td>No</td>\n",
       "    </tr>\n",
       "    <tr>\n",
       "      <th>9997</th>\n",
       "      <td>10 - 19 Years</td>\n",
       "      <td>White, Non-Hispanic</td>\n",
       "      <td>Missing</td>\n",
       "      <td>No</td>\n",
       "    </tr>\n",
       "    <tr>\n",
       "      <th>9998</th>\n",
       "      <td>20 - 29 Years</td>\n",
       "      <td>Unknown</td>\n",
       "      <td>Missing</td>\n",
       "      <td>No</td>\n",
       "    </tr>\n",
       "    <tr>\n",
       "      <th>9999</th>\n",
       "      <td>40 - 49 Years</td>\n",
       "      <td>White, Non-Hispanic</td>\n",
       "      <td>No</td>\n",
       "      <td>No</td>\n",
       "    </tr>\n",
       "  </tbody>\n",
       "</table>\n",
       "<p>10000 rows × 4 columns</p>\n",
       "</div>"
      ],
      "text/plain": [
       "          age_group race_ethnicity_combined  hosp_yn death_yn\n",
       "0       0 - 9 Years     Asian, Non-Hispanic       No       No\n",
       "1     30 - 39 Years                 Unknown  Unknown       No\n",
       "2     40 - 49 Years     Asian, Non-Hispanic  Missing       No\n",
       "3     40 - 49 Years         Hispanic/Latino       No       No\n",
       "4     40 - 49 Years     White, Non-Hispanic       No       No\n",
       "...             ...                     ...      ...      ...\n",
       "9995  30 - 39 Years                 Unknown  Missing       No\n",
       "9996  50 - 59 Years                 Unknown       No       No\n",
       "9997  10 - 19 Years     White, Non-Hispanic  Missing       No\n",
       "9998  20 - 29 Years                 Unknown  Missing       No\n",
       "9999  40 - 49 Years     White, Non-Hispanic       No       No\n",
       "\n",
       "[10000 rows x 4 columns]"
      ]
     },
     "execution_count": 88,
     "metadata": {},
     "output_type": "execute_result"
    }
   ],
   "source": [
    "new_df"
   ]
  },
  {
   "cell_type": "code",
   "execution_count": 89,
   "id": "future-polymer",
   "metadata": {},
   "outputs": [
    {
     "data": {
      "text/html": [
       "<div>\n",
       "<style scoped>\n",
       "    .dataframe tbody tr th:only-of-type {\n",
       "        vertical-align: middle;\n",
       "    }\n",
       "\n",
       "    .dataframe tbody tr th {\n",
       "        vertical-align: top;\n",
       "    }\n",
       "\n",
       "    .dataframe thead th {\n",
       "        text-align: right;\n",
       "    }\n",
       "</style>\n",
       "<table border=\"1\" class=\"dataframe\">\n",
       "  <thead>\n",
       "    <tr style=\"text-align: right;\">\n",
       "      <th></th>\n",
       "      <th>age_group</th>\n",
       "      <th>race_ethnicity_combined</th>\n",
       "      <th>hosp_yn</th>\n",
       "      <th>death_yn</th>\n",
       "    </tr>\n",
       "  </thead>\n",
       "  <tbody>\n",
       "    <tr>\n",
       "      <th>0</th>\n",
       "      <td>0 - 9 Years</td>\n",
       "      <td>Asian, Non-Hispanic</td>\n",
       "      <td>No</td>\n",
       "      <td>No</td>\n",
       "    </tr>\n",
       "    <tr>\n",
       "      <th>1</th>\n",
       "      <td>30 - 39 Years</td>\n",
       "      <td>Unknown</td>\n",
       "      <td>Unknown</td>\n",
       "      <td>No</td>\n",
       "    </tr>\n",
       "    <tr>\n",
       "      <th>2</th>\n",
       "      <td>40 - 49 Years</td>\n",
       "      <td>Asian, Non-Hispanic</td>\n",
       "      <td>Unknown</td>\n",
       "      <td>No</td>\n",
       "    </tr>\n",
       "    <tr>\n",
       "      <th>3</th>\n",
       "      <td>40 - 49 Years</td>\n",
       "      <td>Hispanic/Latino</td>\n",
       "      <td>No</td>\n",
       "      <td>No</td>\n",
       "    </tr>\n",
       "    <tr>\n",
       "      <th>4</th>\n",
       "      <td>40 - 49 Years</td>\n",
       "      <td>White, Non-Hispanic</td>\n",
       "      <td>No</td>\n",
       "      <td>No</td>\n",
       "    </tr>\n",
       "    <tr>\n",
       "      <th>...</th>\n",
       "      <td>...</td>\n",
       "      <td>...</td>\n",
       "      <td>...</td>\n",
       "      <td>...</td>\n",
       "    </tr>\n",
       "    <tr>\n",
       "      <th>9995</th>\n",
       "      <td>30 - 39 Years</td>\n",
       "      <td>Unknown</td>\n",
       "      <td>Unknown</td>\n",
       "      <td>No</td>\n",
       "    </tr>\n",
       "    <tr>\n",
       "      <th>9996</th>\n",
       "      <td>50 - 59 Years</td>\n",
       "      <td>Unknown</td>\n",
       "      <td>No</td>\n",
       "      <td>No</td>\n",
       "    </tr>\n",
       "    <tr>\n",
       "      <th>9997</th>\n",
       "      <td>10 - 19 Years</td>\n",
       "      <td>White, Non-Hispanic</td>\n",
       "      <td>Unknown</td>\n",
       "      <td>No</td>\n",
       "    </tr>\n",
       "    <tr>\n",
       "      <th>9998</th>\n",
       "      <td>20 - 29 Years</td>\n",
       "      <td>Unknown</td>\n",
       "      <td>Unknown</td>\n",
       "      <td>No</td>\n",
       "    </tr>\n",
       "    <tr>\n",
       "      <th>9999</th>\n",
       "      <td>40 - 49 Years</td>\n",
       "      <td>White, Non-Hispanic</td>\n",
       "      <td>No</td>\n",
       "      <td>No</td>\n",
       "    </tr>\n",
       "  </tbody>\n",
       "</table>\n",
       "<p>10000 rows × 4 columns</p>\n",
       "</div>"
      ],
      "text/plain": [
       "          age_group race_ethnicity_combined  hosp_yn death_yn\n",
       "0       0 - 9 Years     Asian, Non-Hispanic       No       No\n",
       "1     30 - 39 Years                 Unknown  Unknown       No\n",
       "2     40 - 49 Years     Asian, Non-Hispanic  Unknown       No\n",
       "3     40 - 49 Years         Hispanic/Latino       No       No\n",
       "4     40 - 49 Years     White, Non-Hispanic       No       No\n",
       "...             ...                     ...      ...      ...\n",
       "9995  30 - 39 Years                 Unknown  Unknown       No\n",
       "9996  50 - 59 Years                 Unknown       No       No\n",
       "9997  10 - 19 Years     White, Non-Hispanic  Unknown       No\n",
       "9998  20 - 29 Years                 Unknown  Unknown       No\n",
       "9999  40 - 49 Years     White, Non-Hispanic       No       No\n",
       "\n",
       "[10000 rows x 4 columns]"
      ]
     },
     "execution_count": 89,
     "metadata": {},
     "output_type": "execute_result"
    }
   ],
   "source": [
    "#replacing Missing with Unknown\n",
    "new_df = new_df.replace('Missing', 'Unknown')\n",
    "\n",
    "new_df"
   ]
  },
  {
   "cell_type": "code",
   "execution_count": 90,
   "id": "external-promotion",
   "metadata": {},
   "outputs": [],
   "source": [
    "y = pd.DataFrame(new_df[\"death_yn\"])\n",
    "X = new_df.drop([\"death_yn\"],1)"
   ]
  },
  {
   "cell_type": "code",
   "execution_count": 91,
   "id": "chicken-abortion",
   "metadata": {},
   "outputs": [
    {
     "data": {
      "text/plain": [
       "(10000, 4)"
      ]
     },
     "execution_count": 91,
     "metadata": {},
     "output_type": "execute_result"
    }
   ],
   "source": [
    "new_df.shape"
   ]
  },
  {
   "cell_type": "code",
   "execution_count": 92,
   "id": "cosmetic-diameter",
   "metadata": {},
   "outputs": [
    {
     "data": {
      "text/plain": [
       "array(['No', 'Yes'], dtype=object)"
      ]
     },
     "execution_count": 92,
     "metadata": {},
     "output_type": "execute_result"
    }
   ],
   "source": [
    "new_df['death_yn'].unique()"
   ]
  },
  {
   "cell_type": "code",
   "execution_count": 93,
   "id": "overhead-glance",
   "metadata": {},
   "outputs": [
    {
     "data": {
      "text/plain": [
       "array(['0 - 9 Years', '30 - 39 Years', '40 - 49 Years', '20 - 29 Years',\n",
       "       '70 - 79 Years', '50 - 59 Years', '10 - 19 Years', '60 - 69 Years',\n",
       "       '80+ Years', 'Unknown'], dtype=object)"
      ]
     },
     "execution_count": 93,
     "metadata": {},
     "output_type": "execute_result"
    }
   ],
   "source": [
    "new_df['age_group'].unique()"
   ]
  },
  {
   "cell_type": "code",
   "execution_count": 94,
   "id": "sudden-warning",
   "metadata": {},
   "outputs": [
    {
     "data": {
      "text/plain": [
       "array(['Asian, Non-Hispanic', 'Unknown', 'Hispanic/Latino',\n",
       "       'White, Non-Hispanic', 'Black, Non-Hispanic',\n",
       "       'Multiple/Other, Non-Hispanic',\n",
       "       'American Indian/Alaska Native, Non-Hispanic',\n",
       "       'Native Hawaiian/Other Pacific Islander, Non-Hispanic'],\n",
       "      dtype=object)"
      ]
     },
     "execution_count": 94,
     "metadata": {},
     "output_type": "execute_result"
    }
   ],
   "source": [
    "new_df['race_ethnicity_combined'].unique()"
   ]
  },
  {
   "cell_type": "code",
   "execution_count": 95,
   "id": "arbitrary-occurrence",
   "metadata": {},
   "outputs": [
    {
     "data": {
      "text/plain": [
       "array(['No', 'Unknown', 'Yes'], dtype=object)"
      ]
     },
     "execution_count": 95,
     "metadata": {},
     "output_type": "execute_result"
    }
   ],
   "source": [
    "new_df['hosp_yn'].unique()"
   ]
  },
  {
   "cell_type": "code",
   "execution_count": 96,
   "id": "impressive-garbage",
   "metadata": {},
   "outputs": [],
   "source": [
    "new_df['death_yn'] = new_df['death_yn'].replace(['Yes','No'],[1,0])\n",
    "new_df['age_group'] = new_df['age_group'].replace(['50 - 59 Years', '20 - 29 Years', '40 - 49 Years', 'Unknown',\n",
    "       '60 - 69 Years', '0 - 9 Years', '70 - 79 Years', '10 - 19 Years',\n",
    "       '80+ Years', '30 - 39 Years'],[50,20,40,0,60,10,70,11,80,30])\n",
    "new_df[\"race_ethnicity_combined\"]= new_df['race_ethnicity_combined'].replace(['Unknown','White, Non-Hispanic','Hispanic/Latino','Black, Non-Hispanic','Multiple/Other, Non-Hispanic','Asian, Non-Hispanic','American Indian/Alaska Native, Non-Hispanic','Native Hawaiian/Other Pacific Islander, Non-Hispanic'],[0,1,2,3,4,5,6,7])\n",
    "new_df['hosp_yn']=new_df['hosp_yn'].replace(['Yes','No','Unknown'],[1,0,2])\n"
   ]
  },
  {
   "cell_type": "code",
   "execution_count": 97,
   "id": "backed-modem",
   "metadata": {},
   "outputs": [
    {
     "data": {
      "text/html": [
       "<div>\n",
       "<style scoped>\n",
       "    .dataframe tbody tr th:only-of-type {\n",
       "        vertical-align: middle;\n",
       "    }\n",
       "\n",
       "    .dataframe tbody tr th {\n",
       "        vertical-align: top;\n",
       "    }\n",
       "\n",
       "    .dataframe thead th {\n",
       "        text-align: right;\n",
       "    }\n",
       "</style>\n",
       "<table border=\"1\" class=\"dataframe\">\n",
       "  <thead>\n",
       "    <tr style=\"text-align: right;\">\n",
       "      <th></th>\n",
       "      <th>age_group</th>\n",
       "      <th>race_ethnicity_combined</th>\n",
       "      <th>hosp_yn</th>\n",
       "      <th>death_yn</th>\n",
       "    </tr>\n",
       "  </thead>\n",
       "  <tbody>\n",
       "    <tr>\n",
       "      <th>0</th>\n",
       "      <td>10</td>\n",
       "      <td>5</td>\n",
       "      <td>0</td>\n",
       "      <td>0</td>\n",
       "    </tr>\n",
       "    <tr>\n",
       "      <th>1</th>\n",
       "      <td>30</td>\n",
       "      <td>0</td>\n",
       "      <td>2</td>\n",
       "      <td>0</td>\n",
       "    </tr>\n",
       "    <tr>\n",
       "      <th>2</th>\n",
       "      <td>40</td>\n",
       "      <td>5</td>\n",
       "      <td>2</td>\n",
       "      <td>0</td>\n",
       "    </tr>\n",
       "    <tr>\n",
       "      <th>3</th>\n",
       "      <td>40</td>\n",
       "      <td>2</td>\n",
       "      <td>0</td>\n",
       "      <td>0</td>\n",
       "    </tr>\n",
       "    <tr>\n",
       "      <th>4</th>\n",
       "      <td>40</td>\n",
       "      <td>1</td>\n",
       "      <td>0</td>\n",
       "      <td>0</td>\n",
       "    </tr>\n",
       "    <tr>\n",
       "      <th>...</th>\n",
       "      <td>...</td>\n",
       "      <td>...</td>\n",
       "      <td>...</td>\n",
       "      <td>...</td>\n",
       "    </tr>\n",
       "    <tr>\n",
       "      <th>9995</th>\n",
       "      <td>30</td>\n",
       "      <td>0</td>\n",
       "      <td>2</td>\n",
       "      <td>0</td>\n",
       "    </tr>\n",
       "    <tr>\n",
       "      <th>9996</th>\n",
       "      <td>50</td>\n",
       "      <td>0</td>\n",
       "      <td>0</td>\n",
       "      <td>0</td>\n",
       "    </tr>\n",
       "    <tr>\n",
       "      <th>9997</th>\n",
       "      <td>11</td>\n",
       "      <td>1</td>\n",
       "      <td>2</td>\n",
       "      <td>0</td>\n",
       "    </tr>\n",
       "    <tr>\n",
       "      <th>9998</th>\n",
       "      <td>20</td>\n",
       "      <td>0</td>\n",
       "      <td>2</td>\n",
       "      <td>0</td>\n",
       "    </tr>\n",
       "    <tr>\n",
       "      <th>9999</th>\n",
       "      <td>40</td>\n",
       "      <td>1</td>\n",
       "      <td>0</td>\n",
       "      <td>0</td>\n",
       "    </tr>\n",
       "  </tbody>\n",
       "</table>\n",
       "<p>10000 rows × 4 columns</p>\n",
       "</div>"
      ],
      "text/plain": [
       "      age_group  race_ethnicity_combined  hosp_yn  death_yn\n",
       "0            10                        5        0         0\n",
       "1            30                        0        2         0\n",
       "2            40                        5        2         0\n",
       "3            40                        2        0         0\n",
       "4            40                        1        0         0\n",
       "...         ...                      ...      ...       ...\n",
       "9995         30                        0        2         0\n",
       "9996         50                        0        0         0\n",
       "9997         11                        1        2         0\n",
       "9998         20                        0        2         0\n",
       "9999         40                        1        0         0\n",
       "\n",
       "[10000 rows x 4 columns]"
      ]
     },
     "execution_count": 97,
     "metadata": {},
     "output_type": "execute_result"
    }
   ],
   "source": [
    "new_df"
   ]
  },
  {
   "cell_type": "code",
   "execution_count": 98,
   "id": "relative-sarah",
   "metadata": {},
   "outputs": [],
   "source": [
    "X = new_df.drop([\"death_yn\"],1)\n",
    "y = new_df[\"death_yn\"]"
   ]
  },
  {
   "cell_type": "code",
   "execution_count": 99,
   "id": "helpful-rochester",
   "metadata": {},
   "outputs": [],
   "source": [
    "X_train, X_test, y_train, y_test = train_test_split(X, y, test_size=0.3, random_state=1,shuffle=True)"
   ]
  },
  {
   "cell_type": "code",
   "execution_count": 100,
   "id": "statistical-subdivision",
   "metadata": {},
   "outputs": [
    {
     "data": {
      "text/plain": [
       "RandomForestClassifier(oob_score=True, random_state=1)"
      ]
     },
     "execution_count": 100,
     "metadata": {},
     "output_type": "execute_result"
    }
   ],
   "source": [
    "# Train RF with 100 trees\n",
    "rfc = RandomForestClassifier(n_estimators=100, max_features='auto', oob_score=True, random_state=1)\n",
    "rfc.fit(X_train, y_train)"
   ]
  },
  {
   "cell_type": "code",
   "execution_count": 101,
   "id": "major-tactics",
   "metadata": {},
   "outputs": [
    {
     "data": {
      "text/html": [
       "<div>\n",
       "<style scoped>\n",
       "    .dataframe tbody tr th:only-of-type {\n",
       "        vertical-align: middle;\n",
       "    }\n",
       "\n",
       "    .dataframe tbody tr th {\n",
       "        vertical-align: top;\n",
       "    }\n",
       "\n",
       "    .dataframe thead th {\n",
       "        text-align: right;\n",
       "    }\n",
       "</style>\n",
       "<table border=\"1\" class=\"dataframe\">\n",
       "  <thead>\n",
       "    <tr style=\"text-align: right;\">\n",
       "      <th></th>\n",
       "      <th>feature</th>\n",
       "      <th>importance</th>\n",
       "    </tr>\n",
       "  </thead>\n",
       "  <tbody>\n",
       "    <tr>\n",
       "      <th>0</th>\n",
       "      <td>age_group</td>\n",
       "      <td>0.437670</td>\n",
       "    </tr>\n",
       "    <tr>\n",
       "      <th>2</th>\n",
       "      <td>hosp_yn</td>\n",
       "      <td>0.359576</td>\n",
       "    </tr>\n",
       "    <tr>\n",
       "      <th>1</th>\n",
       "      <td>race_ethnicity_combined</td>\n",
       "      <td>0.202754</td>\n",
       "    </tr>\n",
       "  </tbody>\n",
       "</table>\n",
       "</div>"
      ],
      "text/plain": [
       "                   feature  importance\n",
       "0                age_group    0.437670\n",
       "2                  hosp_yn    0.359576\n",
       "1  race_ethnicity_combined    0.202754"
      ]
     },
     "execution_count": 101,
     "metadata": {},
     "output_type": "execute_result"
    }
   ],
   "source": [
    "importance = pd.DataFrame({'feature': X_train.columns, 'importance':rfc.feature_importances_})\n",
    "importance.sort_values('importance', ascending=False)"
   ]
  },
  {
   "cell_type": "code",
   "execution_count": 102,
   "id": "african-advance",
   "metadata": {},
   "outputs": [
    {
     "data": {
      "text/html": [
       "<div>\n",
       "<style scoped>\n",
       "    .dataframe tbody tr th:only-of-type {\n",
       "        vertical-align: middle;\n",
       "    }\n",
       "\n",
       "    .dataframe tbody tr th {\n",
       "        vertical-align: top;\n",
       "    }\n",
       "\n",
       "    .dataframe thead th {\n",
       "        text-align: right;\n",
       "    }\n",
       "</style>\n",
       "<table border=\"1\" class=\"dataframe\">\n",
       "  <thead>\n",
       "    <tr style=\"text-align: right;\">\n",
       "      <th></th>\n",
       "      <th>ActualClass</th>\n",
       "      <th>PredictedClass</th>\n",
       "    </tr>\n",
       "  </thead>\n",
       "  <tbody>\n",
       "    <tr>\n",
       "      <th>2228</th>\n",
       "      <td>0</td>\n",
       "      <td>0</td>\n",
       "    </tr>\n",
       "    <tr>\n",
       "      <th>5910</th>\n",
       "      <td>0</td>\n",
       "      <td>0</td>\n",
       "    </tr>\n",
       "    <tr>\n",
       "      <th>1950</th>\n",
       "      <td>0</td>\n",
       "      <td>0</td>\n",
       "    </tr>\n",
       "    <tr>\n",
       "      <th>2119</th>\n",
       "      <td>0</td>\n",
       "      <td>0</td>\n",
       "    </tr>\n",
       "    <tr>\n",
       "      <th>5947</th>\n",
       "      <td>0</td>\n",
       "      <td>0</td>\n",
       "    </tr>\n",
       "    <tr>\n",
       "      <th>1664</th>\n",
       "      <td>0</td>\n",
       "      <td>0</td>\n",
       "    </tr>\n",
       "    <tr>\n",
       "      <th>7140</th>\n",
       "      <td>0</td>\n",
       "      <td>0</td>\n",
       "    </tr>\n",
       "    <tr>\n",
       "      <th>3695</th>\n",
       "      <td>0</td>\n",
       "      <td>0</td>\n",
       "    </tr>\n",
       "    <tr>\n",
       "      <th>5292</th>\n",
       "      <td>0</td>\n",
       "      <td>0</td>\n",
       "    </tr>\n",
       "    <tr>\n",
       "      <th>2145</th>\n",
       "      <td>0</td>\n",
       "      <td>0</td>\n",
       "    </tr>\n",
       "  </tbody>\n",
       "</table>\n",
       "</div>"
      ],
      "text/plain": [
       "      ActualClass  PredictedClass\n",
       "2228            0               0\n",
       "5910            0               0\n",
       "1950            0               0\n",
       "2119            0               0\n",
       "5947            0               0\n",
       "1664            0               0\n",
       "7140            0               0\n",
       "3695            0               0\n",
       "5292            0               0\n",
       "2145            0               0"
      ]
     },
     "execution_count": 102,
     "metadata": {},
     "output_type": "execute_result"
    }
   ],
   "source": [
    "#Print the predicted target feature value for the first 10 training examples\n",
    "# using the trained model, on in-sample data (same sample used for training and test)\n",
    "rfc_predictions_train = rfc.predict(X_train)\n",
    "df_true_vs_rfc_predicted = pd.DataFrame({'ActualClass': y_train, 'PredictedClass': rfc_predictions_train})\n",
    "df_true_vs_rfc_predicted.head(10)"
   ]
  },
  {
   "cell_type": "code",
   "execution_count": 103,
   "id": "excessive-street",
   "metadata": {},
   "outputs": [
    {
     "name": "stdout",
     "output_type": "stream",
     "text": [
      "==================== Train Data =======================\n",
      "Accuracy:  0.9884285714285714\n",
      "Confusion matrix: \n",
      " [[6891   22]\n",
      " [  59   28]]\n",
      "Classification report:\n",
      "                precision    recall  f1-score   support\n",
      "\n",
      "           0       0.99      1.00      0.99      6913\n",
      "           1       0.56      0.32      0.41        87\n",
      "\n",
      "    accuracy                           0.99      7000\n",
      "   macro avg       0.78      0.66      0.70      7000\n",
      "weighted avg       0.99      0.99      0.99      7000\n",
      "\n"
     ]
    }
   ],
   "source": [
    "#Print a few classification evaluation measures computed on the full training set\n",
    "print(\"==================== Train Data =======================\")\n",
    "print(\"Accuracy: \", metrics.accuracy_score(y_train, rfc_predictions_train))\n",
    "print(\"Confusion matrix: \\n\", metrics.confusion_matrix(y_train, rfc_predictions_train))\n",
    "print(\"Classification report:\\n \", metrics.classification_report(y_train, rfc_predictions_train))"
   ]
  },
  {
   "cell_type": "markdown",
   "id": "seeing-fundamental",
   "metadata": {},
   "source": [
    "The accuracy has improved by 2% than the original data.<br>\n",
    "<br>\n",
    "The confusion matrix had:<br>\n",
    "6891 correct predicted NO and Actual NO<br>\n",
    "22 predicted yes and actual NO=ERROR<br>\n",
    "59 predicted NO and actual yes= ERROR<br>\n",
    "28 predicted YES and Actual YES<br>\n",
    "\n",
    "<br>\n",
    "The precision for the positive class is 1% lower than the original training data 56% vs 57%.<br>\n",
    "The recall for the positive class is better at 0.32 vs .29<br>\n",
    "The fi for the positive class is better .41 vs .39<br>\n",
    "The precision for the negative class is 2% higher than the original training data 99% vs 97%.<br>\n",
    "The recall for the negative class is better at 1.00 vs .99<br>\n",
    "The fi for the positive class is better .99 vs .98<br>\n",
    "\n"
   ]
  },
  {
   "cell_type": "code",
   "execution_count": 104,
   "id": "literary-highway",
   "metadata": {},
   "outputs": [
    {
     "data": {
      "text/html": [
       "<div>\n",
       "<style scoped>\n",
       "    .dataframe tbody tr th:only-of-type {\n",
       "        vertical-align: middle;\n",
       "    }\n",
       "\n",
       "    .dataframe tbody tr th {\n",
       "        vertical-align: top;\n",
       "    }\n",
       "\n",
       "    .dataframe thead th {\n",
       "        text-align: right;\n",
       "    }\n",
       "</style>\n",
       "<table border=\"1\" class=\"dataframe\">\n",
       "  <thead>\n",
       "    <tr style=\"text-align: right;\">\n",
       "      <th></th>\n",
       "      <th>ActualClass</th>\n",
       "      <th>PredictedClass</th>\n",
       "    </tr>\n",
       "  </thead>\n",
       "  <tbody>\n",
       "    <tr>\n",
       "      <th>9953</th>\n",
       "      <td>0</td>\n",
       "      <td>0</td>\n",
       "    </tr>\n",
       "    <tr>\n",
       "      <th>3850</th>\n",
       "      <td>0</td>\n",
       "      <td>0</td>\n",
       "    </tr>\n",
       "    <tr>\n",
       "      <th>4962</th>\n",
       "      <td>0</td>\n",
       "      <td>0</td>\n",
       "    </tr>\n",
       "    <tr>\n",
       "      <th>3886</th>\n",
       "      <td>0</td>\n",
       "      <td>0</td>\n",
       "    </tr>\n",
       "    <tr>\n",
       "      <th>5437</th>\n",
       "      <td>0</td>\n",
       "      <td>0</td>\n",
       "    </tr>\n",
       "    <tr>\n",
       "      <th>8517</th>\n",
       "      <td>0</td>\n",
       "      <td>0</td>\n",
       "    </tr>\n",
       "    <tr>\n",
       "      <th>2041</th>\n",
       "      <td>0</td>\n",
       "      <td>0</td>\n",
       "    </tr>\n",
       "    <tr>\n",
       "      <th>1989</th>\n",
       "      <td>0</td>\n",
       "      <td>0</td>\n",
       "    </tr>\n",
       "    <tr>\n",
       "      <th>1933</th>\n",
       "      <td>0</td>\n",
       "      <td>0</td>\n",
       "    </tr>\n",
       "    <tr>\n",
       "      <th>9984</th>\n",
       "      <td>0</td>\n",
       "      <td>0</td>\n",
       "    </tr>\n",
       "  </tbody>\n",
       "</table>\n",
       "</div>"
      ],
      "text/plain": [
       "      ActualClass  PredictedClass\n",
       "9953            0               0\n",
       "3850            0               0\n",
       "4962            0               0\n",
       "3886            0               0\n",
       "5437            0               0\n",
       "8517            0               0\n",
       "2041            0               0\n",
       "1989            0               0\n",
       "1933            0               0\n",
       "9984            0               0"
      ]
     },
     "execution_count": 104,
     "metadata": {},
     "output_type": "execute_result"
    }
   ],
   "source": [
    "# Predicted class labels for all examples, \n",
    "# using the trained model, on in-sample data (same sample used for training and test)\n",
    "rfc_predictions_test = rfc.predict(X_test)\n",
    "df_true_vs_rfc_predicted_test = pd.DataFrame({'ActualClass': y_test, 'PredictedClass': rfc_predictions_test})\n",
    "df_true_vs_rfc_predicted_test.head(10)"
   ]
  },
  {
   "cell_type": "code",
   "execution_count": 105,
   "id": "alone-japan",
   "metadata": {},
   "outputs": [
    {
     "name": "stdout",
     "output_type": "stream",
     "text": [
      "==================== Test Data =======================\n",
      "Accuracy:  0.9866666666666667\n",
      "Confusion matrix: \n",
      " [[2956   10]\n",
      " [  30    4]]\n",
      "Classification report:\n",
      "                precision    recall  f1-score   support\n",
      "\n",
      "           0       0.99      1.00      0.99      2966\n",
      "           1       0.29      0.12      0.17        34\n",
      "\n",
      "    accuracy                           0.99      3000\n",
      "   macro avg       0.64      0.56      0.58      3000\n",
      "weighted avg       0.98      0.99      0.98      3000\n",
      "\n"
     ]
    }
   ],
   "source": [
    "print(\"==================== Test Data =======================\")\n",
    "print(\"Accuracy: \", metrics.accuracy_score(y_test, rfc_predictions_test))\n",
    "print(\"Confusion matrix: \\n\", metrics.confusion_matrix(y_test, rfc_predictions_test))\n",
    "print(\"Classification report:\\n \", metrics.classification_report(y_test, rfc_predictions_test))\n"
   ]
  },
  {
   "cell_type": "markdown",
   "id": "removable-pattern",
   "metadata": {},
   "source": [
    "The accuracy has improved by 2% than the original data.<br>\n",
    "<br>\n",
    "The confusion matrix had:<br>\n",
    "2956 correct predicted NO and Actual NO<br>\n",
    "10 predicted yes and actual NO=ERROR<br>\n",
    "30 predicted NO and actual yes= ERROR<br>\n",
    "4 predicted YES and Actual YES<br>\n",
    "test\n",
    "Confusion matrix: \n",
    " [[2845   29]\n",
    " [  74   25]]\n",
    "<br>\n",
    "The precision for the positive class is 1% lower than the original training data 29% vs 46%.<br>\n",
    "The recall for the positive class is better at 0.25 vs .12<br>\n",
    "The fi for the positive class is better .17 vs .33<br>\n",
    "The precision for the negative class is 2% higher than the original training data 99% vs 97%.<br>\n",
    "The recall for the negative class is better at 1.00 vs .99<br>\n",
    "The fi for the positive class is better .99 vs .98<br>\n",
    "\n",
    "This is an expected result as its predicting on data it has not seen before and so its generalising which is good.            \n"
   ]
  },
  {
   "cell_type": "code",
   "execution_count": 106,
   "id": "adapted-mortality",
   "metadata": {},
   "outputs": [],
   "source": [
    "def cross_val_RandomForest_DF(X,y, depth=None, estimators=100):\n",
    "    \"\"\"Function to perform cross validation and store results \n",
    "    in dataframe. Cross validation looks at accuracy, precision, \n",
    "    recall, f1. Returns a dataframe with results\"\"\"\n",
    "\n",
    "    # store results in dict\n",
    "    RandomForestResults = {}\n",
    "    # metrics to test against\n",
    "    test_metrics = ['accuracy','precision','recall', 'f1']\n",
    "\n",
    "    for metric in test_metrics:\n",
    "        # generate test results\n",
    "        result = cross_val_score(RandomForestClassifier(n_estimators=estimators, max_features='auto', oob_score=True, random_state=1, max_depth=depth), X, y, scoring=metric, cv=10)\n",
    "        # store result in dict\n",
    "        RandomForestResults[metric] = result.mean()\n",
    "    \n",
    "    # create dataframe with results\n",
    "    RandomForestDF = pd.DataFrame.from_dict(RandomForestResults, orient='index', columns=['Random_Forests'])\n",
    "\n",
    "    return RandomForestDF"
   ]
  },
  {
   "cell_type": "code",
   "execution_count": 107,
   "id": "nearby-engineering",
   "metadata": {},
   "outputs": [
    {
     "name": "stdout",
     "output_type": "stream",
     "text": [
      "Mean results from 10 fold cross validation are:\n"
     ]
    },
    {
     "data": {
      "text/html": [
       "<div>\n",
       "<style scoped>\n",
       "    .dataframe tbody tr th:only-of-type {\n",
       "        vertical-align: middle;\n",
       "    }\n",
       "\n",
       "    .dataframe tbody tr th {\n",
       "        vertical-align: top;\n",
       "    }\n",
       "\n",
       "    .dataframe thead th {\n",
       "        text-align: right;\n",
       "    }\n",
       "</style>\n",
       "<table border=\"1\" class=\"dataframe\">\n",
       "  <thead>\n",
       "    <tr style=\"text-align: right;\">\n",
       "      <th></th>\n",
       "      <th>Random_Forests</th>\n",
       "    </tr>\n",
       "  </thead>\n",
       "  <tbody>\n",
       "    <tr>\n",
       "      <th>accuracy</th>\n",
       "      <td>0.987600</td>\n",
       "    </tr>\n",
       "    <tr>\n",
       "      <th>precision</th>\n",
       "      <td>0.275000</td>\n",
       "    </tr>\n",
       "    <tr>\n",
       "      <th>recall</th>\n",
       "      <td>0.050000</td>\n",
       "    </tr>\n",
       "    <tr>\n",
       "      <th>f1</th>\n",
       "      <td>0.078242</td>\n",
       "    </tr>\n",
       "  </tbody>\n",
       "</table>\n",
       "</div>"
      ],
      "text/plain": [
       "           Random_Forests\n",
       "accuracy         0.987600\n",
       "precision        0.275000\n",
       "recall           0.050000\n",
       "f1               0.078242"
      ]
     },
     "execution_count": 107,
     "metadata": {},
     "output_type": "execute_result"
    }
   ],
   "source": [
    "RandomForestDF2 = cross_val_RandomForest_DF(X,y)\n",
    "print(f\"Mean results from 10 fold cross validation are:\")\n",
    "RandomForestDF2"
   ]
  },
  {
   "cell_type": "markdown",
   "id": "manual-learning",
   "metadata": {},
   "source": [
    "## 5.3.1 Discuss findings"
   ]
  },
  {
   "cell_type": "code",
   "execution_count": 108,
   "id": "present-driving",
   "metadata": {},
   "outputs": [
    {
     "data": {
      "text/html": [
       "<div>\n",
       "<style scoped>\n",
       "    .dataframe tbody tr th:only-of-type {\n",
       "        vertical-align: middle;\n",
       "    }\n",
       "\n",
       "    .dataframe tbody tr th {\n",
       "        vertical-align: top;\n",
       "    }\n",
       "\n",
       "    .dataframe thead th {\n",
       "        text-align: right;\n",
       "    }\n",
       "</style>\n",
       "<table border=\"1\" class=\"dataframe\">\n",
       "  <thead>\n",
       "    <tr style=\"text-align: right;\">\n",
       "      <th></th>\n",
       "      <th>Random_Forests</th>\n",
       "      <th>Random_Forests</th>\n",
       "    </tr>\n",
       "  </thead>\n",
       "  <tbody>\n",
       "    <tr>\n",
       "      <th>accuracy</th>\n",
       "      <td>0.976830</td>\n",
       "      <td>0.987600</td>\n",
       "    </tr>\n",
       "    <tr>\n",
       "      <th>precision</th>\n",
       "      <td>0.506752</td>\n",
       "      <td>0.275000</td>\n",
       "    </tr>\n",
       "    <tr>\n",
       "      <th>recall</th>\n",
       "      <td>0.236957</td>\n",
       "      <td>0.050000</td>\n",
       "    </tr>\n",
       "    <tr>\n",
       "      <th>f1</th>\n",
       "      <td>0.317732</td>\n",
       "      <td>0.078242</td>\n",
       "    </tr>\n",
       "  </tbody>\n",
       "</table>\n",
       "</div>"
      ],
      "text/plain": [
       "           Random_Forests  Random_Forests\n",
       "accuracy         0.976830        0.987600\n",
       "precision        0.506752        0.275000\n",
       "recall           0.236957        0.050000\n",
       "f1               0.317732        0.078242"
      ]
     },
     "execution_count": 108,
     "metadata": {},
     "output_type": "execute_result"
    }
   ],
   "source": [
    "compare_performance = pd.concat([RandomForestDF,RandomForestDF2], axis=1)\n",
    "compare_performance"
   ]
  },
  {
   "cell_type": "markdown",
   "id": "premium-compiler",
   "metadata": {},
   "source": [
    "The first column is the results from the orignal data and the second colum is the data from the new data. It does not perform as well with the new data, the accuracy is 1% better but recall percision and f1 are significantly lower.<br>\n",
    "From original dataset: \t\tCount 5943<br>\n",
    "Total number that died:\t\t 147\t2.47%<br>\n",
    "Total number that survived:\t 5796\t97.53%<br>\n",
    "The reason could be that this new data set has a lower percentage of the negative class than the first one and therfore the model can't be trained as well as it does not have the same access to information as the first dataset. <br>\n",
    "The new data set had less errors in the training Confusion matrix:\n",
    "\n",
    "    train new\n",
    "    Confusion matrix: \n",
    "     [[6891   22]\n",
    "     [  59   28]]     \n",
    "     \n",
    "    train original\n",
    "     Confusion matrix: \n",
    "      [[6641   52]\n",
    "      [ 171   70]]\n",
    "The new data had 22 False positives and 59 False negatives.\n",
    "The original dataset had 52 False positives and 171 False negatives.\n",
    "\n",
    "The new data set had less errors in the testing Confusion matrix:\n",
    "    \n",
    "    test new \n",
    "    Confusion matrix\n",
    "    [[2956   10]\n",
    "     [  30    4]]\n",
    "    \n",
    "    test original\n",
    "    Confusion matrix: \n",
    "     [[2845   29]\n",
    "     [  74   25]]\n",
    "\n",
    "The new data had 10 False positives and 30 False negatives.\n",
    "The original dataset had 29 False positives and 74 False negatives.\n",
    "\n",
    "But is is just not as good as the original model at predicting the positive class and that is why recall and F1 score are so low."
   ]
  }
 ],
 "metadata": {
  "kernelspec": {
   "display_name": "Python 3",
   "language": "python",
   "name": "python3"
  },
  "language_info": {
   "codemirror_mode": {
    "name": "ipython",
    "version": 3
   },
   "file_extension": ".py",
   "mimetype": "text/x-python",
   "name": "python",
   "nbconvert_exporter": "python",
   "pygments_lexer": "ipython3",
   "version": "3.8.8"
  }
 },
 "nbformat": 4,
 "nbformat_minor": 5
}
