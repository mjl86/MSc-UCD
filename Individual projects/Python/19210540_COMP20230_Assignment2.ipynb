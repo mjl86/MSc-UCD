{
 "cells": [
  {
   "cell_type": "markdown",
   "id": "fiscal-principle",
   "metadata": {},
   "source": [
    "# <center>Assignment 2</center>"
   ]
  },
  {
   "cell_type": "markdown",
   "id": "agricultural-revolution",
   "metadata": {},
   "source": [
    "## <center>Introduction</center>"
   ]
  },
  {
   "cell_type": "markdown",
   "id": "quiet-adams",
   "metadata": {},
   "source": [
    "This notebook includes three main sections:<br>\n",
    "<b>Part one</b> will focus on Linked lists how they are implemented and what operations can be performed on them.<br> \n",
    "<b>Part two</b> will contain a stack class where all stack method's will be defined. We will also examine how each of the operations once applied to a stack affect it.<br>\n",
    "<b>Part three</b> will contain a queue class where all appropriate methods for it are defined. The operations will then be tested on a queue and we will be able to see how they change the queue.<br>\n",
    "The methods will be tested to ensure they perform correctly by instantiating a stack and queue object and performing the required operations as laid out in question 2 of part two and three.<br>\n",
    "I will also address the efficiency of the runtime of each of the operations using big O notation. Throughout the report we will also look at the advantages and disadvantages of Linked lists and Arrays and why we may decide to use one data structure over the other. "
   ]
  },
  {
   "cell_type": "markdown",
   "id": "reflected-curtis",
   "metadata": {},
   "source": [
    "## Part one"
   ]
  },
  {
   "cell_type": "markdown",
   "id": "sought-engineer",
   "metadata": {},
   "source": [
    "### <center>Linked Lists</center>"
   ]
  },
  {
   "cell_type": "markdown",
   "id": "lesser-puzzle",
   "metadata": {},
   "source": [
    "### Q1"
   ]
  },
  {
   "cell_type": "markdown",
   "id": "selective-benjamin",
   "metadata": {},
   "source": [
    "### Introduction\n",
    "This question focuses on linked lists and the implementation of them. A class has been created and contains a constructor to create an instance of a linked list and the methods to perform the various operations on a linked list. Linked lists differ to array ADT's.<br> \n",
    "In python arrays are dynamic and tend to be larger in memory than you need this is due to how arrays are stored as a contiguous block i.e., positions in memory that are all together. Additional space is always left in memory so that the array can grow and as more elements are added to the array the memory size continues to expand further. Therefore, a linked list might be more attractive than an array.<br>\n",
    "### Advantages<br>\n",
    "A linked list is a data structure that stores reference to the next memory location of the next element. A linked list uses non-contiguous memory which means it can grow just as needed as large slots in memory are not needed for the list, it just requires enough memory for the next node, and it can be located anywhere in memory as the preceding node will house its memory location. Another advantage of using a linked list over an array is that certain operations are more efficient than arrays. As you will see in the add first method of the linked list class. It is always O(1) as you just point to the element to the head element in the linked list and then make the new element the head of the list.<br>\n",
    "### Disadvantages\n",
    "There are some disadvantages to using a linked list in comparison to an array. The 32/64-bit reference to the next nodes memory location uses 4/8 bytes for each address pointer. It also does not have the ability to access nodes by index so if you need something at the end of the list you have to traverse the entire linked list."
   ]
  },
  {
   "cell_type": "code",
   "execution_count": 1,
   "id": "standing-portuguese",
   "metadata": {},
   "outputs": [],
   "source": [
    "class myLinkedList:\n",
    "    # Constructor to create the linked list. We need the data elements we need the start of the list and the next which\n",
    "    #will be the pointer pointing to the next element.\n",
    "    #Linked list constructor and creates new nodes for list\n",
    "    \n",
    "    def __init__(self,element=None):\n",
    "        self.element=element #assign the data to the list\n",
    "        self.head=None #start of the linked list\n",
    "        self.next=None #moves the pointer\n",
    "        \n",
    "   #add a new node to the start of the linked list\n",
    "    def add_first(self,n):\n",
    "        new_element= myLinkedList(n) #Creates a new node for the list\n",
    "        new_element.next=self.head #points the new element to the first element\n",
    "        self.head=new_element # makes the new element the first elemet\n",
    "        \n",
    "    # method to add a node to the end of the linked list    \n",
    "    def add_last(self,n):\n",
    "        new_element=myLinkedList(n) #Creates a new node for the list\n",
    "        last=self.head  # assigns the variable last to the head of the list\n",
    "        while (last.next): #loops through the list while \n",
    "            last=last.next #reassigns last to each element in turn\n",
    "        last.next=new_element #assigns the new element to the last position in the list\n",
    "        \n",
    "    #method to remove the first node\n",
    "    def remove_first(self):\n",
    "        self.head=self.head.next #points the head of the list to the second element thus removing the first element.\n",
    "    \n",
    "    #A method to travers the list\n",
    "    def list_traversal(self):\n",
    "        pointer = self.head #pointing to the start of the list\n",
    "        while (pointer):# This loop points to the first node and as it the loop progresses it points to the next element and \n",
    "            #the next and prints them\n",
    "            print (pointer.element) # prints each element as it comes to it\n",
    "            pointer= pointer.next # reassigns the pointer to the next node and reenters the while loop until the end of the \n",
    "            #list is reached\n",
    "            \n",
    "    def size(self):\n",
    "        count=0\n",
    "        pointer=self.head\n",
    "        while (pointer):\n",
    "            count+=1\n",
    "            pointer=pointer.next\n",
    "            \n",
    "        print (\"The linked list has\",count, \"elements.\")\n",
    "        #print(\"The list has \",count,\" elements\")\n",
    "        "
   ]
  },
  {
   "cell_type": "code",
   "execution_count": 2,
   "id": "stupid-sierra",
   "metadata": {},
   "outputs": [],
   "source": [
    "llist = myLinkedList()# initialising an empty list\n",
    "llist.head = myLinkedList(1) # assigns this element to the start of the list\n",
    "second = myLinkedList(2) # creates a new node\n",
    "third = myLinkedList(3) # create a new node"
   ]
  },
  {
   "cell_type": "code",
   "execution_count": 3,
   "id": "deluxe-aside",
   "metadata": {},
   "outputs": [
    {
     "name": "stdout",
     "output_type": "stream",
     "text": [
      "1\n",
      "2\n"
     ]
    }
   ],
   "source": [
    "llist.head.next = second #points the first node to the second node\n",
    "llist.list_traversal()"
   ]
  },
  {
   "cell_type": "markdown",
   "id": "amateur-election",
   "metadata": {},
   "source": [
    "List traversal will have a linear time complexity of O(n) as the longer the list the longer the time to traverse it."
   ]
  },
  {
   "cell_type": "code",
   "execution_count": 4,
   "id": "incorporate-italic",
   "metadata": {},
   "outputs": [
    {
     "name": "stdout",
     "output_type": "stream",
     "text": [
      "1\n",
      "2\n",
      "3\n"
     ]
    }
   ],
   "source": [
    "second.next=third # points the second node to  the third node\n",
    "llist.list_traversal()"
   ]
  },
  {
   "cell_type": "code",
   "execution_count": 5,
   "id": "available-jordan",
   "metadata": {},
   "outputs": [
    {
     "name": "stdout",
     "output_type": "stream",
     "text": [
      "The linked list has 3 elements.\n"
     ]
    }
   ],
   "source": [
    "llist.size()"
   ]
  },
  {
   "cell_type": "code",
   "execution_count": 6,
   "id": "specified-regulation",
   "metadata": {},
   "outputs": [],
   "source": [
    "llist.add_first(6)#adds a new node to the start of the list"
   ]
  },
  {
   "cell_type": "markdown",
   "id": "future-venice",
   "metadata": {},
   "source": [
    "The add first operation has a constant Big O time complexity or O(1). THis is because the time taken will always be the same no matter how large the list gets as we only ever need to acces the first positon."
   ]
  },
  {
   "cell_type": "code",
   "execution_count": 7,
   "id": "found-bottom",
   "metadata": {},
   "outputs": [
    {
     "name": "stdout",
     "output_type": "stream",
     "text": [
      "6\n",
      "1\n",
      "2\n",
      "3\n"
     ]
    }
   ],
   "source": [
    "llist.list_traversal()#loops the list and prints the elements"
   ]
  },
  {
   "cell_type": "code",
   "execution_count": 8,
   "id": "mobile-survey",
   "metadata": {},
   "outputs": [],
   "source": [
    "llist.add_last(6)#loops the list and adds the new element to the end of the list"
   ]
  },
  {
   "cell_type": "markdown",
   "id": "super-christian",
   "metadata": {},
   "source": [
    "The add last operation has a linear time complexity of O(n) as the adding to the last node means that we have to travel the entire list so the longer the list is the longer the time will take to add the node. If we include a tail pointer as well as a head pointer we can bring the time complexity down to a constant O(1)."
   ]
  },
  {
   "cell_type": "code",
   "execution_count": 9,
   "id": "laughing-navigation",
   "metadata": {},
   "outputs": [
    {
     "name": "stdout",
     "output_type": "stream",
     "text": [
      "6\n",
      "1\n",
      "2\n",
      "3\n",
      "6\n"
     ]
    }
   ],
   "source": [
    "llist.list_traversal()#loops the list and prints the elements"
   ]
  },
  {
   "cell_type": "code",
   "execution_count": 10,
   "id": "prepared-legislature",
   "metadata": {},
   "outputs": [],
   "source": [
    "llist.remove_first()#removes the first element"
   ]
  },
  {
   "cell_type": "markdown",
   "id": "assisted-portable",
   "metadata": {},
   "source": [
    "Removing the first element will have a time complexity of O(1), as regardless of the size of the list we will only ever need to access the first node."
   ]
  },
  {
   "cell_type": "code",
   "execution_count": 11,
   "id": "modular-jackson",
   "metadata": {},
   "outputs": [
    {
     "name": "stdout",
     "output_type": "stream",
     "text": [
      "1\n",
      "2\n",
      "3\n",
      "6\n"
     ]
    }
   ],
   "source": [
    "llist.list_traversal()#loops the list and prints the elements"
   ]
  },
  {
   "cell_type": "markdown",
   "id": "authentic-crest",
   "metadata": {},
   "source": [
    "### Q2."
   ]
  },
  {
   "cell_type": "markdown",
   "id": "dynamic-defense",
   "metadata": {},
   "source": [
    "### <center>Stack ADT</center>"
   ]
  },
  {
   "cell_type": "markdown",
   "id": "included-valuable",
   "metadata": {},
   "source": [
    "<b>Definition:</b>A Stack ADT is a LIFO (last in first out) data structure. Last in first out means the last element inserted or added to the stack is the first element to be removed from the stack. At any one time you can only ever put something on top of the stack or remove the top element of the stack.<br>\n",
    "\n",
    "##### Key operations <br>\n",
    "\n",
    "<li><b>Push()</b></li>\n",
    "&emsp;Adds an element to the top of the stack.\n",
    "<li><b>Pop()</b></li>\n",
    "&emsp;Removes the top element in the stack.\n",
    "\n",
    "##### Support operations<br>\n",
    "<li><b>Peek()</b></li>\n",
    "&emsp; Allows the top element to be seen without removing it from the stack.\n",
    "<li><b>isFull()</b></li>\n",
    "&emsp;Checks if the stack is full.\n",
    "<li><b>isEmpty()</b></li>\n",
    "&emsp;Checks if the stack is empty.\n",
    "\n"
   ]
  },
  {
   "cell_type": "markdown",
   "id": "danish-shore",
   "metadata": {},
   "source": [
    "### <center>Queue ADT</center>"
   ]
  },
  {
   "cell_type": "markdown",
   "id": "exciting-danger",
   "metadata": {},
   "source": [
    "<b>Definition:</b>A Queue ADT is a linear data structure. It is an open-ended structure with elements always being removed from the head of the queue and elements being added at the end of the queue. This is a FIFO data structure or first in first out.\n",
    "\n",
    "##### Key operations <br>\n",
    "\n",
    "<li><b>Enqueue</b></li>\n",
    "&emsp;Adds an element to the back of the queue by making the rear pointer point to it.\n",
    "<li><b>Dequeue</b></li>\n",
    "&emsp;Removes an element from the head of the queue by making the head pointer point to the next available element in the queue.\n",
    "\n",
    "##### Example<br>\n",
    "1. A deck of cards is a real-world stack. If they are sitting on a table, you can only remove the topmost card and to add a card to the deck you can only place it on top.\n",
    "2. A tub of Pringles or other such crisps are a stack as you can only remove a crisp from the top of the stack. In the unlikely event of wanting to add to the stack the crisp can only be added to the top.\n",
    "\n",
    "\n",
    "##### Support operations <br>\n",
    "\n",
    "<li><b>Peek()</b></li>\n",
    "&emsp; Gets the front element without removing it from the queue.\n",
    "<li><b>isFull()</b></li>\n",
    "&emsp;Checks if the queue is full.\n",
    "<li><b>isEmpty()</b></li>\n",
    "&emsp;Checks if the queue is empty.\n",
    "\n",
    "##### Example<br>\n",
    "\n",
    "1. People using an amusement park ride operates like a queue as the first person to enter the ride exits first and new people join the back to wait for their turn.\n",
    "2. A line at the supermarket. The first person to join gets served first while other people join the back waiting for their turn.\n"
   ]
  },
  {
   "cell_type": "markdown",
   "id": "integral-referral",
   "metadata": {},
   "source": [
    "## Part Two"
   ]
  },
  {
   "cell_type": "markdown",
   "id": "simplified-leather",
   "metadata": {},
   "source": [
    "### <center>Stack ADT Implementation</center>"
   ]
  },
  {
   "cell_type": "markdown",
   "id": "common-variable",
   "metadata": {},
   "source": [
    "### Q1."
   ]
  },
  {
   "cell_type": "code",
   "execution_count": 12,
   "id": "considerable-quick",
   "metadata": {},
   "outputs": [],
   "source": [
    "#Add and element to the list in this representation the end of the list represents the top of the stack.\n",
    "stack=[]\n",
    "#i have implmented a limit variable to mimic memory for a stack and a queue\n",
    "limit=10\n",
    "class Stack():\n",
    "    def __init__(self):\n",
    "        self.elements=[]\n",
    "        \n",
    "    def push(self,element):\n",
    "        while (len(self.elements)) <= limit:\n",
    "            self.elements.append(element)\n",
    "            break\n",
    "        return self.elements\n",
    "    \n",
    "    def isempty(self):\n",
    "        if (len(self.elements)) == 1:\n",
    "            print(\"The stack is empty\")\n",
    "        else:\n",
    "            print (\"The stack is not empty.\")\n",
    "            \n",
    "    \n",
    "        #Checks to see if the stack is full or not\n",
    "    def isfull(self):\n",
    "        if (len(self.elements)) >=limit:\n",
    "            return \"The stack is full\"\n",
    "        else:\n",
    "            print (\"The stack is not full.\")\n",
    "\n",
    "            \n",
    "    #this function peek displays the top element in the stack without removing it.\n",
    "    def peek(self):\n",
    "        return self.elements[-1]\n",
    "\n",
    "        #removing element from the top of the stack\n",
    "    def pop(self):\n",
    "        print(self.elements[-1],\"has been removed from the stack\")\n",
    "        del self.elements[-1]\n",
    "        print (self.elements)\n"
   ]
  },
  {
   "cell_type": "code",
   "execution_count": 13,
   "id": "psychological-forty",
   "metadata": {},
   "outputs": [],
   "source": [
    "s=Stack()\n"
   ]
  },
  {
   "cell_type": "code",
   "execution_count": 14,
   "id": "worst-invite",
   "metadata": {},
   "outputs": [
    {
     "name": "stdout",
     "output_type": "stream",
     "text": [
      "The stack is not empty.\n",
      "[]\n"
     ]
    }
   ],
   "source": [
    "s.isempty()\n",
    "print(s.elements)"
   ]
  },
  {
   "cell_type": "markdown",
   "id": "million-snowboard",
   "metadata": {},
   "source": [
    "The isempty method has a time complexity of O(1) . If the stack is empty it checks if the length of the array is equal to zero and if it is it prints the stack is empty else it prints it is not empty. it only need to check if there is one node in the array so it will always have a constant time complexity."
   ]
  },
  {
   "cell_type": "code",
   "execution_count": 15,
   "id": "talented-consumption",
   "metadata": {},
   "outputs": [
    {
     "name": "stdout",
     "output_type": "stream",
     "text": [
      "[1, 2, 3]\n"
     ]
    }
   ],
   "source": [
    "s.push(1)\n",
    "s.push(2)\n",
    "s.push(3)\n",
    "print(s.elements)"
   ]
  },
  {
   "cell_type": "markdown",
   "id": "auburn-calendar",
   "metadata": {},
   "source": [
    "The push method has on average a time complexity of O(1) as we are only ever adding to the top of the stack."
   ]
  },
  {
   "cell_type": "code",
   "execution_count": 16,
   "id": "affected-breed",
   "metadata": {},
   "outputs": [
    {
     "name": "stdout",
     "output_type": "stream",
     "text": [
      "The stack is not full.\n"
     ]
    }
   ],
   "source": [
    "s.isfull()"
   ]
  },
  {
   "cell_type": "markdown",
   "id": "level-provider",
   "metadata": {},
   "source": [
    "The isfull operation has a time complexity of O(1) as we are just seeing if the length of the stack is greater than or equal to the limit representing the memory size. "
   ]
  },
  {
   "cell_type": "code",
   "execution_count": 17,
   "id": "adaptive-karaoke",
   "metadata": {},
   "outputs": [
    {
     "data": {
      "text/plain": [
       "3"
      ]
     },
     "execution_count": 17,
     "metadata": {},
     "output_type": "execute_result"
    }
   ],
   "source": [
    "s.peek()"
   ]
  },
  {
   "cell_type": "markdown",
   "id": "vocal-continent",
   "metadata": {},
   "source": [
    "The peek operation has on average a time complexity O(1), as we are only ever displaying the element at index [-1] which in this case is the top of the stack. "
   ]
  },
  {
   "cell_type": "code",
   "execution_count": 18,
   "id": "dominican-egyptian",
   "metadata": {},
   "outputs": [
    {
     "name": "stdout",
     "output_type": "stream",
     "text": [
      "3 has been removed from the stack\n",
      "[1, 2]\n"
     ]
    }
   ],
   "source": [
    "s.pop()"
   ]
  },
  {
   "cell_type": "markdown",
   "id": "traditional-therapist",
   "metadata": {},
   "source": [
    "The pop operation has on average a time complexity O(1), as we are only ever removing the element at index [-1] which in this case is the top of the stack. "
   ]
  },
  {
   "cell_type": "code",
   "execution_count": 19,
   "id": "resident-format",
   "metadata": {},
   "outputs": [
    {
     "name": "stdout",
     "output_type": "stream",
     "text": [
      "2 has been removed from the stack\n",
      "[1]\n"
     ]
    }
   ],
   "source": [
    "s.pop()"
   ]
  },
  {
   "cell_type": "code",
   "execution_count": 20,
   "id": "ranging-pioneer",
   "metadata": {},
   "outputs": [
    {
     "name": "stdout",
     "output_type": "stream",
     "text": [
      "1 has been removed from the stack\n",
      "[]\n"
     ]
    }
   ],
   "source": [
    "s.pop()"
   ]
  },
  {
   "cell_type": "code",
   "execution_count": 21,
   "id": "third-suggestion",
   "metadata": {},
   "outputs": [
    {
     "name": "stdout",
     "output_type": "stream",
     "text": [
      "The stack is not empty.\n"
     ]
    }
   ],
   "source": [
    "s.isempty()"
   ]
  },
  {
   "cell_type": "markdown",
   "id": "headed-patent",
   "metadata": {},
   "source": [
    "The isempty operation has on average a time complexity O(1), as we are only checking that the length of the array is equal to zero if it has even one element that would be false and so we would know the stack is not empty."
   ]
  },
  {
   "cell_type": "markdown",
   "id": "simple-canyon",
   "metadata": {},
   "source": [
    "### Q2."
   ]
  },
  {
   "cell_type": "code",
   "execution_count": 22,
   "id": "egyptian-declaration",
   "metadata": {},
   "outputs": [],
   "source": [
    "S=Stack()\n"
   ]
  },
  {
   "cell_type": "code",
   "execution_count": 23,
   "id": "false-kenya",
   "metadata": {},
   "outputs": [
    {
     "data": {
      "text/plain": [
       "[5]"
      ]
     },
     "execution_count": 23,
     "metadata": {},
     "output_type": "execute_result"
    }
   ],
   "source": [
    "S.push(5) \n"
   ]
  },
  {
   "cell_type": "code",
   "execution_count": 24,
   "id": "streaming-serbia",
   "metadata": {},
   "outputs": [
    {
     "data": {
      "text/plain": [
       "[5, 3]"
      ]
     },
     "execution_count": 24,
     "metadata": {},
     "output_type": "execute_result"
    }
   ],
   "source": [
    "S.push(3) \n"
   ]
  },
  {
   "cell_type": "code",
   "execution_count": 25,
   "id": "lasting-modern",
   "metadata": {},
   "outputs": [
    {
     "name": "stdout",
     "output_type": "stream",
     "text": [
      "3 has been removed from the stack\n",
      "[5]\n"
     ]
    }
   ],
   "source": [
    "S.pop() \n"
   ]
  },
  {
   "cell_type": "code",
   "execution_count": 26,
   "id": "amazing-procurement",
   "metadata": {},
   "outputs": [
    {
     "data": {
      "text/plain": [
       "[5, 2]"
      ]
     },
     "execution_count": 26,
     "metadata": {},
     "output_type": "execute_result"
    }
   ],
   "source": [
    "S.push(2) \n"
   ]
  },
  {
   "cell_type": "code",
   "execution_count": 27,
   "id": "surface-confirmation",
   "metadata": {},
   "outputs": [
    {
     "data": {
      "text/plain": [
       "[5, 2, 8]"
      ]
     },
     "execution_count": 27,
     "metadata": {},
     "output_type": "execute_result"
    }
   ],
   "source": [
    "S.push(8)\n"
   ]
  },
  {
   "cell_type": "code",
   "execution_count": 28,
   "id": "instrumental-tuition",
   "metadata": {},
   "outputs": [
    {
     "name": "stdout",
     "output_type": "stream",
     "text": [
      "8 has been removed from the stack\n",
      "[5, 2]\n"
     ]
    }
   ],
   "source": [
    "S.pop() \n"
   ]
  },
  {
   "cell_type": "code",
   "execution_count": 29,
   "id": "exposed-taiwan",
   "metadata": {},
   "outputs": [
    {
     "name": "stdout",
     "output_type": "stream",
     "text": [
      "2 has been removed from the stack\n",
      "[5]\n"
     ]
    }
   ],
   "source": [
    "S.pop()\n"
   ]
  },
  {
   "cell_type": "code",
   "execution_count": 30,
   "id": "smooth-august",
   "metadata": {},
   "outputs": [
    {
     "data": {
      "text/plain": [
       "[5, 9]"
      ]
     },
     "execution_count": 30,
     "metadata": {},
     "output_type": "execute_result"
    }
   ],
   "source": [
    "S.push(9)"
   ]
  },
  {
   "cell_type": "code",
   "execution_count": 31,
   "id": "affected-defeat",
   "metadata": {},
   "outputs": [
    {
     "data": {
      "text/plain": [
       "[5, 9, 1]"
      ]
     },
     "execution_count": 31,
     "metadata": {},
     "output_type": "execute_result"
    }
   ],
   "source": [
    "S.push(1) \n"
   ]
  },
  {
   "cell_type": "code",
   "execution_count": 32,
   "id": "psychological-czech",
   "metadata": {},
   "outputs": [
    {
     "name": "stdout",
     "output_type": "stream",
     "text": [
      "1 has been removed from the stack\n",
      "[5, 9]\n"
     ]
    }
   ],
   "source": [
    "S.pop()\n"
   ]
  },
  {
   "cell_type": "code",
   "execution_count": 33,
   "id": "short-housing",
   "metadata": {},
   "outputs": [
    {
     "data": {
      "text/plain": [
       "[5, 9, 7]"
      ]
     },
     "execution_count": 33,
     "metadata": {},
     "output_type": "execute_result"
    }
   ],
   "source": [
    "S.push(7)\n"
   ]
  },
  {
   "cell_type": "code",
   "execution_count": 34,
   "id": "fifteen-arctic",
   "metadata": {},
   "outputs": [
    {
     "data": {
      "text/plain": [
       "[5, 9, 7, 6]"
      ]
     },
     "execution_count": 34,
     "metadata": {},
     "output_type": "execute_result"
    }
   ],
   "source": [
    "S.push(6)\n"
   ]
  },
  {
   "cell_type": "code",
   "execution_count": 35,
   "id": "radio-rapid",
   "metadata": {},
   "outputs": [
    {
     "name": "stdout",
     "output_type": "stream",
     "text": [
      "6 has been removed from the stack\n",
      "[5, 9, 7]\n"
     ]
    }
   ],
   "source": [
    "S.pop()\n"
   ]
  },
  {
   "cell_type": "code",
   "execution_count": 36,
   "id": "wireless-valve",
   "metadata": {},
   "outputs": [
    {
     "name": "stdout",
     "output_type": "stream",
     "text": [
      "7 has been removed from the stack\n",
      "[5, 9]\n"
     ]
    }
   ],
   "source": [
    "S.pop()\n"
   ]
  },
  {
   "cell_type": "code",
   "execution_count": 37,
   "id": "minimal-angle",
   "metadata": {},
   "outputs": [
    {
     "data": {
      "text/plain": [
       "[5, 9, 4]"
      ]
     },
     "execution_count": 37,
     "metadata": {},
     "output_type": "execute_result"
    }
   ],
   "source": [
    "S.push(4)\n"
   ]
  },
  {
   "cell_type": "code",
   "execution_count": 38,
   "id": "accessible-fundamental",
   "metadata": {},
   "outputs": [
    {
     "name": "stdout",
     "output_type": "stream",
     "text": [
      "4 has been removed from the stack\n",
      "[5, 9]\n"
     ]
    }
   ],
   "source": [
    "S.pop()\n"
   ]
  },
  {
   "cell_type": "code",
   "execution_count": 39,
   "id": "billion-incidence",
   "metadata": {},
   "outputs": [
    {
     "name": "stdout",
     "output_type": "stream",
     "text": [
      "9 has been removed from the stack\n",
      "[5]\n"
     ]
    }
   ],
   "source": [
    "S.pop()"
   ]
  },
  {
   "cell_type": "markdown",
   "id": "enclosed-delta",
   "metadata": {},
   "source": [
    "### Q3."
   ]
  },
  {
   "cell_type": "markdown",
   "id": "forward-miniature",
   "metadata": {},
   "source": [
    "35 push operations,15 top operations,10 pop operations with three empty stack errors.<br>\n",
    "You are left with a list of 28 elements.\n",
    "[1, 2, 3, 4, 5, 6, 7, 8, 9, 10, 11, 12, 13, 14, 15, 16, 17, 18, 19, 20, 21, 22, 23, 24, 25, 26, 27, 28]"
   ]
  },
  {
   "cell_type": "markdown",
   "id": "julian-cutting",
   "metadata": {},
   "source": [
    "## Part 3"
   ]
  },
  {
   "cell_type": "markdown",
   "id": "solved-express",
   "metadata": {},
   "source": [
    "## <center>Queue ADT Implementation</center>"
   ]
  },
  {
   "cell_type": "markdown",
   "id": "forbidden-replacement",
   "metadata": {},
   "source": [
    "### Q1. "
   ]
  },
  {
   "cell_type": "markdown",
   "id": "dominican-bandwidth",
   "metadata": {},
   "source": [
    "For the implementation of the queue data structure I will again be using an array. Array position[0] will be the head of the queue and array position [-1] will be the tail of the queue."
   ]
  },
  {
   "cell_type": "code",
   "execution_count": 40,
   "id": "individual-sleep",
   "metadata": {},
   "outputs": [],
   "source": [
    "class Queue():\n",
    "    def __init__(self):\n",
    "        self.queue=[]\n",
    "        \n",
    "    def enqueue(self,element):\n",
    "        if (len(self.queue)) <= limit:\n",
    "            self.queue.append(element)\n",
    "            print(self.queue)\n",
    "        else:\n",
    "            print( \"The queue is full\")\n",
    "            \n",
    "    def isempty(self):\n",
    "        if (len(self.queue)) == 0:\n",
    "            print(\"The queue is empty\")\n",
    "        else:\n",
    "            print (\"The queue is not empty there are\", (len(self.queue)), \"elements in the stack\")\n",
    "            \n",
    "    def dequeue(self):\n",
    "        print (self.queue[0], \"has been removed from the queue\")\n",
    "        del self.queue[0]\n",
    "      \n",
    "        print(self.queue)\n",
    "        \n",
    "        #this function peek displays the top element in the stack without removing it.\n",
    "    def peek(self):\n",
    "        return self.queue[0]\n",
    "\n",
    "        #Checks to see if the stack is full or not\n",
    "    def isfull(self):\n",
    "        if (len(self.queue)) >=limit:\n",
    "            print (\"The queue is full\")\n",
    "        else:\n",
    "            print(\"The queue is not full\")"
   ]
  },
  {
   "cell_type": "code",
   "execution_count": 41,
   "id": "official-little",
   "metadata": {},
   "outputs": [],
   "source": [
    "q=Queue()"
   ]
  },
  {
   "cell_type": "code",
   "execution_count": 42,
   "id": "applicable-country",
   "metadata": {},
   "outputs": [
    {
     "name": "stdout",
     "output_type": "stream",
     "text": [
      "The queue is empty\n"
     ]
    }
   ],
   "source": [
    "q.isempty()"
   ]
  },
  {
   "cell_type": "markdown",
   "id": "passing-alfred",
   "metadata": {},
   "source": [
    "The isempty method has a time complexity of O(1) as it only ever needs to check if the array length is equal to zero so if even one elemnet was present the length would not equal zero and it would print the queue is not empty."
   ]
  },
  {
   "cell_type": "code",
   "execution_count": 43,
   "id": "appointed-hypothetical",
   "metadata": {},
   "outputs": [
    {
     "name": "stdout",
     "output_type": "stream",
     "text": [
      "[1]\n",
      "[1, 2]\n",
      "[1, 2, 3]\n"
     ]
    }
   ],
   "source": [
    "q.enqueue(1)\n",
    "q.enqueue(2)\n",
    "q.enqueue(3)"
   ]
  },
  {
   "cell_type": "markdown",
   "id": "recorded-flight",
   "metadata": {},
   "source": [
    "The enqueue method has a time complexity of O(1). As we can just position the new element to be inserted at index [-1]."
   ]
  },
  {
   "cell_type": "code",
   "execution_count": 44,
   "id": "exact-invalid",
   "metadata": {},
   "outputs": [
    {
     "name": "stdout",
     "output_type": "stream",
     "text": [
      "1 has been removed from the queue\n",
      "[2, 3]\n"
     ]
    }
   ],
   "source": [
    "q.dequeue()"
   ]
  },
  {
   "cell_type": "markdown",
   "id": "periodic-retrieval",
   "metadata": {},
   "source": [
    "The dequeue method has a time complexity of O(1). As in our array implementation we can just remove the element at index [0]. "
   ]
  },
  {
   "cell_type": "code",
   "execution_count": 45,
   "id": "amino-mediterranean",
   "metadata": {},
   "outputs": [
    {
     "name": "stdout",
     "output_type": "stream",
     "text": [
      "2 has been removed from the queue\n",
      "[3]\n"
     ]
    }
   ],
   "source": [
    "q.dequeue()"
   ]
  },
  {
   "cell_type": "code",
   "execution_count": 46,
   "id": "about-favorite",
   "metadata": {},
   "outputs": [
    {
     "name": "stdout",
     "output_type": "stream",
     "text": [
      "[3]\n"
     ]
    }
   ],
   "source": [
    "q.peek()\n",
    "print(q.queue)"
   ]
  },
  {
   "cell_type": "markdown",
   "id": "seventh-sucking",
   "metadata": {},
   "source": [
    "The peek operation has on average a time complexity O(1), as we are only ever displaying the element at index [0] which in this case is the top of the queue. "
   ]
  },
  {
   "cell_type": "code",
   "execution_count": 47,
   "id": "compressed-childhood",
   "metadata": {},
   "outputs": [
    {
     "name": "stdout",
     "output_type": "stream",
     "text": [
      "The queue is not full\n"
     ]
    }
   ],
   "source": [
    "q.isfull()\n"
   ]
  },
  {
   "cell_type": "markdown",
   "id": "systematic-cursor",
   "metadata": {},
   "source": [
    "The isfull operation has a time complexity of O(1) as we are just seeing if the length of the queue is greater than or equal to the limit representing the memory size. "
   ]
  },
  {
   "cell_type": "markdown",
   "id": "dressed-ancient",
   "metadata": {},
   "source": [
    "### Q2."
   ]
  },
  {
   "cell_type": "code",
   "execution_count": 48,
   "id": "metric-collar",
   "metadata": {},
   "outputs": [
    {
     "name": "stdout",
     "output_type": "stream",
     "text": [
      "[3, 5]\n"
     ]
    }
   ],
   "source": [
    "q.enqueue(5)"
   ]
  },
  {
   "cell_type": "code",
   "execution_count": 49,
   "id": "adjacent-kennedy",
   "metadata": {},
   "outputs": [
    {
     "name": "stdout",
     "output_type": "stream",
     "text": [
      "[3, 5, 3]\n"
     ]
    }
   ],
   "source": [
    "q.enqueue(3) "
   ]
  },
  {
   "cell_type": "code",
   "execution_count": 50,
   "id": "surprised-collect",
   "metadata": {},
   "outputs": [
    {
     "name": "stdout",
     "output_type": "stream",
     "text": [
      "3 has been removed from the queue\n",
      "[5, 3]\n"
     ]
    }
   ],
   "source": [
    "q.dequeue() "
   ]
  },
  {
   "cell_type": "code",
   "execution_count": 51,
   "id": "assigned-import",
   "metadata": {},
   "outputs": [
    {
     "name": "stdout",
     "output_type": "stream",
     "text": [
      "[5, 3, 2]\n"
     ]
    }
   ],
   "source": [
    "q.enqueue(2) "
   ]
  },
  {
   "cell_type": "code",
   "execution_count": 52,
   "id": "concrete-maine",
   "metadata": {},
   "outputs": [
    {
     "name": "stdout",
     "output_type": "stream",
     "text": [
      "[5, 3, 2, 8]\n"
     ]
    }
   ],
   "source": [
    "q.enqueue(8)"
   ]
  },
  {
   "cell_type": "code",
   "execution_count": 53,
   "id": "worse-gardening",
   "metadata": {},
   "outputs": [
    {
     "name": "stdout",
     "output_type": "stream",
     "text": [
      "5 has been removed from the queue\n",
      "[3, 2, 8]\n"
     ]
    }
   ],
   "source": [
    "q.dequeue() "
   ]
  },
  {
   "cell_type": "code",
   "execution_count": 54,
   "id": "surrounded-friend",
   "metadata": {},
   "outputs": [
    {
     "name": "stdout",
     "output_type": "stream",
     "text": [
      "[3, 2, 8, 9]\n"
     ]
    }
   ],
   "source": [
    "q.enqueue(9) "
   ]
  },
  {
   "cell_type": "code",
   "execution_count": 55,
   "id": "personalized-tunnel",
   "metadata": {},
   "outputs": [
    {
     "name": "stdout",
     "output_type": "stream",
     "text": [
      "[3, 2, 8, 9, 1]\n"
     ]
    }
   ],
   "source": [
    "q.enqueue(1) "
   ]
  },
  {
   "cell_type": "code",
   "execution_count": 56,
   "id": "beautiful-matthew",
   "metadata": {},
   "outputs": [
    {
     "name": "stdout",
     "output_type": "stream",
     "text": [
      "3 has been removed from the queue\n",
      "[2, 8, 9, 1]\n"
     ]
    }
   ],
   "source": [
    "q.dequeue()"
   ]
  },
  {
   "cell_type": "code",
   "execution_count": 57,
   "id": "waiting-grove",
   "metadata": {},
   "outputs": [
    {
     "name": "stdout",
     "output_type": "stream",
     "text": [
      "[2, 8, 9, 1, 7]\n"
     ]
    }
   ],
   "source": [
    "q.enqueue(7) "
   ]
  },
  {
   "cell_type": "code",
   "execution_count": 58,
   "id": "junior-resolution",
   "metadata": {},
   "outputs": [
    {
     "name": "stdout",
     "output_type": "stream",
     "text": [
      "[2, 8, 9, 1, 7, 6]\n"
     ]
    }
   ],
   "source": [
    "q.enqueue(6) "
   ]
  },
  {
   "cell_type": "code",
   "execution_count": 59,
   "id": "threatened-member",
   "metadata": {},
   "outputs": [
    {
     "name": "stdout",
     "output_type": "stream",
     "text": [
      "2 has been removed from the queue\n",
      "[8, 9, 1, 7, 6]\n"
     ]
    }
   ],
   "source": [
    "q.dequeue() "
   ]
  },
  {
   "cell_type": "code",
   "execution_count": 60,
   "id": "differential-frontier",
   "metadata": {},
   "outputs": [
    {
     "name": "stdout",
     "output_type": "stream",
     "text": [
      "8 has been removed from the queue\n",
      "[9, 1, 7, 6]\n"
     ]
    }
   ],
   "source": [
    "q.dequeue() "
   ]
  },
  {
   "cell_type": "code",
   "execution_count": 61,
   "id": "dirty-conversation",
   "metadata": {},
   "outputs": [
    {
     "name": "stdout",
     "output_type": "stream",
     "text": [
      "[9, 1, 7, 6, 4]\n"
     ]
    }
   ],
   "source": [
    "q.enqueue(4)"
   ]
  },
  {
   "cell_type": "code",
   "execution_count": 62,
   "id": "pursuant-favor",
   "metadata": {},
   "outputs": [
    {
     "name": "stdout",
     "output_type": "stream",
     "text": [
      "9 has been removed from the queue\n",
      "[1, 7, 6, 4]\n"
     ]
    }
   ],
   "source": [
    "q.dequeue() "
   ]
  },
  {
   "cell_type": "code",
   "execution_count": 63,
   "id": "informational-thompson",
   "metadata": {},
   "outputs": [
    {
     "name": "stdout",
     "output_type": "stream",
     "text": [
      "1 has been removed from the queue\n",
      "[7, 6, 4]\n"
     ]
    }
   ],
   "source": [
    "q.dequeue()"
   ]
  },
  {
   "cell_type": "markdown",
   "id": "appropriate-compromise",
   "metadata": {},
   "source": [
    "### Q3."
   ]
  },
  {
   "cell_type": "markdown",
   "id": "cheap-batman",
   "metadata": {},
   "source": [
    "After performing 50 enqueue operations 15 top operations 15 dequeue operations 5 of which raised errors we are left with a queue of 40 elements.<br>\n",
    "An example queue:<br>\n",
    "[1,2, 3,4, 5,6,7,8,9,10,11,12,13,14,15,16, 17,18,19,20,21,22,23,24,25,26,27,28,29,30,31,32,33,34,35,36,37,38,39,40]\n"
   ]
  },
  {
   "cell_type": "markdown",
   "id": "prerequisite-tracker",
   "metadata": {},
   "source": [
    "## <center> Conclusion</center>"
   ]
  },
  {
   "cell_type": "markdown",
   "id": "atlantic-preliminary",
   "metadata": {},
   "source": [
    "Throughout this report we have examined Linked lists, stacks, and queue data structures. Both stack and queue were implemented using an array data structure which is a list in python. Linked lists and array data structures have their pros and cons, and it very much depends on the intended use as to which would be more advantageous to choose.<br>\n",
    "Linked lists are by far the better choice if your data is flexible as only memory required will be utilised. Linked lists also perform better with insertion and deletion of elements than arrays.<br>\n",
    "Arrays would be more efficient if fast access to specified elements are needed by providing the index position. In Arrays the insertion and deletion of elements can be expensive due to memory management where the other elements need to shift position to account for these operations.<br>"
   ]
  },
  {
   "cell_type": "code",
   "execution_count": null,
   "id": "scientific-destruction",
   "metadata": {},
   "outputs": [],
   "source": []
  },
  {
   "cell_type": "code",
   "execution_count": null,
   "id": "proprietary-marker",
   "metadata": {},
   "outputs": [],
   "source": []
  },
  {
   "cell_type": "code",
   "execution_count": null,
   "id": "patent-genius",
   "metadata": {},
   "outputs": [],
   "source": []
  },
  {
   "cell_type": "code",
   "execution_count": null,
   "id": "leading-price",
   "metadata": {},
   "outputs": [],
   "source": []
  },
  {
   "cell_type": "code",
   "execution_count": null,
   "id": "metallic-integral",
   "metadata": {},
   "outputs": [],
   "source": []
  }
 ],
 "metadata": {
  "kernelspec": {
   "display_name": "Python 3",
   "language": "python",
   "name": "python3"
  },
  "language_info": {
   "codemirror_mode": {
    "name": "ipython",
    "version": 3
   },
   "file_extension": ".py",
   "mimetype": "text/x-python",
   "name": "python",
   "nbconvert_exporter": "python",
   "pygments_lexer": "ipython3",
   "version": "3.8.3"
  }
 },
 "nbformat": 4,
 "nbformat_minor": 5
}
