{
 "cells": [
  {
   "cell_type": "code",
   "execution_count": 1,
   "id": "37481fe1",
   "metadata": {},
   "outputs": [],
   "source": [
    "import numpy as np\n",
    "import matplotlib.pyplot as plt\n",
    "from math import sin\n",
    "from sklearn.model_selection import train_test_split\n",
    "import random\n",
    "import time\n",
    "import sys\n",
    "import pandas as pd"
   ]
  },
  {
   "cell_type": "code",
   "execution_count": 2,
   "id": "a7ca2d32",
   "metadata": {},
   "outputs": [
    {
     "name": "stdout",
     "output_type": "stream",
     "text": [
      "[[0.37454012 0.95071431]\n",
      " [0.73199394 0.59865848]\n",
      " [0.15601864 0.15599452]\n",
      " [0.05808361 0.86617615]]\n"
     ]
    }
   ],
   "source": [
    "np.random.seed(42)\n",
    "#XOR inputs\n",
    "x = np.array([[0,0], [1,1], [1,0],[0,1]])\n",
    "x=x.T\n",
    "#XOR outputs\n",
    "y = np.array([[0], [0], [1],[1]])\n",
    "y=y.T\n",
    "#Number of iputs\n",
    "NI = x.shape[0]\n",
    "#Number of hidden layers\n",
    "NH = 4\n",
    "#Number of outputs\n",
    "NO = 1\n",
    "#total training examples\n",
    "m=x.shape[1]\n",
    "lr=0.2\n",
    "w1 = np.random.rand(NH,NI)   # Weight matrix for hidden layer\n",
    "print(w1)\n",
    "w2 = np.random.rand(NO,NH)   # Weight matrix for output layer\n",
    "losses=[]\n",
    "\n",
    "epochs = 5000\n",
    "x_plot=[]\n",
    "for i in range(epochs):\n",
    "    x_plot.append(i)"
   ]
  },
  {
   "cell_type": "code",
   "execution_count": 3,
   "id": "bc9f7dd0",
   "metadata": {},
   "outputs": [
    {
     "data": {
      "text/plain": [
       "(2, 4)"
      ]
     },
     "execution_count": 3,
     "metadata": {},
     "output_type": "execute_result"
    }
   ],
   "source": [
    "x.shape"
   ]
  },
  {
   "cell_type": "code",
   "execution_count": 4,
   "id": "5bd34c27",
   "metadata": {},
   "outputs": [
    {
     "data": {
      "text/plain": [
       "(1, 4)"
      ]
     },
     "execution_count": 4,
     "metadata": {},
     "output_type": "execute_result"
    }
   ],
   "source": [
    "y.shape"
   ]
  },
  {
   "cell_type": "code",
   "execution_count": 5,
   "id": "b840ca93",
   "metadata": {},
   "outputs": [
    {
     "data": {
      "text/plain": [
       "(4, 2)"
      ]
     },
     "execution_count": 5,
     "metadata": {},
     "output_type": "execute_result"
    }
   ],
   "source": [
    "w1.shape"
   ]
  },
  {
   "cell_type": "code",
   "execution_count": 6,
   "id": "eb00acab",
   "metadata": {},
   "outputs": [
    {
     "data": {
      "text/plain": [
       "(1, 4)"
      ]
     },
     "execution_count": 6,
     "metadata": {},
     "output_type": "execute_result"
    }
   ],
   "source": [
    "w2.shape"
   ]
  },
  {
   "cell_type": "code",
   "execution_count": 7,
   "id": "59f64045",
   "metadata": {},
   "outputs": [],
   "source": [
    "class NN():\n",
    "    # I used sigmoid activation function for hidden layer and output\n",
    "    def sigmoid(self,z):\n",
    "        z= 1/(1+np.exp(-z))\n",
    "        return z\n",
    "\n",
    "    # Forward propagation\n",
    "    #sends the input through the network from the input layer through the hidden units and finally to the output layer.\n",
    "    def forward_prop(self,w1,w2,x):\n",
    "        z1 = np.dot(w1,x)\n",
    "        a1 = self.sigmoid(z1)    \n",
    "        z2 = np.dot(w2,a1)\n",
    "        a2 = self.sigmoid(z2)\n",
    "        return z1,a1,z2,a2\n",
    "\n",
    "    # Backward propagation\n",
    "    #the data is sent through this in training it goes from the output layer all the way back through the netwrok before\n",
    "    #outputting the results.\n",
    "    def back_prop(self,m,w1,w2,z1,a1,z2,a2,y):\n",
    "        #output layer\n",
    "        dz2 = a2-y\n",
    "        dw2 = np.dot(dz2,a1.T)/m\n",
    "        dz1 = np.dot(w2.T,dz2) * a1*(1-a1)\n",
    "        dw1 = np.dot(dz1,x.T)/m\n",
    "        dw1 = np.reshape(dw1,w1.shape)\n",
    "        dw2 = np.reshape(dw2,w2.shape)    \n",
    "        return dz2,dw2,dz1,dw1\n"
   ]
  },
  {
   "cell_type": "code",
   "execution_count": 8,
   "id": "8c0a0307",
   "metadata": {},
   "outputs": [],
   "source": [
    "NN=NN()"
   ]
  },
  {
   "cell_type": "code",
   "execution_count": 9,
   "id": "0896d102",
   "metadata": {},
   "outputs": [
    {
     "name": "stdout",
     "output_type": "stream",
     "text": [
      "Error at epoch 0 is 0.93648\n",
      "Error at epoch 100 is 0.69287\n",
      "Error at epoch 200 is 0.69262\n",
      "Error at epoch 300 is 0.69235\n",
      "Error at epoch 400 is 0.69203\n",
      "Error at epoch 500 is 0.69160\n",
      "Error at epoch 600 is 0.69101\n",
      "Error at epoch 700 is 0.69010\n",
      "Error at epoch 800 is 0.68863\n",
      "Error at epoch 900 is 0.68611\n",
      "Error at epoch 1000 is 0.68166\n",
      "Error at epoch 1100 is 0.67394\n",
      "Error at epoch 1200 is 0.66148\n",
      "Error at epoch 1300 is 0.64365\n",
      "Error at epoch 1400 is 0.62132\n",
      "Error at epoch 1500 is 0.59631\n",
      "Error at epoch 1600 is 0.57022\n",
      "Error at epoch 1700 is 0.54391\n",
      "Error at epoch 1800 is 0.51756\n",
      "Error at epoch 1900 is 0.49075\n",
      "Error at epoch 2000 is 0.46236\n",
      "Error at epoch 2100 is 0.43058\n",
      "Error at epoch 2200 is 0.39358\n",
      "Error at epoch 2300 is 0.35143\n",
      "Error at epoch 2400 is 0.30734\n",
      "Error at epoch 2500 is 0.26578\n",
      "Error at epoch 2600 is 0.22960\n",
      "Error at epoch 2700 is 0.19953\n",
      "Error at epoch 2800 is 0.17502\n",
      "Error at epoch 2900 is 0.15510\n",
      "Error at epoch 3000 is 0.13884\n",
      "Error at epoch 3100 is 0.12544\n",
      "Error at epoch 3200 is 0.11427\n",
      "Error at epoch 3300 is 0.10486\n",
      "Error at epoch 3400 is 0.09684\n",
      "Error at epoch 3500 is 0.08995\n",
      "Error at epoch 3600 is 0.08397\n",
      "Error at epoch 3700 is 0.07873\n",
      "Error at epoch 3800 is 0.07411\n",
      "Error at epoch 3900 is 0.07001\n",
      "Error at epoch 4000 is 0.06634\n",
      "Error at epoch 4100 is 0.06304\n",
      "Error at epoch 4200 is 0.06006\n",
      "Error at epoch 4300 is 0.05735\n",
      "Error at epoch 4400 is 0.05488\n",
      "Error at epoch 4500 is 0.05262\n",
      "Error at epoch 4600 is 0.05055\n",
      "Error at epoch 4700 is 0.04863\n",
      "Error at epoch 4800 is 0.04686\n",
      "Error at epoch 4900 is 0.04521\n"
     ]
    }
   ],
   "source": [
    "#loops the data through the neural network for the desired number of epochs and prints the error\n",
    "for i in range(epochs):\n",
    "    z1,a1,z2,a2 = NN.forward_prop(w1,w2,x)\n",
    "    error = np.square(y - a2) / 2\n",
    "    loss = -(1/m)*np.sum(y*np.log(a2)+(1-y)*np.log(1-a2))\n",
    "    #losses.append(loss)\n",
    "    da2,dw2,dz1,dw1 = NN.back_prop(m,w1,w2,z1,a1,z2,a2,y)\n",
    "    #update the weights\n",
    "    w2 = w2-lr*dw2\n",
    "    w1 = w1-lr*dw1\n",
    "    epoch_loss = np.average(loss)\n",
    "    #print the error at every 100 epochs\n",
    "    if i % 100 == 0:\n",
    "        print(f\"Error at epoch {i} is {epoch_loss:.5f}\")\n",
    "    # appending the error of each epoch\n",
    "    losses.append(epoch_loss)\n",
    "  "
   ]
  },
  {
   "cell_type": "code",
   "execution_count": 10,
   "id": "684d5ebb",
   "metadata": {},
   "outputs": [
    {
     "data": {
      "image/png": "[encoded data removed]",
      "text/plain": [
       "<Figure size 1080x504 with 1 Axes>"
      ]
     },
     "metadata": {
      "needs_background": "light"
     },
     "output_type": "display_data"
    }
   ],
   "source": [
    "plt.figure(figsize=(15, 7))\n",
    "plt.plot(x_plot,losses)\n",
    "plt.show()"
   ]
  },
  {
   "cell_type": "code",
   "execution_count": 11,
   "id": "df9bf10f",
   "metadata": {},
   "outputs": [],
   "source": [
    "training_loss=[]\n",
    "def predict(w1,w2,inputs):\n",
    "    z1,a1,z2,a2 = NN.forward_prop(w1,w2,test)\n",
    "    a2 = np.squeeze(a2)\n",
    "    error = np.square(y - a2) / 2\n",
    "    print(f\"Error at epoch {i} is {epoch_loss:.5f}\")\n",
    "    if a2>=0.5:\n",
    "        print(\"For input\", [i[0] for i in inputs], \"output is 1\")# ['{:.2f}'.format(i) for i in x])\n",
    "    else:\n",
    "        print(\"For input\", [i[0] for i in inputs], \"output is 0\")\n",
    "    "
   ]
  },
  {
   "cell_type": "code",
   "execution_count": 12,
   "id": "a47ba322",
   "metadata": {},
   "outputs": [
    {
     "name": "stdout",
     "output_type": "stream",
     "text": [
      "Error at epoch 4999 is 0.04370\n",
      "For input [1, 0] output is 1\n",
      "Error at epoch 4999 is 0.04370\n",
      "For input [0, 0] output is 0\n",
      "Error at epoch 4999 is 0.04370\n",
      "For input [0, 1] output is 1\n",
      "Error at epoch 4999 is 0.04370\n",
      "For input [1, 1] output is 0\n"
     ]
    }
   ],
   "source": [
    "#testing the predictive accuracy of the model\n",
    "test = np.array([[1],[0]])\n",
    "predict(w1,w2,test)\n",
    "test = np.array([[0],[0]])\n",
    "predict(w1,w2,test)\n",
    "test = np.array([[0],[1]])\n",
    "predict(w1,w2,test)\n",
    "test = np.array([[1],[1]])\n",
    "predict(w1,w2,test)"
   ]
  },
  {
   "cell_type": "markdown",
   "id": "f3f98fe0",
   "metadata": {},
   "source": [
    "## Second example\n"
   ]
  },
  {
   "cell_type": "code",
   "execution_count": 13,
   "id": "9d37abde",
   "metadata": {},
   "outputs": [],
   "source": [
    "np.random.seed(42)\n",
    "#XOR inputs\n",
    "x = 2*np.random.rand(400,4)-1\n",
    "#x=x.T\n",
    "#Number of iputs\n",
    "NI = 4\n",
    "#Number of hidden layers\n",
    "NH = 5\n",
    "#Number of outputs\n",
    "NO = 1\n",
    "#total training examples\n",
    "m=x.shape[0]\n",
    "lr=0.01\n",
    "w1 = np.random.rand(NH,NI)   # Weight matrix for hidden layer\n",
    "w2 = np.random.rand(NO,NH)   # Weight matrix for output layer\n",
    "losses=[]\n",
    "epochs = 1100\n",
    "x_plot=[]\n",
    "for i in range(epochs):\n",
    "    x_plot.append(i)"
   ]
  },
  {
   "cell_type": "code",
   "execution_count": 14,
   "id": "07a8c557",
   "metadata": {},
   "outputs": [
    {
     "data": {
      "text/plain": [
       "array([[-0.25091976,  0.90142861,  0.46398788,  0.19731697],\n",
       "       [-0.68796272, -0.68801096, -0.88383278,  0.73235229],\n",
       "       [ 0.20223002,  0.41614516, -0.95883101,  0.9398197 ],\n",
       "       ...,\n",
       "       [-0.14360077,  0.43519553,  0.3848723 ,  0.98251199],\n",
       "       [-0.74321142, -0.7917807 ,  0.44867763,  0.15677383],\n",
       "       [-0.45167867, -0.84116126, -0.8286835 ,  0.78838175]])"
      ]
     },
     "execution_count": 14,
     "metadata": {},
     "output_type": "execute_result"
    }
   ],
   "source": [
    "x"
   ]
  },
  {
   "cell_type": "code",
   "execution_count": 15,
   "id": "9628dc04",
   "metadata": {},
   "outputs": [
    {
     "data": {
      "text/plain": [
       "(400, 4)"
      ]
     },
     "execution_count": 15,
     "metadata": {},
     "output_type": "execute_result"
    }
   ],
   "source": [
    "x.shape"
   ]
  },
  {
   "cell_type": "code",
   "execution_count": 16,
   "id": "301db26a",
   "metadata": {},
   "outputs": [],
   "source": [
    "#Target output for the data\n",
    "y=[]\n",
    "for i in x:\n",
    "    i = sin(i[0]-i[1]+i[2]-i[3])\n",
    "    y.append([i])\n",
    "  "
   ]
  },
  {
   "cell_type": "code",
   "execution_count": 17,
   "id": "3a81c0ea",
   "metadata": {},
   "outputs": [],
   "source": [
    "x=x.T"
   ]
  },
  {
   "cell_type": "code",
   "execution_count": 18,
   "id": "efb2e786",
   "metadata": {},
   "outputs": [
    {
     "data": {
      "text/plain": [
       "array([[-0.25091976, -0.68796272,  0.20223002, ..., -0.14360077,\n",
       "        -0.74321142, -0.45167867],\n",
       "       [ 0.90142861, -0.68801096,  0.41614516, ...,  0.43519553,\n",
       "        -0.7917807 , -0.84116126],\n",
       "       [ 0.46398788, -0.88383278, -0.95883101, ...,  0.3848723 ,\n",
       "         0.44867763, -0.8286835 ],\n",
       "       [ 0.19731697,  0.73235229,  0.9398197 , ...,  0.98251199,\n",
       "         0.15677383,  0.78838175]])"
      ]
     },
     "execution_count": 18,
     "metadata": {},
     "output_type": "execute_result"
    }
   ],
   "source": [
    "x"
   ]
  },
  {
   "cell_type": "code",
   "execution_count": 19,
   "id": "3fd5558e",
   "metadata": {},
   "outputs": [],
   "source": [
    "y=np.array(y)"
   ]
  },
  {
   "cell_type": "code",
   "execution_count": 20,
   "id": "3d1c9fbc",
   "metadata": {},
   "outputs": [],
   "source": [
    "y=y.T"
   ]
  },
  {
   "cell_type": "code",
   "execution_count": 21,
   "id": "1d8b75e2",
   "metadata": {},
   "outputs": [
    {
     "data": {
      "text/plain": [
       "(1, 400)"
      ]
     },
     "execution_count": 21,
     "metadata": {},
     "output_type": "execute_result"
    }
   ],
   "source": [
    "y.shape"
   ]
  },
  {
   "cell_type": "code",
   "execution_count": null,
   "id": "6c7417c2",
   "metadata": {},
   "outputs": [],
   "source": []
  },
  {
   "cell_type": "code",
   "execution_count": 22,
   "id": "039c26c3",
   "metadata": {},
   "outputs": [
    {
     "name": "stdout",
     "output_type": "stream",
     "text": [
      "Error at epoch 0 is 1.44322\n",
      "Error at epoch 100 is 0.79951\n",
      "Error at epoch 200 is 0.45813\n",
      "Error at epoch 300 is 0.26778\n",
      "Error at epoch 400 is 0.14292\n",
      "Error at epoch 500 is 0.04650\n",
      "Error at epoch 600 is -0.03789\n",
      "Error at epoch 700 is -0.11831\n",
      "Error at epoch 800 is -0.19915\n",
      "Error at epoch 900 is -0.28310\n",
      "Error at epoch 1000 is -0.37195\n"
     ]
    }
   ],
   "source": [
    "for i in range(epochs):\n",
    "    \n",
    "    z1,a1,z2,a2 = NN.forward_prop(w1,w2,x)\n",
    "    error = np.square(y - a2) / 2\n",
    "    loss = -(1/m)*np.sum(y*np.log(a2)+(1-y)*np.log(1-a2))\n",
    "    da2,dw2,dz1,dw1 = NN.back_prop(m,w1,w2,z1,a1,z2,a2,y)\n",
    "    w2 = w2-lr*dw2\n",
    "    w1 = w1-lr*dw1\n",
    "    epoch_loss = np.average(loss)\n",
    "    if i % 100 == 0:\n",
    "        print(f\"Error at epoch {i} is {epoch_loss:.5f}\")\n",
    "    # appending the error of each epoch\n",
    "    losses.append(epoch_loss)\n",
    "        "
   ]
  },
  {
   "cell_type": "code",
   "execution_count": 23,
   "id": "e1dbaff3",
   "metadata": {},
   "outputs": [],
   "source": [
    "def predict(w1,w2,inputs):\n",
    "    z1,a1,z2,a2 = NN.forward_prop(w1,w2,test)\n",
    "    a2 = np.squeeze(a2)\n",
    "    error = np.square(test - a2) / 2\n",
    "    loss = -(1/m)*np.sum(test*np.log(a2)+(1-test)*np.log(1-a2))\n",
    "    epoch_loss = np.average(loss)\n",
    "    print(f\"Error at epoch {i} is {epoch_loss:.5f}\")"
   ]
  },
  {
   "cell_type": "code",
   "execution_count": 24,
   "id": "12aaa988",
   "metadata": {},
   "outputs": [
    {
     "data": {
      "image/png": "[encoded data removed]",
      "text/plain": [
       "<Figure size 1080x504 with 1 Axes>"
      ]
     },
     "metadata": {
      "needs_background": "light"
     },
     "output_type": "display_data"
    }
   ],
   "source": [
    "plt.figure(figsize=(15, 7))\n",
    "plt.plot(x_plot,losses)\n",
    "plt.show()"
   ]
  },
  {
   "cell_type": "code",
   "execution_count": 25,
   "id": "4d3daee1",
   "metadata": {},
   "outputs": [
    {
     "data": {
      "text/plain": [
       "(100, 4)"
      ]
     },
     "execution_count": 25,
     "metadata": {},
     "output_type": "execute_result"
    }
   ],
   "source": [
    "test = 2*np.random.rand(100,4)-1\n",
    "test.shape"
   ]
  },
  {
   "cell_type": "code",
   "execution_count": 26,
   "id": "276cac4c",
   "metadata": {},
   "outputs": [],
   "source": [
    "test=test.T"
   ]
  },
  {
   "cell_type": "code",
   "execution_count": 27,
   "id": "9574159b",
   "metadata": {},
   "outputs": [
    {
     "name": "stdout",
     "output_type": "stream",
     "text": [
      "Error at epoch 1099 is 0.21441\n"
     ]
    }
   ],
   "source": [
    "predict(w1,w2,test)"
   ]
  }
 ],
 "metadata": {
  "kernelspec": {
   "display_name": "Python 3",
   "language": "python",
   "name": "python3"
  },
  "language_info": {
   "codemirror_mode": {
    "name": "ipython",
    "version": 3
   },
   "file_extension": ".py",
   "mimetype": "text/x-python",
   "name": "python",
   "nbconvert_exporter": "python",
   "pygments_lexer": "ipython3",
   "version": "3.8.3"
  }
 },
 "nbformat": 4,
 "nbformat_minor": 5
}
